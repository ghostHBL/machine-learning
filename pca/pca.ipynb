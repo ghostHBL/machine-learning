{
 "cells": [
  {
   "cell_type": "markdown",
   "metadata": {},
   "source": [
    "# PCA"
   ]
  },
  {
   "cell_type": "code",
   "execution_count": 117,
   "metadata": {
    "collapsed": true
   },
   "outputs": [],
   "source": [
    "import numpy as np\n",
    "import matplotlib.pyplot as plt"
   ]
  },
  {
   "cell_type": "code",
   "execution_count": 217,
   "metadata": {
    "collapsed": false
   },
   "outputs": [],
   "source": [
    "f = open('testSet.txt')\n",
    "dataset = []\n",
    "for line in f.readlines():\n",
    "    dataset.append([float(i) for i in line.split('\\t')])\n",
    "dataset = np.array(dataset)"
   ]
  },
  {
   "cell_type": "code",
   "execution_count": 218,
   "metadata": {
    "collapsed": false
   },
   "outputs": [
    {
     "data": {
      "text/plain": [
       "array([[ 10.235186,  11.321997],\n",
       "       [ 10.122339,  11.810993],\n",
       "       [  9.190236,   8.904943],\n",
       "       [  9.306371,   9.847394],\n",
       "       [  8.330131,   8.340352],\n",
       "       [ 10.152785,  10.123532],\n",
       "       [ 10.40854 ,  10.821986],\n",
       "       [  9.003615,  10.039206],\n",
       "       [  9.534872,  10.096991],\n",
       "       [  9.498181,  10.825446]])"
      ]
     },
     "execution_count": 218,
     "metadata": {},
     "output_type": "execute_result"
    }
   ],
   "source": [
    "dataset[:10]"
   ]
  },
  {
   "cell_type": "code",
   "execution_count": 219,
   "metadata": {
    "collapsed": false
   },
   "outputs": [
    {
     "data": {
      "image/png": "[encoded data removed]",
      "text/plain": [
       "<matplotlib.figure.Figure at 0x1179fa630>"
      ]
     },
     "metadata": {},
     "output_type": "display_data"
    }
   ],
   "source": [
    "fig = plt.figure()\n",
    "ax = fig.add_subplot(111)\n",
    "ax.scatter(dataset[:, 0], dataset[:, 1])\n",
    "plt.show()"
   ]
  },
  {
   "cell_type": "code",
   "execution_count": 220,
   "metadata": {
    "collapsed": false
   },
   "outputs": [],
   "source": [
    "mean_val = dataset.mean(axis=0)\n",
    "cov_mat = np.cov(dataset - mean_val, rowvar=0)"
   ]
  },
  {
   "cell_type": "code",
   "execution_count": 221,
   "metadata": {
    "collapsed": false
   },
   "outputs": [
    {
     "data": {
      "text/plain": [
       "array([[ 1.05198368,  1.1246314 ],\n",
       "       [ 1.1246314 ,  2.21166499]])"
      ]
     },
     "execution_count": 221,
     "metadata": {},
     "output_type": "execute_result"
    }
   ],
   "source": [
    "cov_mat"
   ]
  },
  {
   "cell_type": "code",
   "execution_count": 222,
   "metadata": {
    "collapsed": false
   },
   "outputs": [],
   "source": [
    "eig_vals, eig_vector = np.linalg.eig(cov_mat)"
   ]
  },
  {
   "cell_type": "code",
   "execution_count": 223,
   "metadata": {
    "collapsed": false
   },
   "outputs": [
    {
     "data": {
      "text/plain": [
       "array([[-0.85389096, -0.52045195],\n",
       "       [ 0.52045195, -0.85389096]])"
      ]
     },
     "execution_count": 223,
     "metadata": {},
     "output_type": "execute_result"
    }
   ],
   "source": [
    "eig_vector"
   ]
  },
  {
   "cell_type": "code",
   "execution_count": 224,
   "metadata": {
    "collapsed": false
   },
   "outputs": [
    {
     "data": {
      "text/plain": [
       "array([ 0.36651371,  2.89713496])"
      ]
     },
     "execution_count": 224,
     "metadata": {},
     "output_type": "execute_result"
    }
   ],
   "source": [
    "eig_vals"
   ]
  },
  {
   "cell_type": "code",
   "execution_count": 225,
   "metadata": {
    "collapsed": false
   },
   "outputs": [
    {
     "data": {
      "image/png": "[encoded data removed]",
      "text/plain": [
       "<matplotlib.figure.Figure at 0x117a7a5f8>"
      ]
     },
     "metadata": {},
     "output_type": "display_data"
    }
   ],
   "source": [
    "new_dataset = np.matmul(dataset - mean_val, eig_vector) #map to the new space\n",
    "fig = plt.figure()\n",
    "ax = fig.add_subplot(111)\n",
    "ax.scatter(new_dataset[:, 0], new_dataset[:, 1])\n",
    "ax.set_aspect(1)\n",
    "plt.show()"
   ]
  },
  {
   "cell_type": "code",
   "execution_count": 226,
   "metadata": {
    "collapsed": false
   },
   "outputs": [
    {
     "data": {
      "text/plain": [
       "array([[  3.66513709e-01,  -1.77813497e-18],\n",
       "       [ -1.77813497e-18,   2.89713496e+00]])"
      ]
     },
     "execution_count": 226,
     "metadata": {},
     "output_type": "execute_result"
    }
   ],
   "source": [
    "np.cov(new_dataset, rowvar=0)"
   ]
  },
  {
   "cell_type": "code",
   "execution_count": 227,
   "metadata": {
    "collapsed": false
   },
   "outputs": [
    {
     "data": {
      "image/png": "[encoded data removed]",
      "text/plain": [
       "<matplotlib.figure.Figure at 0x117503da0>"
      ]
     },
     "metadata": {},
     "output_type": "display_data"
    }
   ],
   "source": [
    "recover = np.matmul(new_dataset, eig_vector.T) # recover the data to the old space\n",
    "fig = plt.figure()\n",
    "ax = fig.add_subplot(111)\n",
    "ax.scatter(recover[:, 0]+mean_val[0], recover[:, 1]+mean_val[1])\n",
    "plt.show()"
   ]
  },
  {
   "cell_type": "code",
   "execution_count": 228,
   "metadata": {
    "collapsed": false
   },
   "outputs": [
    {
     "data": {
      "image/png": "[encoded data removed]",
      "text/plain": [
       "<matplotlib.figure.Figure at 0x1177c4d30>"
      ]
     },
     "metadata": {},
     "output_type": "display_data"
    }
   ],
   "source": [
    "new_dataset2 = np.matmul(dataset - mean_val, eig_vector[:, 1])\n",
    "fig = plt.figure()\n",
    "ax = fig.add_subplot(111)\n",
    "ax.scatter(new_dataset2, new_dataset2)\n",
    "plt.show()"
   ]
  },
  {
   "cell_type": "code",
   "execution_count": 229,
   "metadata": {
    "collapsed": false
   },
   "outputs": [
    {
     "data": {
      "text/plain": [
       "array(2.8971349561751865)"
      ]
     },
     "execution_count": 229,
     "metadata": {},
     "output_type": "execute_result"
    }
   ],
   "source": [
    "np.cov(new_dataset2, rowvar=0)"
   ]
  },
  {
   "cell_type": "code",
   "execution_count": 230,
   "metadata": {
    "collapsed": false
   },
   "outputs": [
    {
     "data": {
      "image/png": "[encoded data removed]",
      "text/plain": [
       "<matplotlib.figure.Figure at 0x12c2c7da0>"
      ]
     },
     "metadata": {},
     "output_type": "display_data"
    }
   ],
   "source": [
    "recover2 = np.matmul(new_dataset2.reshape([-1, 1]), eig_vector[:, 1].reshape([1, -1]))\n",
    "fig = plt.figure()\n",
    "ax = fig.add_subplot(111)\n",
    "ax.scatter(recover2[:, 0]+mean_val[0], recover2[:, 1]+mean_val[1])\n",
    "plt.show()"
   ]
  },
  {
   "cell_type": "code",
   "execution_count": 231,
   "metadata": {
    "collapsed": true
   },
   "outputs": [],
   "source": [
    "def pca(dataset, n):\n",
    "    mean_val = dataset.mean(axis=0)\n",
    "    nor_data = dataset - mean_val\n",
    "    cov = np.cov(nor_data, rowvar=0)\n",
    "    eig_vals, eig_vector = np.linalg.eig(cov)\n",
    "    index_sort = np.argsort(eig_vals)\n",
    "    prim_eig_vector = eig_vector[:, index_sort[:-(n+1):-1]]\n",
    "    new_dataset = np.matmul(nor_data, prim_eig_vector)\n",
    "    return new_dataset"
   ]
  },
  {
   "cell_type": "code",
   "execution_count": 232,
   "metadata": {
    "collapsed": false
   },
   "outputs": [],
   "source": [
    "data_test = pca(dataset, 1)"
   ]
  },
  {
   "cell_type": "code",
   "execution_count": 233,
   "metadata": {
    "collapsed": false
   },
   "outputs": [
    {
     "data": {
      "image/png": "[encoded data removed]",
      "text/plain": [
       "<matplotlib.figure.Figure at 0x12c52f5f8>"
      ]
     },
     "metadata": {},
     "output_type": "display_data"
    }
   ],
   "source": [
    "fig = plt.figure()\n",
    "ax = fig.add_subplot(111)\n",
    "ax.scatter(data_test, data_test)\n",
    "plt.show()"
   ]
  },
  {
   "cell_type": "code",
   "execution_count": 247,
   "metadata": {
    "collapsed": true
   },
   "outputs": [],
   "source": [
    "f = open('secom.data')\n",
    "dataset = []\n",
    "for line in f.readlines():\n",
    "    dataset.append([float(i) for i in line.split(' ')])\n",
    "dataset = np.array(dataset)"
   ]
  },
  {
   "cell_type": "code",
   "execution_count": 253,
   "metadata": {
    "collapsed": false
   },
   "outputs": [
    {
     "data": {
      "text/plain": [
       "array([[  3.03093000e+03,   2.56400000e+03,   2.18773330e+03, ...,\n",
       "                     nan,              nan,              nan],\n",
       "       [  3.09578000e+03,   2.46514000e+03,   2.23042220e+03, ...,\n",
       "          2.01000000e-02,   6.00000000e-03,   2.08204500e+02],\n",
       "       [  2.93261000e+03,   2.55994000e+03,   2.18641110e+03, ...,\n",
       "          4.84000000e-02,   1.48000000e-02,   8.28602000e+01],\n",
       "       ..., \n",
       "       [  2.97881000e+03,   2.37978000e+03,   2.20630000e+03, ...,\n",
       "          8.60000000e-03,   2.50000000e-03,   4.35231000e+01],\n",
       "       [  2.89492000e+03,   2.53201000e+03,   2.17703330e+03, ...,\n",
       "          2.45000000e-02,   7.50000000e-03,   9.34941000e+01],\n",
       "       [  2.94492000e+03,   2.45076000e+03,   2.19544440e+03, ...,\n",
       "          1.62000000e-02,   4.50000000e-03,   1.37784400e+02]])"
      ]
     },
     "execution_count": 253,
     "metadata": {},
     "output_type": "execute_result"
    }
   ],
   "source": [
    "dataset"
   ]
  },
  {
   "cell_type": "code",
   "execution_count": 264,
   "metadata": {
    "collapsed": false
   },
   "outputs": [],
   "source": [
    "for i in range(dataset.shape[1]):\n",
    "    mean_val = np.mean(dataset[~np.isnan(dataset[:, i]), i])\n",
    "    dataset[np.isnan(dataset[:, i]), i] = mean_val"
   ]
  },
  {
   "cell_type": "code",
   "execution_count": 265,
   "metadata": {
    "collapsed": false
   },
   "outputs": [
    {
     "data": {
      "text/plain": [
       "array([[  3.03093000e+03,   2.56400000e+03,   2.18773330e+03, ...,\n",
       "          1.64749042e-02,   5.28333333e-03,   9.96700663e+01],\n",
       "       [  3.09578000e+03,   2.46514000e+03,   2.23042220e+03, ...,\n",
       "          2.01000000e-02,   6.00000000e-03,   2.08204500e+02],\n",
       "       [  2.93261000e+03,   2.55994000e+03,   2.18641110e+03, ...,\n",
       "          4.84000000e-02,   1.48000000e-02,   8.28602000e+01],\n",
       "       ..., \n",
       "       [  2.97881000e+03,   2.37978000e+03,   2.20630000e+03, ...,\n",
       "          8.60000000e-03,   2.50000000e-03,   4.35231000e+01],\n",
       "       [  2.89492000e+03,   2.53201000e+03,   2.17703330e+03, ...,\n",
       "          2.45000000e-02,   7.50000000e-03,   9.34941000e+01],\n",
       "       [  2.94492000e+03,   2.45076000e+03,   2.19544440e+03, ...,\n",
       "          1.62000000e-02,   4.50000000e-03,   1.37784400e+02]])"
      ]
     },
     "execution_count": 265,
     "metadata": {},
     "output_type": "execute_result"
    }
   ],
   "source": [
    "dataset"
   ]
  },
  {
   "cell_type": "code",
   "execution_count": 266,
   "metadata": {
    "collapsed": false
   },
   "outputs": [
    {
     "data": {
      "text/plain": [
       "(1567, 590)"
      ]
     },
     "execution_count": 266,
     "metadata": {},
     "output_type": "execute_result"
    }
   ],
   "source": [
    "dataset.shape"
   ]
  },
  {
   "cell_type": "code",
   "execution_count": 269,
   "metadata": {
    "collapsed": false
   },
   "outputs": [],
   "source": [
    "nor_data = dataset - dataset.mean(axis=0)\n",
    "cov = np.cov(nor_data, rowvar=0)\n",
    "eig_vals, eig_vectors = np.linalg.eig(cov)"
   ]
  },
  {
   "cell_type": "code",
   "execution_count": 272,
   "metadata": {
    "collapsed": false
   },
   "outputs": [
    {
     "data": {
      "text/plain": [
       "array([  5.34151979e+07,   2.17466719e+07,   8.24837662e+06,\n",
       "         2.07388086e+06,   1.31540439e+06,   4.67693557e+05,\n",
       "         2.90863555e+05,   2.83668601e+05,   2.37155830e+05,\n",
       "         2.08513836e+05,   1.96098849e+05,   1.86856549e+05,\n",
       "         1.52422354e+05,   1.13215032e+05,   1.08493848e+05,\n",
       "         1.02849533e+05,   1.00166164e+05,   8.33473762e+04,\n",
       "         8.15850591e+04,   7.76560524e+04,   6.66060410e+04,\n",
       "         6.52620058e+04,   5.96776503e+04,   5.16269933e+04,\n",
       "         5.03324580e+04,   4.54661746e+04,   4.41914029e+04,\n",
       "         4.15532551e+04,   3.55294040e+04,   3.31436743e+04,\n",
       "         2.67385181e+04,   1.47123429e+04,   1.44089194e+04,\n",
       "         1.09321187e+04,   1.04841308e+04,   9.48876548e+03,\n",
       "         8.34665462e+03,   7.22765535e+03,   5.34196392e+03,\n",
       "         4.95614671e+03,   4.23060022e+03,   4.10673182e+03,\n",
       "         3.41199406e+03,   3.24193522e+03,   2.74523635e+03,\n",
       "         2.35027999e+03,   2.16835314e+03,   1.86414157e+03,\n",
       "         1.76741826e+03,   1.70492093e+03,   1.66199683e+03,\n",
       "         1.53948465e+03,   1.33096008e+03,   1.25591691e+03,\n",
       "         1.15509389e+03,   1.12410108e+03,   1.03213798e+03,\n",
       "         1.00972093e+03,   9.50542179e+02,   9.09791361e+02,\n",
       "         8.32001551e+02,   8.08898242e+02,   7.37343627e+02,\n",
       "         6.87596830e+02,   5.64452104e+02,   5.51812250e+02,\n",
       "         5.37209115e+02,   4.93029995e+02,   4.13720573e+02,\n",
       "         3.90222119e+02,   3.37288784e+02,   3.27558605e+02,\n",
       "         3.08869553e+02,   2.46285839e+02,   2.28893093e+02,\n",
       "         1.96447852e+02,   1.75559820e+02,   1.65795169e+02,\n",
       "         1.56428052e+02,   1.39671194e+02,   1.28662864e+02,\n",
       "         1.15624070e+02,   1.08663541e+02,   1.10318239e+02,\n",
       "         1.00695416e+02,   9.80687852e+01,   8.34968275e+01,\n",
       "         7.53025397e+01,   6.89260158e+01,   6.67786503e+01,\n",
       "         6.09412873e+01,   5.30974002e+01,   4.71797825e+01,\n",
       "         4.50701108e+01,   4.41349593e+01,   4.03313416e+01,\n",
       "         3.95741636e+01,   3.74000035e+01,   3.44211326e+01,\n",
       "         3.30031584e+01,   3.03317756e+01,   2.88994580e+01,\n",
       "         2.76478754e+01,   2.57708695e+01,   2.44506430e+01,\n",
       "         2.31640106e+01,   2.26956957e+01,   2.16925102e+01,\n",
       "         2.10114869e+01,   2.00984697e+01,   1.86489543e+01,\n",
       "         1.83733216e+01,   1.72517802e+01,   1.60481189e+01,\n",
       "         1.54406997e+01,   1.48356499e+01,   1.44273357e+01,\n",
       "         1.42318192e+01,   1.35592064e+01,   1.30696836e+01,\n",
       "         1.28193512e+01,   1.22093626e+01,   1.15228376e+01,\n",
       "         1.12141738e+01,   1.02585936e+01,   9.86906139e+00,\n",
       "         9.58794460e+00,   9.41686288e+00,   9.20276340e+00,\n",
       "         8.63791398e+00,   8.20622561e+00,   8.01020114e+00,\n",
       "         7.53391290e+00,   7.33168361e+00,   7.09960245e+00,\n",
       "         7.02149364e+00,   6.76557324e+00,   6.34504733e+00,\n",
       "         6.01919292e+00,   5.81680918e+00,   5.44653788e+00,\n",
       "         5.12338463e+00,   4.79593185e+00,   4.47851795e+00,\n",
       "         4.50369987e+00,   4.27479386e+00,   3.89124198e+00,\n",
       "         3.56466892e+00,   3.32248982e+00,   2.97665360e+00,\n",
       "         2.61425544e+00,   2.31802829e+00,   2.17171124e+00,\n",
       "         1.99239284e+00,   1.96616566e+00,   1.88149281e+00,\n",
       "         1.79228288e+00,   1.71378363e+00,   1.68028783e+00,\n",
       "         1.60686268e+00,   1.47158244e+00,   1.40656712e+00,\n",
       "         1.37808906e+00,   1.27967672e+00,   1.22803716e+00,\n",
       "         1.18531109e+00,   9.38857180e-01,   9.18222054e-01,\n",
       "         8.26265393e-01,   7.96585842e-01,   7.74597255e-01,\n",
       "         7.14002770e-01,   6.79457797e-01,   6.37928310e-01,\n",
       "         6.24646758e-01,   5.34605353e-01,   4.60658687e-01,\n",
       "         4.24265893e-01,   4.08634622e-01,   3.70321764e-01,\n",
       "         3.67016386e-01,   3.35858033e-01,   3.29780397e-01,\n",
       "         2.94348753e-01,   2.84154176e-01,   2.72703994e-01,\n",
       "         2.63265991e-01,   2.45227786e-01,   2.25805135e-01,\n",
       "         2.22331919e-01,   2.13514673e-01,   1.93961935e-01,\n",
       "         1.91647269e-01,   1.83668491e-01,   1.82518017e-01,\n",
       "         1.65310922e-01,   1.57447909e-01,   1.51263974e-01,\n",
       "         1.39427297e-01,   1.32638882e-01,   1.28000027e-01,\n",
       "         1.13559952e-01,   1.12576237e-01,   1.08809771e-01,\n",
       "         1.07136355e-01,   8.60839655e-02,   8.50467792e-02,\n",
       "         8.29254355e-02,   7.03701660e-02,   6.44475619e-02,\n",
       "         6.09866327e-02,   6.05709478e-02,   5.93963958e-02,\n",
       "         5.22163549e-02,   4.92729703e-02,   4.80022983e-02,\n",
       "         4.51487439e-02,   4.30180504e-02,   4.13368324e-02,\n",
       "         4.03281604e-02,   3.91576587e-02,   3.54198873e-02,\n",
       "         3.31199510e-02,   3.13547234e-02,   3.07226509e-02,\n",
       "         2.98354196e-02,   2.81949091e-02,   2.49158051e-02,\n",
       "         2.36374781e-02,   2.28360210e-02,   2.19602047e-02,\n",
       "         2.00166957e-02,   1.86597535e-02,   1.80415918e-02,\n",
       "         1.72261012e-02,   1.60703860e-02,   1.49566735e-02,\n",
       "         1.40165444e-02,   1.31296856e-02,   1.21358005e-02,\n",
       "         1.07166503e-02,   1.01045695e-02,   9.76055340e-03,\n",
       "         9.16740926e-03,   8.78108857e-03,   8.67465278e-03,\n",
       "         8.30918514e-03,   8.05104488e-03,   7.56152126e-03,\n",
       "         7.26347037e-03,   7.31508852e-03,   6.65728354e-03,\n",
       "         6.50769617e-03,   6.28009879e-03,   6.19160730e-03,\n",
       "         5.64130272e-03,   5.30195373e-03,   5.07453702e-03,\n",
       "         4.47372286e-03,   4.32543895e-03,   4.22006582e-03,\n",
       "         3.97065729e-03,   3.75292740e-03,   3.64861290e-03,\n",
       "         3.38915810e-03,   3.27965962e-03,   3.06633825e-03,\n",
       "         2.99206786e-03,   2.83586784e-03,   2.74987243e-03,\n",
       "         2.31066313e-03,   2.26782347e-03,   1.82206662e-03,\n",
       "         1.74955624e-03,   1.69305161e-03,   1.66624597e-03,\n",
       "         1.55346749e-03,   1.51278404e-03,   1.47296801e-03,\n",
       "         1.33617458e-03,   1.30517592e-03,   1.24056353e-03,\n",
       "         1.19823961e-03,   1.14381059e-03,   1.13027458e-03,\n",
       "         1.11081803e-03,   1.08359152e-03,   1.03517496e-03,\n",
       "         1.00164593e-03,   9.50024604e-04,   8.94981182e-04,\n",
       "         8.74363843e-04,   7.98497544e-04,   7.51612219e-04,\n",
       "         6.63964300e-04,   6.21097640e-04,   6.18098603e-04,\n",
       "         5.72611403e-04,   5.57509231e-04,   5.47002381e-04,\n",
       "         5.27195076e-04,   5.11487997e-04,   4.87787872e-04,\n",
       "         4.74249071e-04,   4.52367688e-04,   4.24431101e-04,\n",
       "         4.19119024e-04,   3.72489906e-04,   3.38125455e-04,\n",
       "         3.34002143e-04,   2.97951371e-04,   2.84845901e-04,\n",
       "         2.79038287e-04,   2.77054476e-04,   2.67962796e-04,\n",
       "         2.54815125e-04,   2.29230595e-04,   1.99245436e-04,\n",
       "         1.90381389e-04,   1.84497914e-04,   1.77415683e-04,\n",
       "         1.68160613e-04,   1.63992030e-04,   1.58025552e-04,\n",
       "         1.54226003e-04,   1.46890640e-04,   1.46097434e-04,\n",
       "         1.40079891e-04,   1.35736724e-04,   1.22704034e-04,\n",
       "         1.16752515e-04,   1.14080847e-04,   1.04252869e-04,\n",
       "         9.90265100e-05,   9.66039063e-05,   9.60766568e-05,\n",
       "         9.07003473e-05,   9.16166324e-05,   8.60212631e-05,\n",
       "         8.32654022e-05,   7.70526077e-05,   7.36470021e-05,\n",
       "         7.24998303e-05,   6.80209909e-05,   6.68682700e-05,\n",
       "         6.14500426e-05,   5.99843179e-05,   5.49918002e-05,\n",
       "         5.24646950e-05,   5.13403845e-05,   5.02336252e-05,\n",
       "         4.89288499e-05,   4.51104477e-05,   3.43901592e-05,\n",
       "         3.57776533e-05,   3.80307291e-05,   3.94822852e-05,\n",
       "         4.29823770e-05,   4.18869719e-05,   4.14341559e-05,\n",
       "         2.98089202e-05,   2.72388357e-05,   2.42608885e-05,\n",
       "         2.30962279e-05,   2.27807559e-05,   2.14440814e-05,\n",
       "         1.96208174e-05,   1.91217363e-05,   1.88276186e-05,\n",
       "         1.66549051e-05,   1.46846459e-05,   1.43753346e-05,\n",
       "         1.39779892e-05,   1.21760519e-05,   1.20295835e-05,\n",
       "         1.13426750e-05,   1.09258905e-05,   1.02782992e-05,\n",
       "         1.01021810e-05,   9.72678796e-06,   9.64538301e-06,\n",
       "         9.23630208e-06,   8.93991858e-06,   8.34248012e-06,\n",
       "         6.69282814e-06,   7.36188594e-06,   7.20354828e-06,\n",
       "         6.49477814e-06,   5.31392220e-06,   5.67034892e-06,\n",
       "         5.91044555e-06,   6.00244889e-06,   5.09342484e-06,\n",
       "         4.65422046e-06,   4.45482133e-06,   4.11265577e-06,\n",
       "         3.77558984e-06,   3.65202837e-06,   3.48065949e-06,\n",
       "         2.78847700e-06,   2.66299628e-06,   2.57492503e-06,\n",
       "         2.39210233e-06,   2.06298821e-06,   2.00824521e-06,\n",
       "         1.76373602e-06,   1.58273269e-06,   1.32211395e-06,\n",
       "         1.49813697e-06,   1.44003524e-06,   1.42489429e-06,\n",
       "         1.10002716e-06,   9.01008864e-07,   8.49881106e-07,\n",
       "         7.62521870e-07,   6.57641102e-07,   5.85636641e-07,\n",
       "         5.33937361e-07,   4.16077216e-07,   3.33765858e-07,\n",
       "         2.95575265e-07,   2.54744632e-07,   2.20144574e-07,\n",
       "         1.86314527e-07,   1.77370969e-07,   1.54794345e-07,\n",
       "         1.47331687e-07,   1.39738552e-07,   1.04110968e-07,\n",
       "         1.00786519e-07,   9.38635092e-08,   9.10853319e-08,\n",
       "         8.71546331e-08,   7.48338890e-08,   6.06817434e-08,\n",
       "         5.66479202e-08,   5.24576913e-08,   4.57020635e-08,\n",
       "         2.89942625e-08,   2.60449438e-08,   2.17618742e-08,\n",
       "         2.10987990e-08,   1.75542295e-08,   1.34637033e-08,\n",
       "         1.27167436e-08,   1.23258199e-08,   1.04987513e-08,\n",
       "         9.86367965e-09,   8.49424024e-09,   9.33428132e-09,\n",
       "         7.42192477e-09,   6.46870719e-09,   6.84633853e-09,\n",
       "         5.01137815e-09,   5.76456205e-09,   3.48686503e-09,\n",
       "         2.91267187e-09,   2.77880635e-09,   1.73093445e-09,\n",
       "         1.42391198e-09,   9.24976858e-10,   1.16454717e-09,\n",
       "         1.11815669e-09,   6.95069299e-10,   6.13263664e-10,\n",
       "         2.61910808e-10,   1.80003434e-10,   1.97061825e-10,\n",
       "         5.27508013e-10,  -1.31053414e-15,   4.45136412e-16,\n",
       "         3.50663296e-16,  -5.17347032e-17,  -1.01999346e-19,\n",
       "         0.00000000e+00,   0.00000000e+00,   0.00000000e+00,\n",
       "         0.00000000e+00,   0.00000000e+00,   0.00000000e+00,\n",
       "         0.00000000e+00,   0.00000000e+00,   0.00000000e+00,\n",
       "         0.00000000e+00,   0.00000000e+00,   0.00000000e+00,\n",
       "         0.00000000e+00,   0.00000000e+00,   0.00000000e+00,\n",
       "         0.00000000e+00,   0.00000000e+00,   0.00000000e+00,\n",
       "         0.00000000e+00,   0.00000000e+00,   0.00000000e+00,\n",
       "         0.00000000e+00,   0.00000000e+00,   0.00000000e+00,\n",
       "         0.00000000e+00,   0.00000000e+00,   0.00000000e+00,\n",
       "         0.00000000e+00,   0.00000000e+00,   0.00000000e+00,\n",
       "         0.00000000e+00,   0.00000000e+00,   0.00000000e+00,\n",
       "         0.00000000e+00,   0.00000000e+00,   0.00000000e+00,\n",
       "         0.00000000e+00,   0.00000000e+00,   0.00000000e+00,\n",
       "         0.00000000e+00,   0.00000000e+00,   0.00000000e+00,\n",
       "         0.00000000e+00,   0.00000000e+00,   0.00000000e+00,\n",
       "         0.00000000e+00,   0.00000000e+00,   0.00000000e+00,\n",
       "         0.00000000e+00,   0.00000000e+00,   0.00000000e+00,\n",
       "         0.00000000e+00,   0.00000000e+00,   0.00000000e+00,\n",
       "         0.00000000e+00,   0.00000000e+00,   0.00000000e+00,\n",
       "         0.00000000e+00,   0.00000000e+00,   0.00000000e+00,\n",
       "         0.00000000e+00,   0.00000000e+00,   0.00000000e+00,\n",
       "         0.00000000e+00,   0.00000000e+00,   0.00000000e+00,\n",
       "         0.00000000e+00,   0.00000000e+00,   0.00000000e+00,\n",
       "         0.00000000e+00,   0.00000000e+00,   0.00000000e+00,\n",
       "         0.00000000e+00,   0.00000000e+00,   0.00000000e+00,\n",
       "         0.00000000e+00,   0.00000000e+00,   0.00000000e+00,\n",
       "         0.00000000e+00,   0.00000000e+00,   0.00000000e+00,\n",
       "         0.00000000e+00,   0.00000000e+00,   0.00000000e+00,\n",
       "         0.00000000e+00,   0.00000000e+00,   0.00000000e+00,\n",
       "         0.00000000e+00,   0.00000000e+00,   0.00000000e+00,\n",
       "         0.00000000e+00,   0.00000000e+00,   0.00000000e+00,\n",
       "         0.00000000e+00,   0.00000000e+00,   0.00000000e+00,\n",
       "         0.00000000e+00,   0.00000000e+00,   0.00000000e+00,\n",
       "         0.00000000e+00,   0.00000000e+00,   0.00000000e+00,\n",
       "         0.00000000e+00,   0.00000000e+00,   0.00000000e+00,\n",
       "         0.00000000e+00,   0.00000000e+00,   0.00000000e+00,\n",
       "         0.00000000e+00,   0.00000000e+00,   0.00000000e+00,\n",
       "         0.00000000e+00,   0.00000000e+00,   0.00000000e+00,\n",
       "         0.00000000e+00,   0.00000000e+00])"
      ]
     },
     "execution_count": 272,
     "metadata": {},
     "output_type": "execute_result"
    }
   ],
   "source": [
    "eig_vals"
   ]
  },
  {
   "cell_type": "code",
   "execution_count": 275,
   "metadata": {
    "collapsed": false
   },
   "outputs": [
    {
     "data": {
      "image/png": "[encoded data removed]",
      "text/plain": [
       "<matplotlib.figure.Figure at 0x12c365b00>"
      ]
     },
     "metadata": {},
     "output_type": "display_data"
    }
   ],
   "source": [
    "fig = plt.figure()\n",
    "ax = fig.add_subplot(111)\n",
    "ax.plot(range(1, len(eig_vals)+1), eig_vals)\n",
    "plt.show()"
   ]
  },
  {
   "cell_type": "code",
   "execution_count": 299,
   "metadata": {
    "collapsed": false
   },
   "outputs": [],
   "source": [
    "for i in range(len(eig_vals)):\n",
    "    if sum(eig_vals[:i+1])/sum(eig_vals) > 0.99:\n",
    "        break"
   ]
  },
  {
   "cell_type": "code",
   "execution_count": 300,
   "metadata": {
    "collapsed": false
   },
   "outputs": [
    {
     "data": {
      "text/plain": [
       "16"
      ]
     },
     "execution_count": 300,
     "metadata": {},
     "output_type": "execute_result"
    }
   ],
   "source": [
    "i"
   ]
  },
  {
   "cell_type": "code",
   "execution_count": 304,
   "metadata": {
    "collapsed": false
   },
   "outputs": [
    {
     "data": {
      "image/png": "[encoded data removed]",
      "text/plain": [
       "<matplotlib.figure.Figure at 0x12c3fb860>"
      ]
     },
     "metadata": {},
     "output_type": "display_data"
    }
   ],
   "source": [
    "new_data=pca(dataset, i+1)\n",
    "new_eig_val, _ = np.linalg.eig(np.cov(new_data, rowvar=0))\n",
    "fig = plt.figure()\n",
    "ax = fig.add_subplot(111)\n",
    "ax.plot(range(1, len(new_eig_val)+1), new_eig_val)\n",
    "plt.show()"
   ]
  },
  {
   "cell_type": "code",
   "execution_count": 306,
   "metadata": {
    "collapsed": false
   },
   "outputs": [
    {
     "data": {
      "image/png": "[encoded data removed]",
      "text/plain": [
       "<matplotlib.figure.Figure at 0x12c6dfd68>"
      ]
     },
     "metadata": {},
     "output_type": "display_data"
    }
   ],
   "source": [
    "new_data=pca(dataset, 5)\n",
    "new_eig_val, _ = np.linalg.eig(np.cov(new_data, rowvar=0))\n",
    "fig = plt.figure()\n",
    "ax = fig.add_subplot(111)\n",
    "ax.plot(range(1, len(new_eig_val)+1), new_eig_val)\n",
    "plt.show()"
   ]
  },
  {
   "cell_type": "code",
   "execution_count": null,
   "metadata": {
    "collapsed": true
   },
   "outputs": [],
   "source": []
  }
 ],
 "metadata": {
  "anaconda-cloud": {},
  "kernelspec": {
   "display_name": "Python [python3]",
   "language": "python",
   "name": "Python [python3]"
  },
  "language_info": {
   "codemirror_mode": {
    "name": "ipython",
    "version": 3
   },
   "file_extension": ".py",
   "mimetype": "text/x-python",
   "name": "python",
   "nbconvert_exporter": "python",
   "pygments_lexer": "ipython3",
   "version": "3.6.0"
  }
 },
 "nbformat": 4,
 "nbformat_minor": 0
}
