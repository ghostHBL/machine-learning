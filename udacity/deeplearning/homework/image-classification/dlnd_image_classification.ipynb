{
 "cells": [
  {
   "cell_type": "markdown",
   "metadata": {
    "collapsed": true
   },
   "source": [
    "# Image Classification\n",
    "In this project, you'll classify images from the [CIFAR-10 dataset](https://www.cs.toronto.edu/~kriz/cifar.html).  The dataset consists of airplanes, dogs, cats, and other objects. You'll preprocess the images, then train a convolutional neural network on all the samples. The images need to be normalized and the labels need to be one-hot encoded.  You'll get to apply what you learned and build a convolutional, max pooling, dropout, and fully connected layers.  At the end, you'll get to see your neural network's predictions on the sample images.\n",
    "## Get the Data\n",
    "Run the following cell to download the [CIFAR-10 dataset for python](https://www.cs.toronto.edu/~kriz/cifar-10-python.tar.gz)."
   ]
  },
  {
   "cell_type": "code",
   "execution_count": 2,
   "metadata": {
    "collapsed": false
   },
   "outputs": [
    {
     "name": "stdout",
     "output_type": "stream",
     "text": [
      "All files found!\n"
     ]
    }
   ],
   "source": [
    "\"\"\"\n",
    "DON'T MODIFY ANYTHING IN THIS CELL THAT IS BELOW THIS LINE\n",
    "\"\"\"\n",
    "from urllib.request import urlretrieve\n",
    "from os.path import isfile, isdir\n",
    "from tqdm import tqdm\n",
    "import problem_unittests as tests\n",
    "import tarfile\n",
    "\n",
    "cifar10_dataset_folder_path = 'cifar-10-batches-py'\n",
    "\n",
    "class DLProgress(tqdm):\n",
    "    last_block = 0\n",
    "\n",
    "    def hook(self, block_num=1, block_size=1, total_size=None):\n",
    "        self.total = total_size\n",
    "        self.update((block_num - self.last_block) * block_size)\n",
    "        self.last_block = block_num\n",
    "\n",
    "if not isfile('cifar-10-python.tar.gz'):\n",
    "    with DLProgress(unit='B', unit_scale=True, miniters=1, desc='CIFAR-10 Dataset') as pbar:\n",
    "        urlretrieve(\n",
    "            'https://www.cs.toronto.edu/~kriz/cifar-10-python.tar.gz',\n",
    "            'cifar-10-python.tar.gz',\n",
    "            pbar.hook)\n",
    "\n",
    "if not isdir(cifar10_dataset_folder_path):\n",
    "    with tarfile.open('cifar-10-python.tar.gz') as tar:\n",
    "        tar.extractall()\n",
    "        tar.close()\n",
    "\n",
    "\n",
    "tests.test_folder_path(cifar10_dataset_folder_path)"
   ]
  },
  {
   "cell_type": "markdown",
   "metadata": {},
   "source": [
    "## Explore the Data\n",
    "The dataset is broken into batches to prevent your machine from running out of memory.  The CIFAR-10 dataset consists of 5 batches, named `data_batch_1`, `data_batch_2`, etc.. Each batch contains the labels and images that are one of the following:\n",
    "* airplane\n",
    "* automobile\n",
    "* bird\n",
    "* cat\n",
    "* deer\n",
    "* dog\n",
    "* frog\n",
    "* horse\n",
    "* ship\n",
    "* truck\n",
    "\n",
    "Understanding a dataset is part of making predictions on the data.  Play around with the code cell below by changing the `batch_id` and `sample_id`. The `batch_id` is the id for a batch (1-5). The `sample_id` is the id for a image and label pair in the batch.\n",
    "\n",
    "Ask yourself \"What are all possible labels?\", \"What is the range of values for the image data?\", \"Are the labels in order or random?\".  Answers to questions like these will help you preprocess the data and end up with better predictions."
   ]
  },
  {
   "cell_type": "code",
   "execution_count": 3,
   "metadata": {
    "collapsed": false
   },
   "outputs": [
    {
     "name": "stdout",
     "output_type": "stream",
     "text": [
      "\n",
      "Stats of batch 1:\n",
      "Samples: 10000\n",
      "Label Counts: {0: 1005, 1: 974, 2: 1032, 3: 1016, 4: 999, 5: 937, 6: 1030, 7: 1001, 8: 1025, 9: 981}\n",
      "First 20 Labels: [6, 9, 9, 4, 1, 1, 2, 7, 8, 3, 4, 7, 7, 2, 9, 9, 9, 3, 2, 6]\n",
      "\n",
      "Example of Image 5:\n",
      "Image - Min Value: 0 Max Value: 252\n",
      "Image - Shape: (32, 32, 3)\n",
      "Label - Label Id: 1 Name: automobile\n"
     ]
    },
    {
     "data": {
      "image/png": "[encoded data removed]",
      "text/plain": [
       "<matplotlib.figure.Figure at 0x7ff8dae47c88>"
      ]
     },
     "metadata": {
      "image/png": {
       "height": 250,
       "width": 253
      }
     },
     "output_type": "display_data"
    }
   ],
   "source": [
    "%matplotlib inline\n",
    "%config InlineBackend.figure_format = 'retina'\n",
    "\n",
    "import helper\n",
    "import numpy as np\n",
    "\n",
    "# Explore the dataset\n",
    "batch_id = 1\n",
    "sample_id = 5\n",
    "helper.display_stats(cifar10_dataset_folder_path, batch_id, sample_id)"
   ]
  },
  {
   "cell_type": "markdown",
   "metadata": {},
   "source": [
    "## Implement Preprocess Functions\n",
    "### Normalize\n",
    "In the cell below, implement the `normalize` function to take in image data, `x`, and return it as a normalized Numpy array. The values should be in the range of 0 to 1, inclusive.  The return object should be the same shape as `x`."
   ]
  },
  {
   "cell_type": "code",
   "execution_count": 4,
   "metadata": {
    "collapsed": false
   },
   "outputs": [
    {
     "name": "stdout",
     "output_type": "stream",
     "text": [
      "Tests Passed\n"
     ]
    }
   ],
   "source": [
    "def normalize(x):\n",
    "    \"\"\"\n",
    "    Normalize a list of sample image data in the range of 0 to 1\n",
    "    : x: List of image data.  The image shape is (32, 32, 3)\n",
    "    : return: Numpy array of normalize data\n",
    "    \"\"\"\n",
    "    # TODO: Implement Function\n",
    "    max_value = 255\n",
    "    min_value = 0\n",
    "    return (x-min_value)/(max_value-min_value)\n",
    "\n",
    "\n",
    "\"\"\"\n",
    "DON'T MODIFY ANYTHING IN THIS CELL THAT IS BELOW THIS LINE\n",
    "\"\"\"\n",
    "tests.test_normalize(normalize)"
   ]
  },
  {
   "cell_type": "markdown",
   "metadata": {},
   "source": [
    "### One-hot encode\n",
    "Just like the previous code cell, you'll be implementing a function for preprocessing.  This time, you'll implement the `one_hot_encode` function. The input, `x`, are a list of labels.  Implement the function to return the list of labels as One-Hot encoded Numpy array.  The possible values for labels are 0 to 9. The one-hot encoding function should return the same encoding for each value between each call to `one_hot_encode`.  Make sure to save the map of encodings outside the function.\n",
    "\n",
    "Hint: Don't reinvent the wheel."
   ]
  },
  {
   "cell_type": "code",
   "execution_count": 42,
   "metadata": {
    "collapsed": false
   },
   "outputs": [
    {
     "name": "stdout",
     "output_type": "stream",
     "text": [
      "Tests Passed\n"
     ]
    }
   ],
   "source": [
    "def one_hot_encode(x):\n",
    "    \"\"\"\n",
    "    One hot encode a list of sample labels. Return a one-hot encoded vector for each label.\n",
    "    : x: List of sample Labels\n",
    "    : return: Numpy array of one-hot encoded labels\n",
    "    \"\"\"\n",
    "    # TODO: Implement Function\n",
    "    k = 10 # I think the test function is not good, since I get error when I use k = len(set(x)) which I think is better k\n",
    "    m = len(x)\n",
    "    ret = np.zeros([m, k])\n",
    "    for index in range(m):\n",
    "        ret[index, x[index]] = 1\n",
    "    \n",
    "    '''\n",
    "    #use sklearn\n",
    "    from sklearn import preprocessing\n",
    "    lb = preprocessing.LabelBinarizer()\n",
    "    lb.fit(range(10))\n",
    "    ret = lb.transform(x)\n",
    "    '''\n",
    "    \n",
    "    return ret\n",
    "    \n",
    "\n",
    "\"\"\"\n",
    "DON'T MODIFY ANYTHING IN THIS CELL THAT IS BELOW THIS LINE\n",
    "\"\"\"\n",
    "tests.test_one_hot_encode(one_hot_encode)"
   ]
  },
  {
   "cell_type": "markdown",
   "metadata": {},
   "source": [
    "### Randomize Data\n",
    "As you saw from exploring the data above, the order of the samples are randomized.  It doesn't hurt to randomize it again, but you don't need to for this dataset."
   ]
  },
  {
   "cell_type": "markdown",
   "metadata": {},
   "source": [
    "## Preprocess all the data and save it\n",
    "Running the code cell below will preprocess all the CIFAR-10 data and save it to file. The code below also uses 10% of the training data for validation."
   ]
  },
  {
   "cell_type": "code",
   "execution_count": 43,
   "metadata": {
    "collapsed": false
   },
   "outputs": [],
   "source": [
    "\"\"\"\n",
    "DON'T MODIFY ANYTHING IN THIS CELL\n",
    "\"\"\"\n",
    "# Preprocess Training, Validation, and Testing Data\n",
    "helper.preprocess_and_save_data(cifar10_dataset_folder_path, normalize, one_hot_encode)"
   ]
  },
  {
   "cell_type": "markdown",
   "metadata": {},
   "source": [
    "# Check Point\n",
    "This is your first checkpoint.  If you ever decide to come back to this notebook or have to restart the notebook, you can start from here.  The preprocessed data has been saved to disk."
   ]
  },
  {
   "cell_type": "code",
   "execution_count": 44,
   "metadata": {
    "collapsed": true
   },
   "outputs": [],
   "source": [
    "\"\"\"\n",
    "DON'T MODIFY ANYTHING IN THIS CELL\n",
    "\"\"\"\n",
    "import pickle\n",
    "import problem_unittests as tests\n",
    "import helper\n",
    "\n",
    "# Load the Preprocessed Validation data\n",
    "valid_features, valid_labels = pickle.load(open('preprocess_validation.p', mode='rb'))"
   ]
  },
  {
   "cell_type": "markdown",
   "metadata": {},
   "source": [
    "## Build the network\n",
    "For the neural network, you'll build each layer into a function.  Most of the code you've seen has been outside of functions. To test your code more thoroughly, we require that you put each layer in a function.  This allows us to give you better feedback and test for simple mistakes using our unittests before you submit your project.\n",
    "\n",
    "If you're finding it hard to dedicate enough time for this course a week, we've provided a small shortcut to this part of the project. In the next couple of problems, you'll have the option to use [TensorFlow Layers](https://www.tensorflow.org/api_docs/python/tf/layers) or [TensorFlow Layers (contrib)](https://www.tensorflow.org/api_guides/python/contrib.layers) to build each layer, except \"Convolutional & Max Pooling\" layer.  TF Layers is similar to Keras's and TFLearn's abstraction to layers, so it's easy to pickup.\n",
    "\n",
    "If you would like to get the most of this course, try to solve all the problems without TF Layers.  Let's begin!\n",
    "### Input\n",
    "The neural network needs to read the image data, one-hot encoded labels, and dropout keep probability. Implement the following functions\n",
    "* Implement `neural_net_image_input`\n",
    " * Return a [TF Placeholder](https://www.tensorflow.org/api_docs/python/tf/placeholder)\n",
    " * Set the shape using `image_shape` with batch size set to `None`.\n",
    " * Name the TensorFlow placeholder \"x\" using the TensorFlow `name` parameter in the [TF Placeholder](https://www.tensorflow.org/api_docs/python/tf/placeholder).\n",
    "* Implement `neural_net_label_input`\n",
    " * Return a [TF Placeholder](https://www.tensorflow.org/api_docs/python/tf/placeholder)\n",
    " * Set the shape using `n_classes` with batch size set to `None`.\n",
    " * Name the TensorFlow placeholder \"y\" using the TensorFlow `name` parameter in the [TF Placeholder](https://www.tensorflow.org/api_docs/python/tf/placeholder).\n",
    "* Implement `neural_net_keep_prob_input`\n",
    " * Return a [TF Placeholder](https://www.tensorflow.org/api_docs/python/tf/placeholder) for dropout keep probability.\n",
    " * Name the TensorFlow placeholder \"keep_prob\" using the TensorFlow `name` parameter in the [TF Placeholder](https://www.tensorflow.org/api_docs/python/tf/placeholder).\n",
    "\n",
    "These names will be used at the end of the project to load your saved model.\n",
    "\n",
    "Note: `None` for shapes in TensorFlow allow for a dynamic size."
   ]
  },
  {
   "cell_type": "code",
   "execution_count": 45,
   "metadata": {
    "collapsed": false
   },
   "outputs": [
    {
     "name": "stdout",
     "output_type": "stream",
     "text": [
      "Image Input Tests Passed.\n",
      "Label Input Tests Passed.\n",
      "Keep Prob Tests Passed.\n"
     ]
    }
   ],
   "source": [
    "import tensorflow as tf\n",
    "\n",
    "def neural_net_image_input(image_shape):\n",
    "    \"\"\"\n",
    "    Return a Tensor for a bach of image input\n",
    "    : image_shape: Shape of the images\n",
    "    : return: Tensor for image input.\n",
    "    \"\"\"\n",
    "    # TODO: Implement Function\n",
    "    x = tf.placeholder(tf.float32, shape=[None, image_shape[0], image_shape[1], image_shape[2]], name='x')\n",
    "    return x\n",
    "\n",
    "\n",
    "def neural_net_label_input(n_classes):\n",
    "    \"\"\"\n",
    "    Return a Tensor for a batch of label input\n",
    "    : n_classes: Number of classes\n",
    "    : return: Tensor for label input.\n",
    "    \"\"\"\n",
    "    # TODO: Implement Function\n",
    "    y = tf.placeholder(tf.float32, shape=[None, n_classes], name='y')\n",
    "    return y\n",
    "\n",
    "\n",
    "def neural_net_keep_prob_input():\n",
    "    \"\"\"\n",
    "    Return a Tensor for keep probability\n",
    "    : return: Tensor for keep probability.\n",
    "    \"\"\"\n",
    "    # TODO: Implement Function\n",
    "    return tf.placeholder(tf.float32, name='keep_prob')\n",
    "\n",
    "\n",
    "\"\"\"\n",
    "DON'T MODIFY ANYTHING IN THIS CELL THAT IS BELOW THIS LINE\n",
    "\"\"\"\n",
    "tf.reset_default_graph()\n",
    "tests.test_nn_image_inputs(neural_net_image_input)\n",
    "tests.test_nn_label_inputs(neural_net_label_input)\n",
    "tests.test_nn_keep_prob_inputs(neural_net_keep_prob_input)"
   ]
  },
  {
   "cell_type": "markdown",
   "metadata": {},
   "source": [
    "### Convolution and Max Pooling Layer\n",
    "Convolution layers have a lot of success with images. For this code cell, you should implement the function `conv2d_maxpool` to apply convolution then max pooling:\n",
    "* Create the weight and bias using `conv_ksize`, `conv_num_outputs` and the shape of `x_tensor`.\n",
    "* Apply a convolution to `x_tensor` using weight and `conv_strides`.\n",
    " * We recommend you use same padding, but you're welcome to use any padding.\n",
    "* Add bias\n",
    "* Add a nonlinear activation to the convolution.\n",
    "* Apply Max Pooling using `pool_ksize` and `pool_strides`.\n",
    " * We recommend you use same padding, but you're welcome to use any padding.\n",
    "\n",
    "Note: You **can't** use [TensorFlow Layers](https://www.tensorflow.org/api_docs/python/tf/layers) or [TensorFlow Layers (contrib)](https://www.tensorflow.org/api_guides/python/contrib.layers) for this layer.  You're free to use any TensorFlow package for all the other layers."
   ]
  },
  {
   "cell_type": "code",
   "execution_count": 46,
   "metadata": {
    "collapsed": false
   },
   "outputs": [
    {
     "name": "stdout",
     "output_type": "stream",
     "text": [
      "Tests Passed\n"
     ]
    }
   ],
   "source": [
    "def conv2d_maxpool(x_tensor, conv_num_outputs, conv_ksize, conv_strides, pool_ksize, pool_strides):\n",
    "    \"\"\"\n",
    "    Apply convolution then max pooling to x_tensor\n",
    "    :param x_tensor: TensorFlow Tensor\n",
    "    :param conv_num_outputs: Number of outputs for the convolutional layer\n",
    "    :param conv_strides: Stride 2-D Tuple for convolution\n",
    "    :param pool_ksize: kernal size 2-D Tuple for pool\n",
    "    :param pool_strides: Stride 2-D Tuple for pool\n",
    "    : return: A tensor that represents convolution and max pooling of x_tensor\n",
    "    \"\"\"\n",
    "    # TODO: Implement Function\n",
    "    padding = 'SAME'\n",
    "    w = tf.Variable(tf.truncated_normal([conv_ksize[0], conv_ksize[1], x_tensor.get_shape().as_list()[3],\n",
    "                                         conv_num_outputs], stddev=0.01))\n",
    "    b = tf.Variable(tf.zeros(conv_num_outputs))\n",
    "    conv2d_layer = tf.add(tf.nn.conv2d(x_tensor, w, [1, conv_strides[0], conv_strides[1], 1], padding), b)\n",
    "    conv2d_layer = tf.nn.relu(conv2d_layer)\n",
    "    pool_layer = tf.nn.max_pool(conv2d_layer, [1, pool_ksize[0], pool_ksize[1], 1], \n",
    "                                [1, pool_strides[0] , pool_strides[1], 1], padding)\n",
    "    return pool_layer\n",
    "\n",
    "\n",
    "\"\"\"\n",
    "DON'T MODIFY ANYTHING IN THIS CELL THAT IS BELOW THIS LINE\n",
    "\"\"\"\n",
    "tests.test_con_pool(conv2d_maxpool)"
   ]
  },
  {
   "cell_type": "markdown",
   "metadata": {},
   "source": [
    "### Flatten Layer\n",
    "Implement the `flatten` function to change the dimension of `x_tensor` from a 4-D tensor to a 2-D tensor.  The output should be the shape (*Batch Size*, *Flattened Image Size*). You can use [TensorFlow Layers](https://www.tensorflow.org/api_docs/python/tf/layers) or [TensorFlow Layers (contrib)](https://www.tensorflow.org/api_guides/python/contrib.layers) for this layer."
   ]
  },
  {
   "cell_type": "code",
   "execution_count": 47,
   "metadata": {
    "collapsed": false
   },
   "outputs": [
    {
     "name": "stdout",
     "output_type": "stream",
     "text": [
      "Tests Passed\n"
     ]
    }
   ],
   "source": [
    "def flatten(x_tensor):\n",
    "    \"\"\"\n",
    "    Flatten x_tensor to (Batch Size, Flattened Image Size)\n",
    "    : x_tensor: A tensor of size (Batch Size, ...), where ... are the image dimensions.\n",
    "    : return: A tensor of size (Batch Size, Flattened Image Size).\n",
    "    \"\"\"\n",
    "    # TODO: Implement Function\n",
    "    x_shape = x_tensor.get_shape().as_list()\n",
    "    return tf.reshape(x_tensor, [-1, x_shape[1]*x_shape[2]*x_shape[3]])\n",
    "\n",
    "\n",
    "\"\"\"\n",
    "DON'T MODIFY ANYTHING IN THIS CELL THAT IS BELOW THIS LINE\n",
    "\"\"\"\n",
    "tests.test_flatten(flatten)"
   ]
  },
  {
   "cell_type": "markdown",
   "metadata": {},
   "source": [
    "### Fully-Connected Layer\n",
    "Implement the `fully_conn` function to apply a fully connected layer to `x_tensor` with the shape (*Batch Size*, *num_outputs*). You can use [TensorFlow Layers](https://www.tensorflow.org/api_docs/python/tf/layers) or [TensorFlow Layers (contrib)](https://www.tensorflow.org/api_guides/python/contrib.layers) for this layer."
   ]
  },
  {
   "cell_type": "code",
   "execution_count": 48,
   "metadata": {
    "collapsed": false
   },
   "outputs": [
    {
     "name": "stdout",
     "output_type": "stream",
     "text": [
      "Tests Passed\n"
     ]
    }
   ],
   "source": [
    "def fully_conn(x_tensor, num_outputs):\n",
    "    \"\"\"\n",
    "    Apply a fully connected layer to x_tensor using weight and bias\n",
    "    : x_tensor: A 2-D tensor where the first dimension is batch size.\n",
    "    : num_outputs: The number of output that the new tensor should be.\n",
    "    : return: A 2-D tensor where the second dimension is num_outputs.\n",
    "    \"\"\"\n",
    "    # TODO: Implement Function\n",
    "    w = tf.Variable(tf.truncated_normal([x_tensor.get_shape().as_list()[1], num_outputs],\n",
    "                                        stddev=0.01))\n",
    "    b = tf.Variable(tf.zeros(num_outputs))\n",
    "    return tf.nn.relu(tf.add(tf.matmul(x_tensor, w), b))\n",
    "\n",
    "\n",
    "\"\"\"\n",
    "DON'T MODIFY ANYTHING IN THIS CELL THAT IS BELOW THIS LINE\n",
    "\"\"\"\n",
    "tests.test_fully_conn(fully_conn)"
   ]
  },
  {
   "cell_type": "markdown",
   "metadata": {},
   "source": [
    "### Output Layer\n",
    "Implement the `output` function to apply a fully connected layer to `x_tensor` with the shape (*Batch Size*, *num_outputs*). You can use [TensorFlow Layers](https://www.tensorflow.org/api_docs/python/tf/layers) or [TensorFlow Layers (contrib)](https://www.tensorflow.org/api_guides/python/contrib.layers) for this layer.\n",
    "\n",
    "Note: Activation, softmax, or cross entropy shouldn't be applied to this."
   ]
  },
  {
   "cell_type": "code",
   "execution_count": 49,
   "metadata": {
    "collapsed": false
   },
   "outputs": [
    {
     "name": "stdout",
     "output_type": "stream",
     "text": [
      "Tests Passed\n"
     ]
    }
   ],
   "source": [
    "def output(x_tensor, num_outputs):\n",
    "    \"\"\"\n",
    "    Apply a output layer to x_tensor using weight and bias\n",
    "    : x_tensor: A 2-D tensor where the first dimension is batch size.\n",
    "    : num_outputs: The number of output that the new tensor should be.\n",
    "    : return: A 2-D tensor where the second dimension is num_outputs.\n",
    "    \"\"\"\n",
    "    # TODO: Implement Function\n",
    "    w = tf.Variable(tf.truncated_normal([x_tensor.get_shape().as_list()[1], num_outputs], stddev=0.01))\n",
    "    b = tf.Variable(tf.zeros(num_outputs))\n",
    "    return tf.add(tf.matmul(x_tensor, w), b)\n",
    "\n",
    "\n",
    "\"\"\"\n",
    "DON'T MODIFY ANYTHING IN THIS CELL THAT IS BELOW THIS LINE\n",
    "\"\"\"\n",
    "tests.test_output(output)"
   ]
  },
  {
   "cell_type": "markdown",
   "metadata": {},
   "source": [
    "### Create Convolutional Model\n",
    "Implement the function `conv_net` to create a convolutional neural network model. The function takes in a batch of images, `x`, and outputs logits.  Use the layers you created above to create this model:\n",
    "\n",
    "* Apply 1, 2, or 3 Convolution and Max Pool layers\n",
    "* Apply a Flatten Layer\n",
    "* Apply 1, 2, or 3 Fully Connected Layers\n",
    "* Apply an Output Layer\n",
    "* Return the output\n",
    "* Apply [TensorFlow's Dropout](https://www.tensorflow.org/api_docs/python/tf/nn/dropout) to one or more layers in the model using `keep_prob`. "
   ]
  },
  {
   "cell_type": "code",
   "execution_count": 50,
   "metadata": {
    "collapsed": false
   },
   "outputs": [
    {
     "name": "stdout",
     "output_type": "stream",
     "text": [
      "Neural Network Built!\n"
     ]
    }
   ],
   "source": [
    "def conv_net(x, keep_prob):\n",
    "    \"\"\"\n",
    "    Create a convolutional neural network model\n",
    "    : x: Placeholder tensor that holds image data.\n",
    "    : keep_prob: Placeholder tensor that hold dropout keep probability.\n",
    "    : return: Tensor that represents logits\n",
    "    \"\"\"\n",
    "    # TODO: Apply 1, 2, or 3 Convolution and Max Pool layers\n",
    "    #    Play around with different number of outputs, kernel size and stride\n",
    "    # Function Definition from Above:\n",
    "    #    conv2d_maxpool(x_tensor, conv_num_outputs, conv_ksize, conv_strides, pool_ksize, pool_strides)\n",
    "    conv_layer = conv2d_maxpool(x, 128, (4, 4), (2, 2), (2, 2), (2, 2))\n",
    "    #conv_layer = conv2d_maxpool(x, 256, (4, 4), (2, 2), (2, 2), (2, 2))\n",
    "    \n",
    "    # TODO: Apply a Flatten Layer\n",
    "    # Function Definition from Above:\n",
    "    #   flatten(x_tensor)\n",
    "    flatten_layer = flatten(conv_layer)\n",
    "    #flatten_layer = tf.nn.dropout(flatten_layer, keep_prob)\n",
    "    \n",
    "    # TODO: Apply 1, 2, or 3 Fully Connected Layers\n",
    "    #    Play around with different number of outputs\n",
    "    # Function Definition from Above:\n",
    "    #   fully_conn(x_tensor, num_outputs)\n",
    "    fully_conn_layer = fully_conn(flatten_layer, 512)\n",
    "    fully_conn_layer = tf.nn.dropout(fully_conn_layer, keep_prob)\n",
    "    \n",
    "    #fully_conn_layer = fully_conn(fully_conn_layer, 256)\n",
    "    #fully_conn_layer = tf.nn.dropout(fully_conn_layer, keep_prob)\n",
    "    \n",
    "    # TODO: Apply an Output Layer\n",
    "    #    Set this to the number of classes\n",
    "    # Function Definition from Above:\n",
    "    #   output(x_tensor, num_outputs)\n",
    "    output_layer = output(fully_conn_layer, 10)\n",
    "    \n",
    "    # TODO: return output\n",
    "    return output_layer\n",
    "\n",
    "\n",
    "\"\"\"\n",
    "DON'T MODIFY ANYTHING IN THIS CELL THAT IS BELOW THIS LINE\n",
    "\"\"\"\n",
    "\n",
    "##############################\n",
    "## Build the Neural Network ##\n",
    "##############################\n",
    "\n",
    "# Remove previous weights, bias, inputs, etc..\n",
    "tf.reset_default_graph()\n",
    "\n",
    "# Inputs\n",
    "x = neural_net_image_input((32, 32, 3))\n",
    "y = neural_net_label_input(10)\n",
    "keep_prob = neural_net_keep_prob_input()\n",
    "\n",
    "# Model\n",
    "logits = conv_net(x, keep_prob)\n",
    "\n",
    "# Name logits Tensor, so that is can be loaded from disk after training\n",
    "logits = tf.identity(logits, name='logits')\n",
    "\n",
    "# Loss and Optimizer\n",
    "cost = tf.reduce_mean(tf.nn.softmax_cross_entropy_with_logits(logits=logits, labels=y))\n",
    "optimizer = tf.train.AdamOptimizer().minimize(cost)\n",
    "\n",
    "# Accuracy\n",
    "correct_pred = tf.equal(tf.argmax(logits, 1), tf.argmax(y, 1))\n",
    "accuracy = tf.reduce_mean(tf.cast(correct_pred, tf.float32), name='accuracy')\n",
    "\n",
    "tests.test_conv_net(conv_net)"
   ]
  },
  {
   "cell_type": "markdown",
   "metadata": {},
   "source": [
    "## Train the Neural Network\n",
    "### Single Optimization\n",
    "Implement the function `train_neural_network` to do a single optimization.  The optimization should use `optimizer` to optimize in `session` with a `feed_dict` of the following:\n",
    "* `x` for image input\n",
    "* `y` for labels\n",
    "* `keep_prob` for keep probability for dropout\n",
    "\n",
    "This function will be called for each batch, so `tf.global_variables_initializer()` has already been called.\n",
    "\n",
    "Note: Nothing needs to be returned. This function is only optimizing the neural network."
   ]
  },
  {
   "cell_type": "code",
   "execution_count": 51,
   "metadata": {
    "collapsed": false
   },
   "outputs": [
    {
     "name": "stdout",
     "output_type": "stream",
     "text": [
      "Tests Passed\n"
     ]
    }
   ],
   "source": [
    "def train_neural_network(session, optimizer, keep_probability, feature_batch, label_batch):\n",
    "    \"\"\"\n",
    "    Optimize the session on a batch of images and labels\n",
    "    : session: Current TensorFlow session\n",
    "    : optimizer: TensorFlow optimizer function\n",
    "    : keep_probability: keep probability\n",
    "    : feature_batch: Batch of Numpy image data\n",
    "    : label_batch: Batch of Numpy label data\n",
    "    \"\"\"\n",
    "    # TODO: Implement Function\n",
    "    session.run(optimizer, feed_dict={\n",
    "            x: feature_batch,\n",
    "            y: label_batch,\n",
    "            keep_prob: keep_probability})\n",
    "    pass\n",
    "\n",
    "\n",
    "\"\"\"\n",
    "DON'T MODIFY ANYTHING IN THIS CELL THAT IS BELOW THIS LINE\n",
    "\"\"\"\n",
    "tests.test_train_nn(train_neural_network)"
   ]
  },
  {
   "cell_type": "markdown",
   "metadata": {},
   "source": [
    "### Show Stats\n",
    "Implement the function `print_stats` to print loss and validation accuracy.  Use the global variables `valid_features` and `valid_labels` to calculate validation accuracy.  Use a keep probability of `1.0` to calculate the loss and validation accuracy."
   ]
  },
  {
   "cell_type": "code",
   "execution_count": 52,
   "metadata": {
    "collapsed": false
   },
   "outputs": [],
   "source": [
    "def print_stats(session, feature_batch, label_batch, cost, accuracy):\n",
    "    \"\"\"\n",
    "    Print information about loss and validation accuracy\n",
    "    : session: Current TensorFlow session\n",
    "    : feature_batch: Batch of Numpy image data\n",
    "    : label_batch: Batch of Numpy label data\n",
    "    : cost: TensorFlow cost function\n",
    "    : accuracy: TensorFlow accuracy function\n",
    "    \"\"\"\n",
    "    # TODO: Implement Function\n",
    "    loss = session.run(cost, feed_dict={\n",
    "            x: feature_batch,\n",
    "            y: label_batch,\n",
    "            keep_prob: 1.})\n",
    "    valid_acc = session.run(accuracy, feed_dict={\n",
    "            x: valid_features,\n",
    "            y: valid_labels,\n",
    "            keep_prob: 1.})\n",
    "\n",
    "    print('Loss: {:>8.4f} Validation Accuracy: {:.6f}'.format(\n",
    "            loss,\n",
    "            valid_acc))\n",
    "    pass"
   ]
  },
  {
   "cell_type": "markdown",
   "metadata": {},
   "source": [
    "### Hyperparameters\n",
    "Tune the following parameters:\n",
    "* Set `epochs` to the number of iterations until the network stops learning or start overfitting\n",
    "* Set `batch_size` to the highest number that your machine has memory for.  Most people set them to common sizes of memory:\n",
    " * 64\n",
    " * 128\n",
    " * 256\n",
    " * ...\n",
    "* Set `keep_probability` to the probability of keeping a node using dropout"
   ]
  },
  {
   "cell_type": "code",
   "execution_count": 53,
   "metadata": {
    "collapsed": true
   },
   "outputs": [],
   "source": [
    "# TODO: Tune Parameters\n",
    "epochs = 40\n",
    "batch_size = 256\n",
    "keep_probability = 0.5"
   ]
  },
  {
   "cell_type": "markdown",
   "metadata": {},
   "source": [
    "### Train on a Single CIFAR-10 Batch\n",
    "Instead of training the neural network on all the CIFAR-10 batches of data, let's use a single batch. This should save time while you iterate on the model to get a better accuracy.  Once the final validation accuracy is 50% or greater, run the model on all the data in the next section."
   ]
  },
  {
   "cell_type": "code",
   "execution_count": 54,
   "metadata": {
    "collapsed": false
   },
   "outputs": [
    {
     "name": "stdout",
     "output_type": "stream",
     "text": [
      "Checking the Training on a Single Batch...\n",
      "Epoch  1, CIFAR-10 Batch 1:  Loss:   2.2072 Validation Accuracy: 0.262800\n",
      "Epoch  2, CIFAR-10 Batch 1:  Loss:   2.0763 Validation Accuracy: 0.362200\n",
      "Epoch  3, CIFAR-10 Batch 1:  Loss:   1.8982 Validation Accuracy: 0.405800\n",
      "Epoch  4, CIFAR-10 Batch 1:  Loss:   1.7437 Validation Accuracy: 0.435200\n",
      "Epoch  5, CIFAR-10 Batch 1:  Loss:   1.6252 Validation Accuracy: 0.454000\n",
      "Epoch  6, CIFAR-10 Batch 1:  Loss:   1.4553 Validation Accuracy: 0.462200\n",
      "Epoch  7, CIFAR-10 Batch 1:  Loss:   1.3308 Validation Accuracy: 0.472600\n",
      "Epoch  8, CIFAR-10 Batch 1:  Loss:   1.2178 Validation Accuracy: 0.493800\n",
      "Epoch  9, CIFAR-10 Batch 1:  Loss:   1.1033 Validation Accuracy: 0.498200\n",
      "Epoch 10, CIFAR-10 Batch 1:  Loss:   1.0335 Validation Accuracy: 0.500800\n",
      "Epoch 11, CIFAR-10 Batch 1:  Loss:   0.9112 Validation Accuracy: 0.500600\n",
      "Epoch 12, CIFAR-10 Batch 1:  Loss:   0.8477 Validation Accuracy: 0.510800\n",
      "Epoch 13, CIFAR-10 Batch 1:  Loss:   0.7847 Validation Accuracy: 0.522400\n",
      "Epoch 14, CIFAR-10 Batch 1:  Loss:   0.7536 Validation Accuracy: 0.524600\n",
      "Epoch 15, CIFAR-10 Batch 1:  Loss:   0.6817 Validation Accuracy: 0.532400\n",
      "Epoch 16, CIFAR-10 Batch 1:  Loss:   0.6130 Validation Accuracy: 0.533000\n",
      "Epoch 17, CIFAR-10 Batch 1:  Loss:   0.5600 Validation Accuracy: 0.537400\n",
      "Epoch 18, CIFAR-10 Batch 1:  Loss:   0.5059 Validation Accuracy: 0.536800\n",
      "Epoch 19, CIFAR-10 Batch 1:  Loss:   0.4753 Validation Accuracy: 0.539400\n",
      "Epoch 20, CIFAR-10 Batch 1:  Loss:   0.4531 Validation Accuracy: 0.532600\n",
      "Epoch 21, CIFAR-10 Batch 1:  Loss:   0.4279 Validation Accuracy: 0.528200\n",
      "Epoch 22, CIFAR-10 Batch 1:  Loss:   0.3841 Validation Accuracy: 0.526600\n",
      "Epoch 23, CIFAR-10 Batch 1:  Loss:   0.3079 Validation Accuracy: 0.536400\n",
      "Epoch 24, CIFAR-10 Batch 1:  Loss:   0.2759 Validation Accuracy: 0.542600\n",
      "Epoch 25, CIFAR-10 Batch 1:  Loss:   0.2489 Validation Accuracy: 0.545800\n",
      "Epoch 26, CIFAR-10 Batch 1:  Loss:   0.2224 Validation Accuracy: 0.543600\n",
      "Epoch 27, CIFAR-10 Batch 1:  Loss:   0.1965 Validation Accuracy: 0.556200\n",
      "Epoch 28, CIFAR-10 Batch 1:  Loss:   0.1681 Validation Accuracy: 0.558000\n",
      "Epoch 29, CIFAR-10 Batch 1:  Loss:   0.1622 Validation Accuracy: 0.564600\n",
      "Epoch 30, CIFAR-10 Batch 1:  Loss:   0.1305 Validation Accuracy: 0.561200\n",
      "Epoch 31, CIFAR-10 Batch 1:  Loss:   0.1273 Validation Accuracy: 0.563000\n",
      "Epoch 32, CIFAR-10 Batch 1:  Loss:   0.1034 Validation Accuracy: 0.564000\n",
      "Epoch 33, CIFAR-10 Batch 1:  Loss:   0.1100 Validation Accuracy: 0.565400\n",
      "Epoch 34, CIFAR-10 Batch 1:  Loss:   0.0993 Validation Accuracy: 0.558600\n",
      "Epoch 35, CIFAR-10 Batch 1:  Loss:   0.0846 Validation Accuracy: 0.558000\n",
      "Epoch 36, CIFAR-10 Batch 1:  Loss:   0.0774 Validation Accuracy: 0.569000\n",
      "Epoch 37, CIFAR-10 Batch 1:  Loss:   0.0761 Validation Accuracy: 0.566000\n",
      "Epoch 38, CIFAR-10 Batch 1:  Loss:   0.0718 Validation Accuracy: 0.570200\n",
      "Epoch 39, CIFAR-10 Batch 1:  Loss:   0.0760 Validation Accuracy: 0.560600\n",
      "Epoch 40, CIFAR-10 Batch 1:  Loss:   0.0687 Validation Accuracy: 0.556000\n"
     ]
    }
   ],
   "source": [
    "\"\"\"\n",
    "DON'T MODIFY ANYTHING IN THIS CELL\n",
    "\"\"\"\n",
    "print('Checking the Training on a Single Batch...')\n",
    "with tf.Session() as sess:\n",
    "    # Initializing the variables\n",
    "    sess.run(tf.global_variables_initializer())\n",
    "    \n",
    "    # Training cycle\n",
    "    for epoch in range(epochs):\n",
    "        batch_i = 1\n",
    "        for batch_features, batch_labels in helper.load_preprocess_training_batch(batch_i, batch_size):\n",
    "            train_neural_network(sess, optimizer, keep_probability, batch_features, batch_labels)\n",
    "        print('Epoch {:>2}, CIFAR-10 Batch {}:  '.format(epoch + 1, batch_i), end='')\n",
    "        print_stats(sess, batch_features, batch_labels, cost, accuracy)"
   ]
  },
  {
   "cell_type": "markdown",
   "metadata": {},
   "source": [
    "### Fully Train the Model\n",
    "Now that you got a good accuracy with a single CIFAR-10 batch, try it with all five batches."
   ]
  },
  {
   "cell_type": "code",
   "execution_count": 55,
   "metadata": {
    "collapsed": false
   },
   "outputs": [
    {
     "name": "stdout",
     "output_type": "stream",
     "text": [
      "Training...\n",
      "Epoch  1, CIFAR-10 Batch 1:  Loss:   2.1595 Validation Accuracy: 0.274400\n",
      "Epoch  1, CIFAR-10 Batch 2:  Loss:   1.9084 Validation Accuracy: 0.353400\n",
      "Epoch  1, CIFAR-10 Batch 3:  Loss:   1.5628 Validation Accuracy: 0.392400\n",
      "Epoch  1, CIFAR-10 Batch 4:  Loss:   1.5849 Validation Accuracy: 0.438400\n",
      "Epoch  1, CIFAR-10 Batch 5:  Loss:   1.5706 Validation Accuracy: 0.434800\n",
      "Epoch  2, CIFAR-10 Batch 1:  Loss:   1.7471 Validation Accuracy: 0.466600\n",
      "Epoch  2, CIFAR-10 Batch 2:  Loss:   1.4372 Validation Accuracy: 0.455400\n",
      "Epoch  2, CIFAR-10 Batch 3:  Loss:   1.1518 Validation Accuracy: 0.490000\n",
      "Epoch  2, CIFAR-10 Batch 4:  Loss:   1.3499 Validation Accuracy: 0.507600\n",
      "Epoch  2, CIFAR-10 Batch 5:  Loss:   1.2947 Validation Accuracy: 0.524400\n",
      "Epoch  3, CIFAR-10 Batch 1:  Loss:   1.4979 Validation Accuracy: 0.512800\n",
      "Epoch  3, CIFAR-10 Batch 2:  Loss:   1.2458 Validation Accuracy: 0.529400\n",
      "Epoch  3, CIFAR-10 Batch 3:  Loss:   0.9571 Validation Accuracy: 0.523800\n",
      "Epoch  3, CIFAR-10 Batch 4:  Loss:   1.2169 Validation Accuracy: 0.533600\n",
      "Epoch  3, CIFAR-10 Batch 5:  Loss:   1.1388 Validation Accuracy: 0.550400\n",
      "Epoch  4, CIFAR-10 Batch 1:  Loss:   1.2976 Validation Accuracy: 0.548400\n",
      "Epoch  4, CIFAR-10 Batch 2:  Loss:   1.0407 Validation Accuracy: 0.554400\n",
      "Epoch  4, CIFAR-10 Batch 3:  Loss:   0.8265 Validation Accuracy: 0.547800\n",
      "Epoch  4, CIFAR-10 Batch 4:  Loss:   1.0785 Validation Accuracy: 0.568400\n",
      "Epoch  4, CIFAR-10 Batch 5:  Loss:   1.0163 Validation Accuracy: 0.569600\n",
      "Epoch  5, CIFAR-10 Batch 1:  Loss:   1.1584 Validation Accuracy: 0.569000\n",
      "Epoch  5, CIFAR-10 Batch 2:  Loss:   0.8928 Validation Accuracy: 0.577800\n",
      "Epoch  5, CIFAR-10 Batch 3:  Loss:   0.7002 Validation Accuracy: 0.572000\n",
      "Epoch  5, CIFAR-10 Batch 4:  Loss:   0.9490 Validation Accuracy: 0.586800\n",
      "Epoch  5, CIFAR-10 Batch 5:  Loss:   0.8685 Validation Accuracy: 0.587600\n",
      "Epoch  6, CIFAR-10 Batch 1:  Loss:   0.9672 Validation Accuracy: 0.593600\n",
      "Epoch  6, CIFAR-10 Batch 2:  Loss:   0.7799 Validation Accuracy: 0.597600\n",
      "Epoch  6, CIFAR-10 Batch 3:  Loss:   0.6325 Validation Accuracy: 0.596200\n",
      "Epoch  6, CIFAR-10 Batch 4:  Loss:   0.8196 Validation Accuracy: 0.598600\n",
      "Epoch  6, CIFAR-10 Batch 5:  Loss:   0.7509 Validation Accuracy: 0.606600\n",
      "Epoch  7, CIFAR-10 Batch 1:  Loss:   0.8707 Validation Accuracy: 0.608600\n",
      "Epoch  7, CIFAR-10 Batch 2:  Loss:   0.6914 Validation Accuracy: 0.606200\n",
      "Epoch  7, CIFAR-10 Batch 3:  Loss:   0.5470 Validation Accuracy: 0.608400\n",
      "Epoch  7, CIFAR-10 Batch 4:  Loss:   0.7064 Validation Accuracy: 0.618400\n",
      "Epoch  7, CIFAR-10 Batch 5:  Loss:   0.6321 Validation Accuracy: 0.611800\n",
      "Epoch  8, CIFAR-10 Batch 1:  Loss:   0.7468 Validation Accuracy: 0.617600\n",
      "Epoch  8, CIFAR-10 Batch 2:  Loss:   0.5956 Validation Accuracy: 0.624800\n",
      "Epoch  8, CIFAR-10 Batch 3:  Loss:   0.4819 Validation Accuracy: 0.623600\n",
      "Epoch  8, CIFAR-10 Batch 4:  Loss:   0.6107 Validation Accuracy: 0.629600\n",
      "Epoch  8, CIFAR-10 Batch 5:  Loss:   0.5336 Validation Accuracy: 0.629800\n",
      "Epoch  9, CIFAR-10 Batch 1:  Loss:   0.6710 Validation Accuracy: 0.621200\n",
      "Epoch  9, CIFAR-10 Batch 2:  Loss:   0.5435 Validation Accuracy: 0.631000\n",
      "Epoch  9, CIFAR-10 Batch 3:  Loss:   0.4140 Validation Accuracy: 0.627600\n",
      "Epoch  9, CIFAR-10 Batch 4:  Loss:   0.5423 Validation Accuracy: 0.632600\n",
      "Epoch  9, CIFAR-10 Batch 5:  Loss:   0.4850 Validation Accuracy: 0.637000\n",
      "Epoch 10, CIFAR-10 Batch 1:  Loss:   0.6070 Validation Accuracy: 0.629600\n",
      "Epoch 10, CIFAR-10 Batch 2:  Loss:   0.4842 Validation Accuracy: 0.645800\n",
      "Epoch 10, CIFAR-10 Batch 3:  Loss:   0.3740 Validation Accuracy: 0.627600\n",
      "Epoch 10, CIFAR-10 Batch 4:  Loss:   0.4866 Validation Accuracy: 0.640000\n",
      "Epoch 10, CIFAR-10 Batch 5:  Loss:   0.3986 Validation Accuracy: 0.643000\n",
      "Epoch 11, CIFAR-10 Batch 1:  Loss:   0.5262 Validation Accuracy: 0.636600\n",
      "Epoch 11, CIFAR-10 Batch 2:  Loss:   0.3999 Validation Accuracy: 0.649200\n",
      "Epoch 11, CIFAR-10 Batch 3:  Loss:   0.3363 Validation Accuracy: 0.629600\n",
      "Epoch 11, CIFAR-10 Batch 4:  Loss:   0.4324 Validation Accuracy: 0.630800\n",
      "Epoch 11, CIFAR-10 Batch 5:  Loss:   0.3569 Validation Accuracy: 0.642400\n",
      "Epoch 12, CIFAR-10 Batch 1:  Loss:   0.4672 Validation Accuracy: 0.647800\n",
      "Epoch 12, CIFAR-10 Batch 2:  Loss:   0.3542 Validation Accuracy: 0.652600\n",
      "Epoch 12, CIFAR-10 Batch 3:  Loss:   0.2988 Validation Accuracy: 0.639400\n",
      "Epoch 12, CIFAR-10 Batch 4:  Loss:   0.3557 Validation Accuracy: 0.639800\n",
      "Epoch 12, CIFAR-10 Batch 5:  Loss:   0.3154 Validation Accuracy: 0.644000\n",
      "Epoch 13, CIFAR-10 Batch 1:  Loss:   0.4290 Validation Accuracy: 0.640800\n",
      "Epoch 13, CIFAR-10 Batch 2:  Loss:   0.3024 Validation Accuracy: 0.648800\n",
      "Epoch 13, CIFAR-10 Batch 3:  Loss:   0.2577 Validation Accuracy: 0.648800\n",
      "Epoch 13, CIFAR-10 Batch 4:  Loss:   0.3135 Validation Accuracy: 0.659200\n",
      "Epoch 13, CIFAR-10 Batch 5:  Loss:   0.2827 Validation Accuracy: 0.657600\n",
      "Epoch 14, CIFAR-10 Batch 1:  Loss:   0.3262 Validation Accuracy: 0.655200\n",
      "Epoch 14, CIFAR-10 Batch 2:  Loss:   0.2682 Validation Accuracy: 0.663200\n",
      "Epoch 14, CIFAR-10 Batch 3:  Loss:   0.2201 Validation Accuracy: 0.652400\n",
      "Epoch 14, CIFAR-10 Batch 4:  Loss:   0.2821 Validation Accuracy: 0.659400\n",
      "Epoch 14, CIFAR-10 Batch 5:  Loss:   0.2244 Validation Accuracy: 0.661800\n",
      "Epoch 15, CIFAR-10 Batch 1:  Loss:   0.2906 Validation Accuracy: 0.656200\n",
      "Epoch 15, CIFAR-10 Batch 2:  Loss:   0.2553 Validation Accuracy: 0.658200\n",
      "Epoch 15, CIFAR-10 Batch 3:  Loss:   0.2175 Validation Accuracy: 0.659800\n",
      "Epoch 15, CIFAR-10 Batch 4:  Loss:   0.2287 Validation Accuracy: 0.662600\n",
      "Epoch 15, CIFAR-10 Batch 5:  Loss:   0.1943 Validation Accuracy: 0.671400\n",
      "Epoch 16, CIFAR-10 Batch 1:  Loss:   0.2387 Validation Accuracy: 0.666800\n",
      "Epoch 16, CIFAR-10 Batch 2:  Loss:   0.1951 Validation Accuracy: 0.662800\n",
      "Epoch 16, CIFAR-10 Batch 3:  Loss:   0.1750 Validation Accuracy: 0.659600\n",
      "Epoch 16, CIFAR-10 Batch 4:  Loss:   0.2256 Validation Accuracy: 0.658400\n",
      "Epoch 16, CIFAR-10 Batch 5:  Loss:   0.1797 Validation Accuracy: 0.667400\n",
      "Epoch 17, CIFAR-10 Batch 1:  Loss:   0.2180 Validation Accuracy: 0.674000\n",
      "Epoch 17, CIFAR-10 Batch 2:  Loss:   0.1811 Validation Accuracy: 0.671600\n",
      "Epoch 17, CIFAR-10 Batch 3:  Loss:   0.1698 Validation Accuracy: 0.668200\n",
      "Epoch 17, CIFAR-10 Batch 4:  Loss:   0.1951 Validation Accuracy: 0.663200\n",
      "Epoch 17, CIFAR-10 Batch 5:  Loss:   0.1571 Validation Accuracy: 0.676600\n",
      "Epoch 18, CIFAR-10 Batch 1:  Loss:   0.1758 Validation Accuracy: 0.669200\n",
      "Epoch 18, CIFAR-10 Batch 2:  Loss:   0.1856 Validation Accuracy: 0.665800\n",
      "Epoch 18, CIFAR-10 Batch 3:  Loss:   0.1391 Validation Accuracy: 0.650600\n",
      "Epoch 18, CIFAR-10 Batch 4:  Loss:   0.1794 Validation Accuracy: 0.658200\n",
      "Epoch 18, CIFAR-10 Batch 5:  Loss:   0.1557 Validation Accuracy: 0.672400\n",
      "Epoch 19, CIFAR-10 Batch 1:  Loss:   0.1583 Validation Accuracy: 0.676800\n",
      "Epoch 19, CIFAR-10 Batch 2:  Loss:   0.1502 Validation Accuracy: 0.669400\n",
      "Epoch 19, CIFAR-10 Batch 3:  Loss:   0.1218 Validation Accuracy: 0.664400\n",
      "Epoch 19, CIFAR-10 Batch 4:  Loss:   0.1539 Validation Accuracy: 0.659800\n",
      "Epoch 19, CIFAR-10 Batch 5:  Loss:   0.1251 Validation Accuracy: 0.670600\n",
      "Epoch 20, CIFAR-10 Batch 1:  Loss:   0.1362 Validation Accuracy: 0.673400\n",
      "Epoch 20, CIFAR-10 Batch 2:  Loss:   0.1273 Validation Accuracy: 0.670000\n",
      "Epoch 20, CIFAR-10 Batch 3:  Loss:   0.1149 Validation Accuracy: 0.651200\n",
      "Epoch 20, CIFAR-10 Batch 4:  Loss:   0.1399 Validation Accuracy: 0.660800\n",
      "Epoch 20, CIFAR-10 Batch 5:  Loss:   0.1084 Validation Accuracy: 0.675200\n",
      "Epoch 21, CIFAR-10 Batch 1:  Loss:   0.1257 Validation Accuracy: 0.670600\n",
      "Epoch 21, CIFAR-10 Batch 2:  Loss:   0.1104 Validation Accuracy: 0.670600\n",
      "Epoch 21, CIFAR-10 Batch 3:  Loss:   0.1046 Validation Accuracy: 0.660000\n",
      "Epoch 21, CIFAR-10 Batch 4:  Loss:   0.1327 Validation Accuracy: 0.659000\n",
      "Epoch 21, CIFAR-10 Batch 5:  Loss:   0.0861 Validation Accuracy: 0.672400\n",
      "Epoch 22, CIFAR-10 Batch 1:  Loss:   0.1062 Validation Accuracy: 0.678600\n",
      "Epoch 22, CIFAR-10 Batch 2:  Loss:   0.1027 Validation Accuracy: 0.670800\n",
      "Epoch 22, CIFAR-10 Batch 3:  Loss:   0.0893 Validation Accuracy: 0.663000\n",
      "Epoch 22, CIFAR-10 Batch 4:  Loss:   0.1097 Validation Accuracy: 0.659400\n",
      "Epoch 22, CIFAR-10 Batch 5:  Loss:   0.0701 Validation Accuracy: 0.679000\n",
      "Epoch 23, CIFAR-10 Batch 1:  Loss:   0.0853 Validation Accuracy: 0.684800\n",
      "Epoch 23, CIFAR-10 Batch 2:  Loss:   0.0899 Validation Accuracy: 0.668000\n",
      "Epoch 23, CIFAR-10 Batch 3:  Loss:   0.0905 Validation Accuracy: 0.667400\n",
      "Epoch 23, CIFAR-10 Batch 4:  Loss:   0.0957 Validation Accuracy: 0.672000\n",
      "Epoch 23, CIFAR-10 Batch 5:  Loss:   0.0615 Validation Accuracy: 0.682600\n",
      "Epoch 24, CIFAR-10 Batch 1:  Loss:   0.0765 Validation Accuracy: 0.683600\n",
      "Epoch 24, CIFAR-10 Batch 2:  Loss:   0.0748 Validation Accuracy: 0.661000\n",
      "Epoch 24, CIFAR-10 Batch 3:  Loss:   0.0626 Validation Accuracy: 0.675800\n",
      "Epoch 24, CIFAR-10 Batch 4:  Loss:   0.0691 Validation Accuracy: 0.670200\n",
      "Epoch 24, CIFAR-10 Batch 5:  Loss:   0.0536 Validation Accuracy: 0.683400\n",
      "Epoch 25, CIFAR-10 Batch 1:  Loss:   0.0766 Validation Accuracy: 0.679400\n",
      "Epoch 25, CIFAR-10 Batch 2:  Loss:   0.0707 Validation Accuracy: 0.673200\n",
      "Epoch 25, CIFAR-10 Batch 3:  Loss:   0.0622 Validation Accuracy: 0.676200\n",
      "Epoch 25, CIFAR-10 Batch 4:  Loss:   0.0586 Validation Accuracy: 0.679000\n",
      "Epoch 25, CIFAR-10 Batch 5:  Loss:   0.0560 Validation Accuracy: 0.673200\n",
      "Epoch 26, CIFAR-10 Batch 1:  Loss:   0.0602 Validation Accuracy: 0.684600\n",
      "Epoch 26, CIFAR-10 Batch 2:  Loss:   0.0710 Validation Accuracy: 0.669200\n",
      "Epoch 26, CIFAR-10 Batch 3:  Loss:   0.0445 Validation Accuracy: 0.673800\n",
      "Epoch 26, CIFAR-10 Batch 4:  Loss:   0.0592 Validation Accuracy: 0.671000\n",
      "Epoch 26, CIFAR-10 Batch 5:  Loss:   0.0550 Validation Accuracy: 0.676600\n",
      "Epoch 27, CIFAR-10 Batch 1:  Loss:   0.0581 Validation Accuracy: 0.679200\n",
      "Epoch 27, CIFAR-10 Batch 2:  Loss:   0.0596 Validation Accuracy: 0.658400\n",
      "Epoch 27, CIFAR-10 Batch 3:  Loss:   0.0481 Validation Accuracy: 0.680000\n",
      "Epoch 27, CIFAR-10 Batch 4:  Loss:   0.0500 Validation Accuracy: 0.676400\n",
      "Epoch 27, CIFAR-10 Batch 5:  Loss:   0.0383 Validation Accuracy: 0.682200\n",
      "Epoch 28, CIFAR-10 Batch 1:  Loss:   0.0480 Validation Accuracy: 0.676800\n",
      "Epoch 28, CIFAR-10 Batch 2:  Loss:   0.0460 Validation Accuracy: 0.673400\n",
      "Epoch 28, CIFAR-10 Batch 3:  Loss:   0.0326 Validation Accuracy: 0.680000\n",
      "Epoch 28, CIFAR-10 Batch 4:  Loss:   0.0457 Validation Accuracy: 0.679800\n",
      "Epoch 28, CIFAR-10 Batch 5:  Loss:   0.0357 Validation Accuracy: 0.689200\n",
      "Epoch 29, CIFAR-10 Batch 1:  Loss:   0.0507 Validation Accuracy: 0.675800\n",
      "Epoch 29, CIFAR-10 Batch 2:  Loss:   0.0440 Validation Accuracy: 0.676200\n",
      "Epoch 29, CIFAR-10 Batch 3:  Loss:   0.0358 Validation Accuracy: 0.675400\n",
      "Epoch 29, CIFAR-10 Batch 4:  Loss:   0.0402 Validation Accuracy: 0.674600\n",
      "Epoch 29, CIFAR-10 Batch 5:  Loss:   0.0317 Validation Accuracy: 0.687600\n",
      "Epoch 30, CIFAR-10 Batch 1:  Loss:   0.0306 Validation Accuracy: 0.682200\n",
      "Epoch 30, CIFAR-10 Batch 2:  Loss:   0.0337 Validation Accuracy: 0.680600\n",
      "Epoch 30, CIFAR-10 Batch 3:  Loss:   0.0395 Validation Accuracy: 0.677000\n",
      "Epoch 30, CIFAR-10 Batch 4:  Loss:   0.0331 Validation Accuracy: 0.682000\n",
      "Epoch 30, CIFAR-10 Batch 5:  Loss:   0.0259 Validation Accuracy: 0.681000\n",
      "Epoch 31, CIFAR-10 Batch 1:  Loss:   0.0334 Validation Accuracy: 0.684200\n",
      "Epoch 31, CIFAR-10 Batch 2:  Loss:   0.0313 Validation Accuracy: 0.678800\n",
      "Epoch 31, CIFAR-10 Batch 3:  Loss:   0.0344 Validation Accuracy: 0.681800\n",
      "Epoch 31, CIFAR-10 Batch 4:  Loss:   0.0332 Validation Accuracy: 0.671400\n",
      "Epoch 31, CIFAR-10 Batch 5:  Loss:   0.0198 Validation Accuracy: 0.683400\n",
      "Epoch 32, CIFAR-10 Batch 1:  Loss:   0.0300 Validation Accuracy: 0.687600\n",
      "Epoch 32, CIFAR-10 Batch 2:  Loss:   0.0322 Validation Accuracy: 0.673600\n",
      "Epoch 32, CIFAR-10 Batch 3:  Loss:   0.0357 Validation Accuracy: 0.677400\n",
      "Epoch 32, CIFAR-10 Batch 4:  Loss:   0.0275 Validation Accuracy: 0.673800\n",
      "Epoch 32, CIFAR-10 Batch 5:  Loss:   0.0272 Validation Accuracy: 0.685800\n",
      "Epoch 33, CIFAR-10 Batch 1:  Loss:   0.0256 Validation Accuracy: 0.692200\n",
      "Epoch 33, CIFAR-10 Batch 2:  Loss:   0.0249 Validation Accuracy: 0.659400\n",
      "Epoch 33, CIFAR-10 Batch 3:  Loss:   0.0237 Validation Accuracy: 0.683600\n",
      "Epoch 33, CIFAR-10 Batch 4:  Loss:   0.0272 Validation Accuracy: 0.676800\n",
      "Epoch 33, CIFAR-10 Batch 5:  Loss:   0.0186 Validation Accuracy: 0.679600\n",
      "Epoch 34, CIFAR-10 Batch 1:  Loss:   0.0239 Validation Accuracy: 0.681200\n",
      "Epoch 34, CIFAR-10 Batch 2:  Loss:   0.0233 Validation Accuracy: 0.664800\n",
      "Epoch 34, CIFAR-10 Batch 3:  Loss:   0.0243 Validation Accuracy: 0.679600\n",
      "Epoch 34, CIFAR-10 Batch 4:  Loss:   0.0286 Validation Accuracy: 0.674400\n",
      "Epoch 34, CIFAR-10 Batch 5:  Loss:   0.0175 Validation Accuracy: 0.679200\n",
      "Epoch 35, CIFAR-10 Batch 1:  Loss:   0.0248 Validation Accuracy: 0.688400\n",
      "Epoch 35, CIFAR-10 Batch 2:  Loss:   0.0192 Validation Accuracy: 0.661600\n",
      "Epoch 35, CIFAR-10 Batch 3:  Loss:   0.0187 Validation Accuracy: 0.681400\n",
      "Epoch 35, CIFAR-10 Batch 4:  Loss:   0.0257 Validation Accuracy: 0.670200\n",
      "Epoch 35, CIFAR-10 Batch 5:  Loss:   0.0146 Validation Accuracy: 0.677800\n",
      "Epoch 36, CIFAR-10 Batch 1:  Loss:   0.0257 Validation Accuracy: 0.689400\n",
      "Epoch 36, CIFAR-10 Batch 2:  Loss:   0.0181 Validation Accuracy: 0.660200\n",
      "Epoch 36, CIFAR-10 Batch 3:  Loss:   0.0189 Validation Accuracy: 0.681200\n",
      "Epoch 36, CIFAR-10 Batch 4:  Loss:   0.0206 Validation Accuracy: 0.668400\n",
      "Epoch 36, CIFAR-10 Batch 5:  Loss:   0.0140 Validation Accuracy: 0.680200\n",
      "Epoch 37, CIFAR-10 Batch 1:  Loss:   0.0224 Validation Accuracy: 0.675000\n",
      "Epoch 37, CIFAR-10 Batch 2:  Loss:   0.0147 Validation Accuracy: 0.661200\n",
      "Epoch 37, CIFAR-10 Batch 3:  Loss:   0.0113 Validation Accuracy: 0.686400\n",
      "Epoch 37, CIFAR-10 Batch 4:  Loss:   0.0214 Validation Accuracy: 0.666000\n",
      "Epoch 37, CIFAR-10 Batch 5:  Loss:   0.0123 Validation Accuracy: 0.670600\n",
      "Epoch 38, CIFAR-10 Batch 1:  Loss:   0.0220 Validation Accuracy: 0.680600\n",
      "Epoch 38, CIFAR-10 Batch 2:  Loss:   0.0147 Validation Accuracy: 0.663200\n",
      "Epoch 38, CIFAR-10 Batch 3:  Loss:   0.0119 Validation Accuracy: 0.681200\n",
      "Epoch 38, CIFAR-10 Batch 4:  Loss:   0.0207 Validation Accuracy: 0.649200\n",
      "Epoch 38, CIFAR-10 Batch 5:  Loss:   0.0103 Validation Accuracy: 0.675600\n",
      "Epoch 39, CIFAR-10 Batch 1:  Loss:   0.0145 Validation Accuracy: 0.676200\n",
      "Epoch 39, CIFAR-10 Batch 2:  Loss:   0.0171 Validation Accuracy: 0.669200\n",
      "Epoch 39, CIFAR-10 Batch 3:  Loss:   0.0150 Validation Accuracy: 0.678000\n",
      "Epoch 39, CIFAR-10 Batch 4:  Loss:   0.0255 Validation Accuracy: 0.659800\n",
      "Epoch 39, CIFAR-10 Batch 5:  Loss:   0.0118 Validation Accuracy: 0.681400\n",
      "Epoch 40, CIFAR-10 Batch 1:  Loss:   0.0138 Validation Accuracy: 0.677000\n",
      "Epoch 40, CIFAR-10 Batch 2:  Loss:   0.0095 Validation Accuracy: 0.673600\n",
      "Epoch 40, CIFAR-10 Batch 3:  Loss:   0.0128 Validation Accuracy: 0.678600\n",
      "Epoch 40, CIFAR-10 Batch 4:  Loss:   0.0156 Validation Accuracy: 0.669600\n",
      "Epoch 40, CIFAR-10 Batch 5:  Loss:   0.0099 Validation Accuracy: 0.673800\n"
     ]
    }
   ],
   "source": [
    "\"\"\"\n",
    "DON'T MODIFY ANYTHING IN THIS CELL\n",
    "\"\"\"\n",
    "save_model_path = './image_classification'\n",
    "\n",
    "print('Training...')\n",
    "with tf.Session() as sess:\n",
    "    # Initializing the variables\n",
    "    sess.run(tf.global_variables_initializer())\n",
    "    \n",
    "    # Training cycle\n",
    "    for epoch in range(epochs):\n",
    "        # Loop over all batches\n",
    "        n_batches = 5\n",
    "        for batch_i in range(1, n_batches + 1):\n",
    "            for batch_features, batch_labels in helper.load_preprocess_training_batch(batch_i, batch_size):\n",
    "                train_neural_network(sess, optimizer, keep_probability, batch_features, batch_labels)\n",
    "            print('Epoch {:>2}, CIFAR-10 Batch {}:  '.format(epoch + 1, batch_i), end='')\n",
    "            print_stats(sess, batch_features, batch_labels, cost, accuracy)\n",
    "            \n",
    "    # Save Model\n",
    "    saver = tf.train.Saver()\n",
    "    save_path = saver.save(sess, save_model_path)"
   ]
  },
  {
   "cell_type": "markdown",
   "metadata": {},
   "source": [
    "# Checkpoint\n",
    "The model has been saved to disk.\n",
    "## Test Model\n",
    "Test your model against the test dataset.  This will be your final accuracy. You should have an accuracy greater than 50%. If you don't, keep tweaking the model architecture and parameters."
   ]
  },
  {
   "cell_type": "code",
   "execution_count": 56,
   "metadata": {
    "collapsed": false
   },
   "outputs": [
    {
     "name": "stdout",
     "output_type": "stream",
     "text": [
      "Testing Accuracy: 0.6828125\n",
      "\n"
     ]
    },
    {
     "data": {
      "image/png": "[encoded data removed]",
      "text/plain": [
       "<matplotlib.figure.Figure at 0x7ff8dabb1ef0>"
      ]
     },
     "metadata": {
      "image/png": {
       "height": 319,
       "width": 355
      }
     },
     "output_type": "display_data"
    }
   ],
   "source": [
    "\"\"\"\n",
    "DON'T MODIFY ANYTHING IN THIS CELL\n",
    "\"\"\"\n",
    "%matplotlib inline\n",
    "%config InlineBackend.figure_format = 'retina'\n",
    "\n",
    "import tensorflow as tf\n",
    "import pickle\n",
    "import helper\n",
    "import random\n",
    "\n",
    "# Set batch size if not already set\n",
    "try:\n",
    "    if batch_size:\n",
    "        pass\n",
    "except NameError:\n",
    "    batch_size = 64\n",
    "\n",
    "save_model_path = './image_classification'\n",
    "n_samples = 4\n",
    "top_n_predictions = 3\n",
    "\n",
    "def test_model():\n",
    "    \"\"\"\n",
    "    Test the saved model against the test dataset\n",
    "    \"\"\"\n",
    "\n",
    "    test_features, test_labels = pickle.load(open('preprocess_training.p', mode='rb'))\n",
    "    loaded_graph = tf.Graph()\n",
    "\n",
    "    with tf.Session(graph=loaded_graph) as sess:\n",
    "        # Load model\n",
    "        loader = tf.train.import_meta_graph(save_model_path + '.meta')\n",
    "        loader.restore(sess, save_model_path)\n",
    "\n",
    "        # Get Tensors from loaded model\n",
    "        loaded_x = loaded_graph.get_tensor_by_name('x:0')\n",
    "        loaded_y = loaded_graph.get_tensor_by_name('y:0')\n",
    "        loaded_keep_prob = loaded_graph.get_tensor_by_name('keep_prob:0')\n",
    "        loaded_logits = loaded_graph.get_tensor_by_name('logits:0')\n",
    "        loaded_acc = loaded_graph.get_tensor_by_name('accuracy:0')\n",
    "        \n",
    "        # Get accuracy in batches for memory limitations\n",
    "        test_batch_acc_total = 0\n",
    "        test_batch_count = 0\n",
    "        \n",
    "        for train_feature_batch, train_label_batch in helper.batch_features_labels(test_features, test_labels, batch_size):\n",
    "            test_batch_acc_total += sess.run(\n",
    "                loaded_acc,\n",
    "                feed_dict={loaded_x: train_feature_batch, loaded_y: train_label_batch, loaded_keep_prob: 1.0})\n",
    "            test_batch_count += 1\n",
    "\n",
    "        print('Testing Accuracy: {}\\n'.format(test_batch_acc_total/test_batch_count))\n",
    "\n",
    "        # Print Random Samples\n",
    "        random_test_features, random_test_labels = tuple(zip(*random.sample(list(zip(test_features, test_labels)), n_samples)))\n",
    "        random_test_predictions = sess.run(\n",
    "            tf.nn.top_k(tf.nn.softmax(loaded_logits), top_n_predictions),\n",
    "            feed_dict={loaded_x: random_test_features, loaded_y: random_test_labels, loaded_keep_prob: 1.0})\n",
    "        helper.display_image_predictions(random_test_features, random_test_labels, random_test_predictions)\n",
    "\n",
    "\n",
    "test_model()"
   ]
  },
  {
   "cell_type": "markdown",
   "metadata": {},
   "source": [
    "## Why 50-70% Accuracy?\n",
    "You might be wondering why you can't get an accuracy any higher. First things first, 50% isn't bad for a simple CNN.  Pure guessing would get you 10% accuracy. However, you might notice people are getting scores [well above 70%](http://rodrigob.github.io/are_we_there_yet/build/classification_datasets_results.html#43494641522d3130).  That's because we haven't taught you all there is to know about neural networks. We still need to cover a few more techniques.\n",
    "## Submitting This Project\n",
    "When submitting this project, make sure to run all the cells before saving the notebook.  Save the notebook file as \"dlnd_image_classification.ipynb\" and save it as a HTML file under \"File\" -> \"Download as\".  Include the \"helper.py\" and \"problem_unittests.py\" files in your submission."
   ]
  }
 ],
 "metadata": {
  "kernelspec": {
   "display_name": "Python [python3]",
   "language": "python",
   "name": "Python [python3]"
  },
  "language_info": {
   "codemirror_mode": {
    "name": "ipython",
    "version": 3
   },
   "file_extension": ".py",
   "mimetype": "text/x-python",
   "name": "python",
   "nbconvert_exporter": "python",
   "pygments_lexer": "ipython3",
   "version": "3.6.0"
  },
  "widgets": {
   "state": {},
   "version": "1.1.2"
  }
 },
 "nbformat": 4,
 "nbformat_minor": 0
}
