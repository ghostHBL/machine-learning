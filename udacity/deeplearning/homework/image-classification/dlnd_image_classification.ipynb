{
 "cells": [
  {
   "cell_type": "markdown",
   "metadata": {
    "collapsed": true
   },
   "source": [
    "# Image Classification\n",
    "In this project, you'll classify images from the [CIFAR-10 dataset](https://www.cs.toronto.edu/~kriz/cifar.html).  The dataset consists of airplanes, dogs, cats, and other objects. You'll preprocess the images, then train a convolutional neural network on all the samples. The images need to be normalized and the labels need to be one-hot encoded.  You'll get to apply what you learned and build a convolutional, max pooling, dropout, and fully connected layers.  At the end, you'll get to see your neural network's predictions on the sample images.\n",
    "## Get the Data\n",
    "Run the following cell to download the [CIFAR-10 dataset for python](https://www.cs.toronto.edu/~kriz/cifar-10-python.tar.gz)."
   ]
  },
  {
   "cell_type": "code",
   "execution_count": 2,
   "metadata": {
    "collapsed": false
   },
   "outputs": [
    {
     "name": "stdout",
     "output_type": "stream",
     "text": [
      "All files found!\n"
     ]
    }
   ],
   "source": [
    "\"\"\"\n",
    "DON'T MODIFY ANYTHING IN THIS CELL THAT IS BELOW THIS LINE\n",
    "\"\"\"\n",
    "from urllib.request import urlretrieve\n",
    "from os.path import isfile, isdir\n",
    "from tqdm import tqdm\n",
    "import problem_unittests as tests\n",
    "import tarfile\n",
    "\n",
    "cifar10_dataset_folder_path = 'cifar-10-batches-py'\n",
    "\n",
    "class DLProgress(tqdm):\n",
    "    last_block = 0\n",
    "\n",
    "    def hook(self, block_num=1, block_size=1, total_size=None):\n",
    "        self.total = total_size\n",
    "        self.update((block_num - self.last_block) * block_size)\n",
    "        self.last_block = block_num\n",
    "\n",
    "if not isfile('cifar-10-python.tar.gz'):\n",
    "    with DLProgress(unit='B', unit_scale=True, miniters=1, desc='CIFAR-10 Dataset') as pbar:\n",
    "        urlretrieve(\n",
    "            'https://www.cs.toronto.edu/~kriz/cifar-10-python.tar.gz',\n",
    "            'cifar-10-python.tar.gz',\n",
    "            pbar.hook)\n",
    "\n",
    "if not isdir(cifar10_dataset_folder_path):\n",
    "    with tarfile.open('cifar-10-python.tar.gz') as tar:\n",
    "        tar.extractall()\n",
    "        tar.close()\n",
    "\n",
    "\n",
    "tests.test_folder_path(cifar10_dataset_folder_path)"
   ]
  },
  {
   "cell_type": "markdown",
   "metadata": {},
   "source": [
    "## Explore the Data\n",
    "The dataset is broken into batches to prevent your machine from running out of memory.  The CIFAR-10 dataset consists of 5 batches, named `data_batch_1`, `data_batch_2`, etc.. Each batch contains the labels and images that are one of the following:\n",
    "* airplane\n",
    "* automobile\n",
    "* bird\n",
    "* cat\n",
    "* deer\n",
    "* dog\n",
    "* frog\n",
    "* horse\n",
    "* ship\n",
    "* truck\n",
    "\n",
    "Understanding a dataset is part of making predictions on the data.  Play around with the code cell below by changing the `batch_id` and `sample_id`. The `batch_id` is the id for a batch (1-5). The `sample_id` is the id for a image and label pair in the batch.\n",
    "\n",
    "Ask yourself \"What are all possible labels?\", \"What is the range of values for the image data?\", \"Are the labels in order or random?\".  Answers to questions like these will help you preprocess the data and end up with better predictions."
   ]
  },
  {
   "cell_type": "code",
   "execution_count": 3,
   "metadata": {
    "collapsed": false
   },
   "outputs": [
    {
     "name": "stdout",
     "output_type": "stream",
     "text": [
      "\n",
      "Stats of batch 1:\n",
      "Samples: 10000\n",
      "Label Counts: {0: 1005, 1: 974, 2: 1032, 3: 1016, 4: 999, 5: 937, 6: 1030, 7: 1001, 8: 1025, 9: 981}\n",
      "First 20 Labels: [6, 9, 9, 4, 1, 1, 2, 7, 8, 3, 4, 7, 7, 2, 9, 9, 9, 3, 2, 6]\n",
      "\n",
      "Example of Image 5:\n",
      "Image - Min Value: 0 Max Value: 252\n",
      "Image - Shape: (32, 32, 3)\n",
      "Label - Label Id: 1 Name: automobile\n"
     ]
    },
    {
     "data": {
      "image/png": "[encoded data removed]",
      "text/plain": [
       "<matplotlib.figure.Figure at 0x7f1df278c7f0>"
      ]
     },
     "metadata": {
      "image/png": {
       "height": 250,
       "width": 253
      }
     },
     "output_type": "display_data"
    }
   ],
   "source": [
    "%matplotlib inline\n",
    "%config InlineBackend.figure_format = 'retina'\n",
    "\n",
    "import helper\n",
    "import numpy as np\n",
    "\n",
    "# Explore the dataset\n",
    "batch_id = 1\n",
    "sample_id = 5\n",
    "helper.display_stats(cifar10_dataset_folder_path, batch_id, sample_id)"
   ]
  },
  {
   "cell_type": "markdown",
   "metadata": {},
   "source": [
    "## Implement Preprocess Functions\n",
    "### Normalize\n",
    "In the cell below, implement the `normalize` function to take in image data, `x`, and return it as a normalized Numpy array. The values should be in the range of 0 to 1, inclusive.  The return object should be the same shape as `x`."
   ]
  },
  {
   "cell_type": "code",
   "execution_count": 4,
   "metadata": {
    "collapsed": false
   },
   "outputs": [
    {
     "name": "stdout",
     "output_type": "stream",
     "text": [
      "Tests Passed\n"
     ]
    }
   ],
   "source": [
    "def normalize(x):\n",
    "    \"\"\"\n",
    "    Normalize a list of sample image data in the range of 0 to 1\n",
    "    : x: List of image data.  The image shape is (32, 32, 3)\n",
    "    : return: Numpy array of normalize data\n",
    "    \"\"\"\n",
    "    # TODO: Implement Function\n",
    "    max_value = 255\n",
    "    min_value = 0\n",
    "    return (x-min_value)/(max_value-min_value)\n",
    "\n",
    "\n",
    "\"\"\"\n",
    "DON'T MODIFY ANYTHING IN THIS CELL THAT IS BELOW THIS LINE\n",
    "\"\"\"\n",
    "tests.test_normalize(normalize)"
   ]
  },
  {
   "cell_type": "markdown",
   "metadata": {},
   "source": [
    "### One-hot encode\n",
    "Just like the previous code cell, you'll be implementing a function for preprocessing.  This time, you'll implement the `one_hot_encode` function. The input, `x`, are a list of labels.  Implement the function to return the list of labels as One-Hot encoded Numpy array.  The possible values for labels are 0 to 9. The one-hot encoding function should return the same encoding for each value between each call to `one_hot_encode`.  Make sure to save the map of encodings outside the function.\n",
    "\n",
    "Hint: Don't reinvent the wheel."
   ]
  },
  {
   "cell_type": "code",
   "execution_count": 5,
   "metadata": {
    "collapsed": false
   },
   "outputs": [
    {
     "name": "stdout",
     "output_type": "stream",
     "text": [
      "Tests Passed\n"
     ]
    }
   ],
   "source": [
    "def one_hot_encode(x):\n",
    "    \"\"\"\n",
    "    One hot encode a list of sample labels. Return a one-hot encoded vector for each label.\n",
    "    : x: List of sample Labels\n",
    "    : return: Numpy array of one-hot encoded labels\n",
    "    \"\"\"\n",
    "    # TODO: Implement Function\n",
    "    k = 10 # I think the test function is not good, since I get error when I use k = len(set(x)) which I think is better k\n",
    "    m = len(x)\n",
    "    ret = np.zeros([m, k])\n",
    "    for index in range(m):\n",
    "        ret[index, x[index]] = 1\n",
    "    return ret\n",
    "\n",
    "\n",
    "\"\"\"\n",
    "DON'T MODIFY ANYTHING IN THIS CELL THAT IS BELOW THIS LINE\n",
    "\"\"\"\n",
    "tests.test_one_hot_encode(one_hot_encode)"
   ]
  },
  {
   "cell_type": "markdown",
   "metadata": {},
   "source": [
    "### Randomize Data\n",
    "As you saw from exploring the data above, the order of the samples are randomized.  It doesn't hurt to randomize it again, but you don't need to for this dataset."
   ]
  },
  {
   "cell_type": "markdown",
   "metadata": {},
   "source": [
    "## Preprocess all the data and save it\n",
    "Running the code cell below will preprocess all the CIFAR-10 data and save it to file. The code below also uses 10% of the training data for validation."
   ]
  },
  {
   "cell_type": "code",
   "execution_count": 6,
   "metadata": {
    "collapsed": false
   },
   "outputs": [],
   "source": [
    "\"\"\"\n",
    "DON'T MODIFY ANYTHING IN THIS CELL\n",
    "\"\"\"\n",
    "# Preprocess Training, Validation, and Testing Data\n",
    "helper.preprocess_and_save_data(cifar10_dataset_folder_path, normalize, one_hot_encode)"
   ]
  },
  {
   "cell_type": "markdown",
   "metadata": {},
   "source": [
    "# Check Point\n",
    "This is your first checkpoint.  If you ever decide to come back to this notebook or have to restart the notebook, you can start from here.  The preprocessed data has been saved to disk."
   ]
  },
  {
   "cell_type": "code",
   "execution_count": 7,
   "metadata": {
    "collapsed": true
   },
   "outputs": [],
   "source": [
    "\"\"\"\n",
    "DON'T MODIFY ANYTHING IN THIS CELL\n",
    "\"\"\"\n",
    "import pickle\n",
    "import problem_unittests as tests\n",
    "import helper\n",
    "\n",
    "# Load the Preprocessed Validation data\n",
    "valid_features, valid_labels = pickle.load(open('preprocess_validation.p', mode='rb'))"
   ]
  },
  {
   "cell_type": "markdown",
   "metadata": {},
   "source": [
    "## Build the network\n",
    "For the neural network, you'll build each layer into a function.  Most of the code you've seen has been outside of functions. To test your code more thoroughly, we require that you put each layer in a function.  This allows us to give you better feedback and test for simple mistakes using our unittests before you submit your project.\n",
    "\n",
    "If you're finding it hard to dedicate enough time for this course a week, we've provided a small shortcut to this part of the project. In the next couple of problems, you'll have the option to use [TensorFlow Layers](https://www.tensorflow.org/api_docs/python/tf/layers) or [TensorFlow Layers (contrib)](https://www.tensorflow.org/api_guides/python/contrib.layers) to build each layer, except \"Convolutional & Max Pooling\" layer.  TF Layers is similar to Keras's and TFLearn's abstraction to layers, so it's easy to pickup.\n",
    "\n",
    "If you would like to get the most of this course, try to solve all the problems without TF Layers.  Let's begin!\n",
    "### Input\n",
    "The neural network needs to read the image data, one-hot encoded labels, and dropout keep probability. Implement the following functions\n",
    "* Implement `neural_net_image_input`\n",
    " * Return a [TF Placeholder](https://www.tensorflow.org/api_docs/python/tf/placeholder)\n",
    " * Set the shape using `image_shape` with batch size set to `None`.\n",
    " * Name the TensorFlow placeholder \"x\" using the TensorFlow `name` parameter in the [TF Placeholder](https://www.tensorflow.org/api_docs/python/tf/placeholder).\n",
    "* Implement `neural_net_label_input`\n",
    " * Return a [TF Placeholder](https://www.tensorflow.org/api_docs/python/tf/placeholder)\n",
    " * Set the shape using `n_classes` with batch size set to `None`.\n",
    " * Name the TensorFlow placeholder \"y\" using the TensorFlow `name` parameter in the [TF Placeholder](https://www.tensorflow.org/api_docs/python/tf/placeholder).\n",
    "* Implement `neural_net_keep_prob_input`\n",
    " * Return a [TF Placeholder](https://www.tensorflow.org/api_docs/python/tf/placeholder) for dropout keep probability.\n",
    " * Name the TensorFlow placeholder \"keep_prob\" using the TensorFlow `name` parameter in the [TF Placeholder](https://www.tensorflow.org/api_docs/python/tf/placeholder).\n",
    "\n",
    "These names will be used at the end of the project to load your saved model.\n",
    "\n",
    "Note: `None` for shapes in TensorFlow allow for a dynamic size."
   ]
  },
  {
   "cell_type": "code",
   "execution_count": 8,
   "metadata": {
    "collapsed": false
   },
   "outputs": [
    {
     "name": "stdout",
     "output_type": "stream",
     "text": [
      "Image Input Tests Passed.\n",
      "Label Input Tests Passed.\n",
      "Keep Prob Tests Passed.\n"
     ]
    }
   ],
   "source": [
    "import tensorflow as tf\n",
    "\n",
    "def neural_net_image_input(image_shape):\n",
    "    \"\"\"\n",
    "    Return a Tensor for a bach of image input\n",
    "    : image_shape: Shape of the images\n",
    "    : return: Tensor for image input.\n",
    "    \"\"\"\n",
    "    # TODO: Implement Function\n",
    "    x = tf.placeholder(tf.float32, shape=[None, image_shape[0], image_shape[1], image_shape[2]], name='x')\n",
    "    return x\n",
    "\n",
    "\n",
    "def neural_net_label_input(n_classes):\n",
    "    \"\"\"\n",
    "    Return a Tensor for a batch of label input\n",
    "    : n_classes: Number of classes\n",
    "    : return: Tensor for label input.\n",
    "    \"\"\"\n",
    "    # TODO: Implement Function\n",
    "    y = tf.placeholder(tf.float32, shape=[None, n_classes], name='y')\n",
    "    return y\n",
    "\n",
    "\n",
    "def neural_net_keep_prob_input():\n",
    "    \"\"\"\n",
    "    Return a Tensor for keep probability\n",
    "    : return: Tensor for keep probability.\n",
    "    \"\"\"\n",
    "    # TODO: Implement Function\n",
    "    return tf.placeholder(tf.float32, name='keep_prob')\n",
    "\n",
    "\n",
    "\"\"\"\n",
    "DON'T MODIFY ANYTHING IN THIS CELL THAT IS BELOW THIS LINE\n",
    "\"\"\"\n",
    "tf.reset_default_graph()\n",
    "tests.test_nn_image_inputs(neural_net_image_input)\n",
    "tests.test_nn_label_inputs(neural_net_label_input)\n",
    "tests.test_nn_keep_prob_inputs(neural_net_keep_prob_input)"
   ]
  },
  {
   "cell_type": "markdown",
   "metadata": {},
   "source": [
    "### Convolution and Max Pooling Layer\n",
    "Convolution layers have a lot of success with images. For this code cell, you should implement the function `conv2d_maxpool` to apply convolution then max pooling:\n",
    "* Create the weight and bias using `conv_ksize`, `conv_num_outputs` and the shape of `x_tensor`.\n",
    "* Apply a convolution to `x_tensor` using weight and `conv_strides`.\n",
    " * We recommend you use same padding, but you're welcome to use any padding.\n",
    "* Add bias\n",
    "* Add a nonlinear activation to the convolution.\n",
    "* Apply Max Pooling using `pool_ksize` and `pool_strides`.\n",
    " * We recommend you use same padding, but you're welcome to use any padding.\n",
    "\n",
    "Note: You **can't** use [TensorFlow Layers](https://www.tensorflow.org/api_docs/python/tf/layers) or [TensorFlow Layers (contrib)](https://www.tensorflow.org/api_guides/python/contrib.layers) for this layer.  You're free to use any TensorFlow package for all the other layers."
   ]
  },
  {
   "cell_type": "code",
   "execution_count": 197,
   "metadata": {
    "collapsed": false
   },
   "outputs": [
    {
     "name": "stdout",
     "output_type": "stream",
     "text": [
      "Tests Passed\n"
     ]
    }
   ],
   "source": [
    "def conv2d_maxpool(x_tensor, conv_num_outputs, conv_ksize, conv_strides, pool_ksize, pool_strides):\n",
    "    \"\"\"\n",
    "    Apply convolution then max pooling to x_tensor\n",
    "    :param x_tensor: TensorFlow Tensor\n",
    "    :param conv_num_outputs: Number of outputs for the convolutional layer\n",
    "    :param conv_strides: Stride 2-D Tuple for convolution\n",
    "    :param pool_ksize: kernal size 2-D Tuple for pool\n",
    "    :param pool_strides: Stride 2-D Tuple for pool\n",
    "    : return: A tensor that represents convolution and max pooling of x_tensor\n",
    "    \"\"\"\n",
    "    # TODO: Implement Function\n",
    "    padding = 'SAME'\n",
    "    w = tf.Variable(tf.truncated_normal([conv_ksize[0], conv_ksize[1], x_tensor.get_shape().as_list()[3],\n",
    "                                         conv_num_outputs], stddev=0.01))\n",
    "    b = tf.Variable(tf.zeros(conv_num_outputs))\n",
    "    conv2d_layer = tf.add(tf.nn.conv2d(x_tensor, w, [1, conv_strides[0], conv_strides[1], 1], padding), b)\n",
    "    pool_layer = tf.nn.max_pool(conv2d_layer, [1, pool_ksize[0], pool_ksize[1], 1], \n",
    "                                [1, pool_strides[0] , pool_strides[1], 1], padding)\n",
    "    pool_layer = tf.nn.relu(pool_layer)\n",
    "    return pool_layer\n",
    "\n",
    "\n",
    "\"\"\"\n",
    "DON'T MODIFY ANYTHING IN THIS CELL THAT IS BELOW THIS LINE\n",
    "\"\"\"\n",
    "tests.test_con_pool(conv2d_maxpool)"
   ]
  },
  {
   "cell_type": "markdown",
   "metadata": {},
   "source": [
    "### Flatten Layer\n",
    "Implement the `flatten` function to change the dimension of `x_tensor` from a 4-D tensor to a 2-D tensor.  The output should be the shape (*Batch Size*, *Flattened Image Size*). You can use [TensorFlow Layers](https://www.tensorflow.org/api_docs/python/tf/layers) or [TensorFlow Layers (contrib)](https://www.tensorflow.org/api_guides/python/contrib.layers) for this layer."
   ]
  },
  {
   "cell_type": "code",
   "execution_count": 70,
   "metadata": {
    "collapsed": false
   },
   "outputs": [
    {
     "name": "stdout",
     "output_type": "stream",
     "text": [
      "Tests Passed\n"
     ]
    }
   ],
   "source": [
    "def flatten(x_tensor):\n",
    "    \"\"\"\n",
    "    Flatten x_tensor to (Batch Size, Flattened Image Size)\n",
    "    : x_tensor: A tensor of size (Batch Size, ...), where ... are the image dimensions.\n",
    "    : return: A tensor of size (Batch Size, Flattened Image Size).\n",
    "    \"\"\"\n",
    "    # TODO: Implement Function\n",
    "    x_shape = x_tensor.get_shape().as_list()\n",
    "    return tf.reshape(x_tensor, [-1, x_shape[1]*x_shape[2]*x_shape[3]])\n",
    "\n",
    "\n",
    "\"\"\"\n",
    "DON'T MODIFY ANYTHING IN THIS CELL THAT IS BELOW THIS LINE\n",
    "\"\"\"\n",
    "tests.test_flatten(flatten)"
   ]
  },
  {
   "cell_type": "markdown",
   "metadata": {},
   "source": [
    "### Fully-Connected Layer\n",
    "Implement the `fully_conn` function to apply a fully connected layer to `x_tensor` with the shape (*Batch Size*, *num_outputs*). You can use [TensorFlow Layers](https://www.tensorflow.org/api_docs/python/tf/layers) or [TensorFlow Layers (contrib)](https://www.tensorflow.org/api_guides/python/contrib.layers) for this layer."
   ]
  },
  {
   "cell_type": "code",
   "execution_count": 110,
   "metadata": {
    "collapsed": false
   },
   "outputs": [
    {
     "name": "stdout",
     "output_type": "stream",
     "text": [
      "Tests Passed\n"
     ]
    }
   ],
   "source": [
    "def fully_conn(x_tensor, num_outputs):\n",
    "    \"\"\"\n",
    "    Apply a fully connected layer to x_tensor using weight and bias\n",
    "    : x_tensor: A 2-D tensor where the first dimension is batch size.\n",
    "    : num_outputs: The number of output that the new tensor should be.\n",
    "    : return: A 2-D tensor where the second dimension is num_outputs.\n",
    "    \"\"\"\n",
    "    # TODO: Implement Function\n",
    "    w = tf.Variable(tf.truncated_normal([x_tensor.get_shape().as_list()[1], num_outputs],\n",
    "                                        stddev=0.01))\n",
    "    b = tf.Variable(tf.zeros(num_outputs))\n",
    "    return tf.nn.relu(tf.add(tf.matmul(x_tensor, w), b))\n",
    "\n",
    "\n",
    "\"\"\"\n",
    "DON'T MODIFY ANYTHING IN THIS CELL THAT IS BELOW THIS LINE\n",
    "\"\"\"\n",
    "tests.test_fully_conn(fully_conn)"
   ]
  },
  {
   "cell_type": "markdown",
   "metadata": {},
   "source": [
    "### Output Layer\n",
    "Implement the `output` function to apply a fully connected layer to `x_tensor` with the shape (*Batch Size*, *num_outputs*). You can use [TensorFlow Layers](https://www.tensorflow.org/api_docs/python/tf/layers) or [TensorFlow Layers (contrib)](https://www.tensorflow.org/api_guides/python/contrib.layers) for this layer.\n",
    "\n",
    "Note: Activation, softmax, or cross entropy shouldn't be applied to this."
   ]
  },
  {
   "cell_type": "code",
   "execution_count": 111,
   "metadata": {
    "collapsed": false
   },
   "outputs": [
    {
     "name": "stdout",
     "output_type": "stream",
     "text": [
      "Tests Passed\n"
     ]
    }
   ],
   "source": [
    "def output(x_tensor, num_outputs):\n",
    "    \"\"\"\n",
    "    Apply a output layer to x_tensor using weight and bias\n",
    "    : x_tensor: A 2-D tensor where the first dimension is batch size.\n",
    "    : num_outputs: The number of output that the new tensor should be.\n",
    "    : return: A 2-D tensor where the second dimension is num_outputs.\n",
    "    \"\"\"\n",
    "    # TODO: Implement Function\n",
    "    w = tf.Variable(tf.truncated_normal([x_tensor.get_shape().as_list()[1], num_outputs], stddev=0.01))\n",
    "    b = tf.Variable(tf.zeros(num_outputs))\n",
    "    return tf.add(tf.matmul(x_tensor, w), b)\n",
    "\n",
    "\n",
    "\"\"\"\n",
    "DON'T MODIFY ANYTHING IN THIS CELL THAT IS BELOW THIS LINE\n",
    "\"\"\"\n",
    "tests.test_output(output)"
   ]
  },
  {
   "cell_type": "markdown",
   "metadata": {},
   "source": [
    "### Create Convolutional Model\n",
    "Implement the function `conv_net` to create a convolutional neural network model. The function takes in a batch of images, `x`, and outputs logits.  Use the layers you created above to create this model:\n",
    "\n",
    "* Apply 1, 2, or 3 Convolution and Max Pool layers\n",
    "* Apply a Flatten Layer\n",
    "* Apply 1, 2, or 3 Fully Connected Layers\n",
    "* Apply an Output Layer\n",
    "* Return the output\n",
    "* Apply [TensorFlow's Dropout](https://www.tensorflow.org/api_docs/python/tf/nn/dropout) to one or more layers in the model using `keep_prob`. "
   ]
  },
  {
   "cell_type": "code",
   "execution_count": 209,
   "metadata": {
    "collapsed": false
   },
   "outputs": [
    {
     "name": "stdout",
     "output_type": "stream",
     "text": [
      "Neural Network Built!\n"
     ]
    }
   ],
   "source": [
    "def conv_net(x, keep_prob):\n",
    "    \"\"\"\n",
    "    Create a convolutional neural network model\n",
    "    : x: Placeholder tensor that holds image data.\n",
    "    : keep_prob: Placeholder tensor that hold dropout keep probability.\n",
    "    : return: Tensor that represents logits\n",
    "    \"\"\"\n",
    "    # TODO: Apply 1, 2, or 3 Convolution and Max Pool layers\n",
    "    #    Play around with different number of outputs, kernel size and stride\n",
    "    # Function Definition from Above:\n",
    "    #    conv2d_maxpool(x_tensor, conv_num_outputs, conv_ksize, conv_strides, pool_ksize, pool_strides)\n",
    "    conv_layer = conv2d_maxpool(x, 128, (4, 4), (2, 2), (2, 2), (2, 2))\n",
    "    #conv_layer = conv2d_maxpool(x, 256, (4, 4), (2, 2), (2, 2), (2, 2))\n",
    "    \n",
    "    # TODO: Apply a Flatten Layer\n",
    "    # Function Definition from Above:\n",
    "    #   flatten(x_tensor)\n",
    "    flatten_layer = flatten(conv_layer)\n",
    "    \n",
    "    # TODO: Apply 1, 2, or 3 Fully Connected Layers\n",
    "    #    Play around with different number of outputs\n",
    "    # Function Definition from Above:\n",
    "    #   fully_conn(x_tensor, num_outputs)\n",
    "    fully_conn_layer = fully_conn(flatten_layer, 512)\n",
    "    fully_conn_layer = tf.nn.dropout(fully_conn_layer, keep_prob)\n",
    "    \n",
    "    #fully_conn_layer = fully_conn(fully_conn_layer, 256)\n",
    "    #fully_conn_layer = tf.nn.dropout(fully_conn_layer, keep_prob)\n",
    "    \n",
    "    # TODO: Apply an Output Layer\n",
    "    #    Set this to the number of classes\n",
    "    # Function Definition from Above:\n",
    "    #   output(x_tensor, num_outputs)\n",
    "    output_layer = output(fully_conn_layer, 10)\n",
    "    \n",
    "    # TODO: return output\n",
    "    return output_layer\n",
    "\n",
    "\n",
    "\"\"\"\n",
    "DON'T MODIFY ANYTHING IN THIS CELL THAT IS BELOW THIS LINE\n",
    "\"\"\"\n",
    "\n",
    "##############################\n",
    "## Build the Neural Network ##\n",
    "##############################\n",
    "\n",
    "# Remove previous weights, bias, inputs, etc..\n",
    "tf.reset_default_graph()\n",
    "\n",
    "# Inputs\n",
    "x = neural_net_image_input((32, 32, 3))\n",
    "y = neural_net_label_input(10)\n",
    "keep_prob = neural_net_keep_prob_input()\n",
    "\n",
    "# Model\n",
    "logits = conv_net(x, keep_prob)\n",
    "\n",
    "# Name logits Tensor, so that is can be loaded from disk after training\n",
    "logits = tf.identity(logits, name='logits')\n",
    "\n",
    "# Loss and Optimizer\n",
    "cost = tf.reduce_mean(tf.nn.softmax_cross_entropy_with_logits(logits=logits, labels=y))\n",
    "optimizer = tf.train.AdamOptimizer().minimize(cost)\n",
    "\n",
    "# Accuracy\n",
    "correct_pred = tf.equal(tf.argmax(logits, 1), tf.argmax(y, 1))\n",
    "accuracy = tf.reduce_mean(tf.cast(correct_pred, tf.float32), name='accuracy')\n",
    "\n",
    "tests.test_conv_net(conv_net)"
   ]
  },
  {
   "cell_type": "markdown",
   "metadata": {},
   "source": [
    "## Train the Neural Network\n",
    "### Single Optimization\n",
    "Implement the function `train_neural_network` to do a single optimization.  The optimization should use `optimizer` to optimize in `session` with a `feed_dict` of the following:\n",
    "* `x` for image input\n",
    "* `y` for labels\n",
    "* `keep_prob` for keep probability for dropout\n",
    "\n",
    "This function will be called for each batch, so `tf.global_variables_initializer()` has already been called.\n",
    "\n",
    "Note: Nothing needs to be returned. This function is only optimizing the neural network."
   ]
  },
  {
   "cell_type": "code",
   "execution_count": 23,
   "metadata": {
    "collapsed": false
   },
   "outputs": [
    {
     "name": "stdout",
     "output_type": "stream",
     "text": [
      "Tests Passed\n"
     ]
    }
   ],
   "source": [
    "def train_neural_network(session, optimizer, keep_probability, feature_batch, label_batch):\n",
    "    \"\"\"\n",
    "    Optimize the session on a batch of images and labels\n",
    "    : session: Current TensorFlow session\n",
    "    : optimizer: TensorFlow optimizer function\n",
    "    : keep_probability: keep probability\n",
    "    : feature_batch: Batch of Numpy image data\n",
    "    : label_batch: Batch of Numpy label data\n",
    "    \"\"\"\n",
    "    # TODO: Implement Function\n",
    "    session.run(optimizer, feed_dict={\n",
    "            x: feature_batch,\n",
    "            y: label_batch,\n",
    "            keep_prob: keep_probability})\n",
    "    pass\n",
    "\n",
    "\n",
    "\"\"\"\n",
    "DON'T MODIFY ANYTHING IN THIS CELL THAT IS BELOW THIS LINE\n",
    "\"\"\"\n",
    "tests.test_train_nn(train_neural_network)"
   ]
  },
  {
   "cell_type": "markdown",
   "metadata": {},
   "source": [
    "### Show Stats\n",
    "Implement the function `print_stats` to print loss and validation accuracy.  Use the global variables `valid_features` and `valid_labels` to calculate validation accuracy.  Use a keep probability of `1.0` to calculate the loss and validation accuracy."
   ]
  },
  {
   "cell_type": "code",
   "execution_count": 185,
   "metadata": {
    "collapsed": false
   },
   "outputs": [],
   "source": [
    "def print_stats(session, feature_batch, label_batch, cost, accuracy):\n",
    "    \"\"\"\n",
    "    Print information about loss and validation accuracy\n",
    "    : session: Current TensorFlow session\n",
    "    : feature_batch: Batch of Numpy image data\n",
    "    : label_batch: Batch of Numpy label data\n",
    "    : cost: TensorFlow cost function\n",
    "    : accuracy: TensorFlow accuracy function\n",
    "    \"\"\"\n",
    "    # TODO: Implement Function\n",
    "    loss = session.run(cost, feed_dict={\n",
    "            x: feature_batch,\n",
    "            y: label_batch,\n",
    "            keep_prob: 1.})\n",
    "    valid_acc = session.run(accuracy, feed_dict={\n",
    "            x: valid_features,\n",
    "            y: valid_labels,\n",
    "            keep_prob: 1.})\n",
    "\n",
    "    print('Loss: {:>8.4f} Validation Accuracy: {:.6f}'.format(\n",
    "            loss,\n",
    "            valid_acc))\n",
    "    pass"
   ]
  },
  {
   "cell_type": "markdown",
   "metadata": {},
   "source": [
    "### Hyperparameters\n",
    "Tune the following parameters:\n",
    "* Set `epochs` to the number of iterations until the network stops learning or start overfitting\n",
    "* Set `batch_size` to the highest number that your machine has memory for.  Most people set them to common sizes of memory:\n",
    " * 64\n",
    " * 128\n",
    " * 256\n",
    " * ...\n",
    "* Set `keep_probability` to the probability of keeping a node using dropout"
   ]
  },
  {
   "cell_type": "code",
   "execution_count": 210,
   "metadata": {
    "collapsed": true
   },
   "outputs": [],
   "source": [
    "# TODO: Tune Parameters\n",
    "epochs = 40\n",
    "batch_size = 256\n",
    "keep_probability = 0.5"
   ]
  },
  {
   "cell_type": "markdown",
   "metadata": {},
   "source": [
    "### Train on a Single CIFAR-10 Batch\n",
    "Instead of training the neural network on all the CIFAR-10 batches of data, let's use a single batch. This should save time while you iterate on the model to get a better accuracy.  Once the final validation accuracy is 50% or greater, run the model on all the data in the next section."
   ]
  },
  {
   "cell_type": "code",
   "execution_count": 211,
   "metadata": {
    "collapsed": false
   },
   "outputs": [
    {
     "name": "stdout",
     "output_type": "stream",
     "text": [
      "Checking the Training on a Single Batch...\n",
      "Epoch  1, CIFAR-10 Batch 1:  Loss:   2.1903 Validation Accuracy: 0.253800\n",
      "Epoch  2, CIFAR-10 Batch 1:  Loss:   2.0649 Validation Accuracy: 0.356800\n",
      "Epoch  3, CIFAR-10 Batch 1:  Loss:   1.8447 Validation Accuracy: 0.415200\n",
      "Epoch  4, CIFAR-10 Batch 1:  Loss:   1.6936 Validation Accuracy: 0.438200\n",
      "Epoch  5, CIFAR-10 Batch 1:  Loss:   1.5106 Validation Accuracy: 0.453000\n",
      "Epoch  6, CIFAR-10 Batch 1:  Loss:   1.3800 Validation Accuracy: 0.466000\n",
      "Epoch  7, CIFAR-10 Batch 1:  Loss:   1.2779 Validation Accuracy: 0.490000\n",
      "Epoch  8, CIFAR-10 Batch 1:  Loss:   1.1456 Validation Accuracy: 0.491200\n",
      "Epoch  9, CIFAR-10 Batch 1:  Loss:   1.0585 Validation Accuracy: 0.494000\n",
      "Epoch 10, CIFAR-10 Batch 1:  Loss:   0.9681 Validation Accuracy: 0.514000\n",
      "Epoch 11, CIFAR-10 Batch 1:  Loss:   0.8670 Validation Accuracy: 0.522000\n",
      "Epoch 12, CIFAR-10 Batch 1:  Loss:   0.8052 Validation Accuracy: 0.516200\n",
      "Epoch 13, CIFAR-10 Batch 1:  Loss:   0.7190 Validation Accuracy: 0.529000\n",
      "Epoch 14, CIFAR-10 Batch 1:  Loss:   0.6424 Validation Accuracy: 0.533400\n",
      "Epoch 15, CIFAR-10 Batch 1:  Loss:   0.6177 Validation Accuracy: 0.546600\n",
      "Epoch 16, CIFAR-10 Batch 1:  Loss:   0.5578 Validation Accuracy: 0.547800\n",
      "Epoch 17, CIFAR-10 Batch 1:  Loss:   0.5325 Validation Accuracy: 0.541600\n",
      "Epoch 18, CIFAR-10 Batch 1:  Loss:   0.5125 Validation Accuracy: 0.531200\n",
      "Epoch 19, CIFAR-10 Batch 1:  Loss:   0.4653 Validation Accuracy: 0.532600\n",
      "Epoch 20, CIFAR-10 Batch 1:  Loss:   0.3916 Validation Accuracy: 0.554000\n",
      "Epoch 21, CIFAR-10 Batch 1:  Loss:   0.3708 Validation Accuracy: 0.551400\n",
      "Epoch 22, CIFAR-10 Batch 1:  Loss:   0.3082 Validation Accuracy: 0.561400\n",
      "Epoch 23, CIFAR-10 Batch 1:  Loss:   0.2928 Validation Accuracy: 0.555200\n",
      "Epoch 24, CIFAR-10 Batch 1:  Loss:   0.2531 Validation Accuracy: 0.567000\n",
      "Epoch 25, CIFAR-10 Batch 1:  Loss:   0.2348 Validation Accuracy: 0.564800\n",
      "Epoch 26, CIFAR-10 Batch 1:  Loss:   0.2044 Validation Accuracy: 0.564400\n",
      "Epoch 27, CIFAR-10 Batch 1:  Loss:   0.1770 Validation Accuracy: 0.563800\n",
      "Epoch 28, CIFAR-10 Batch 1:  Loss:   0.1582 Validation Accuracy: 0.567000\n",
      "Epoch 29, CIFAR-10 Batch 1:  Loss:   0.1437 Validation Accuracy: 0.569600\n",
      "Epoch 30, CIFAR-10 Batch 1:  Loss:   0.1406 Validation Accuracy: 0.571200\n",
      "Epoch 31, CIFAR-10 Batch 1:  Loss:   0.1139 Validation Accuracy: 0.577000\n",
      "Epoch 32, CIFAR-10 Batch 1:  Loss:   0.1158 Validation Accuracy: 0.565800\n",
      "Epoch 33, CIFAR-10 Batch 1:  Loss:   0.1085 Validation Accuracy: 0.561200\n",
      "Epoch 34, CIFAR-10 Batch 1:  Loss:   0.0979 Validation Accuracy: 0.561600\n",
      "Epoch 35, CIFAR-10 Batch 1:  Loss:   0.0786 Validation Accuracy: 0.573200\n",
      "Epoch 36, CIFAR-10 Batch 1:  Loss:   0.0860 Validation Accuracy: 0.564200\n",
      "Epoch 37, CIFAR-10 Batch 1:  Loss:   0.0753 Validation Accuracy: 0.574200\n",
      "Epoch 38, CIFAR-10 Batch 1:  Loss:   0.0676 Validation Accuracy: 0.566800\n",
      "Epoch 39, CIFAR-10 Batch 1:  Loss:   0.0552 Validation Accuracy: 0.574800\n",
      "Epoch 40, CIFAR-10 Batch 1:  Loss:   0.0446 Validation Accuracy: 0.576800\n"
     ]
    }
   ],
   "source": [
    "\"\"\"\n",
    "DON'T MODIFY ANYTHING IN THIS CELL\n",
    "\"\"\"\n",
    "print('Checking the Training on a Single Batch...')\n",
    "with tf.Session() as sess:\n",
    "    # Initializing the variables\n",
    "    sess.run(tf.global_variables_initializer())\n",
    "    \n",
    "    # Training cycle\n",
    "    for epoch in range(epochs):\n",
    "        batch_i = 1\n",
    "        for batch_features, batch_labels in helper.load_preprocess_training_batch(batch_i, batch_size):\n",
    "            train_neural_network(sess, optimizer, keep_probability, batch_features, batch_labels)\n",
    "        print('Epoch {:>2}, CIFAR-10 Batch {}:  '.format(epoch + 1, batch_i), end='')\n",
    "        print_stats(sess, batch_features, batch_labels, cost, accuracy)"
   ]
  },
  {
   "cell_type": "markdown",
   "metadata": {},
   "source": [
    "### Fully Train the Model\n",
    "Now that you got a good accuracy with a single CIFAR-10 batch, try it with all five batches."
   ]
  },
  {
   "cell_type": "code",
   "execution_count": 212,
   "metadata": {
    "collapsed": false
   },
   "outputs": [
    {
     "name": "stdout",
     "output_type": "stream",
     "text": [
      "Training...\n",
      "Epoch  1, CIFAR-10 Batch 1:  Loss:   2.1713 Validation Accuracy: 0.282000\n",
      "Epoch  1, CIFAR-10 Batch 2:  Loss:   1.8888 Validation Accuracy: 0.355800\n",
      "Epoch  1, CIFAR-10 Batch 3:  Loss:   1.5762 Validation Accuracy: 0.392600\n",
      "Epoch  1, CIFAR-10 Batch 4:  Loss:   1.6300 Validation Accuracy: 0.414200\n",
      "Epoch  1, CIFAR-10 Batch 5:  Loss:   1.5787 Validation Accuracy: 0.440200\n",
      "Epoch  2, CIFAR-10 Batch 1:  Loss:   1.7637 Validation Accuracy: 0.465600\n",
      "Epoch  2, CIFAR-10 Batch 2:  Loss:   1.4412 Validation Accuracy: 0.464200\n",
      "Epoch  2, CIFAR-10 Batch 3:  Loss:   1.1765 Validation Accuracy: 0.481200\n",
      "Epoch  2, CIFAR-10 Batch 4:  Loss:   1.3515 Validation Accuracy: 0.505200\n",
      "Epoch  2, CIFAR-10 Batch 5:  Loss:   1.3225 Validation Accuracy: 0.514800\n",
      "Epoch  3, CIFAR-10 Batch 1:  Loss:   1.5373 Validation Accuracy: 0.513200\n",
      "Epoch  3, CIFAR-10 Batch 2:  Loss:   1.2347 Validation Accuracy: 0.531800\n",
      "Epoch  3, CIFAR-10 Batch 3:  Loss:   1.0205 Validation Accuracy: 0.513200\n",
      "Epoch  3, CIFAR-10 Batch 4:  Loss:   1.2187 Validation Accuracy: 0.547400\n",
      "Epoch  3, CIFAR-10 Batch 5:  Loss:   1.1536 Validation Accuracy: 0.543400\n",
      "Epoch  4, CIFAR-10 Batch 1:  Loss:   1.2904 Validation Accuracy: 0.545600\n",
      "Epoch  4, CIFAR-10 Batch 2:  Loss:   1.0677 Validation Accuracy: 0.558600\n",
      "Epoch  4, CIFAR-10 Batch 3:  Loss:   0.8725 Validation Accuracy: 0.549000\n",
      "Epoch  4, CIFAR-10 Batch 4:  Loss:   1.0464 Validation Accuracy: 0.575400\n",
      "Epoch  4, CIFAR-10 Batch 5:  Loss:   1.0049 Validation Accuracy: 0.568600\n",
      "Epoch  5, CIFAR-10 Batch 1:  Loss:   1.1179 Validation Accuracy: 0.568200\n",
      "Epoch  5, CIFAR-10 Batch 2:  Loss:   0.9372 Validation Accuracy: 0.570400\n",
      "Epoch  5, CIFAR-10 Batch 3:  Loss:   0.7615 Validation Accuracy: 0.583000\n",
      "Epoch  5, CIFAR-10 Batch 4:  Loss:   0.9603 Validation Accuracy: 0.581400\n",
      "Epoch  5, CIFAR-10 Batch 5:  Loss:   0.8821 Validation Accuracy: 0.592000\n",
      "Epoch  6, CIFAR-10 Batch 1:  Loss:   0.9974 Validation Accuracy: 0.583600\n",
      "Epoch  6, CIFAR-10 Batch 2:  Loss:   0.7845 Validation Accuracy: 0.598200\n",
      "Epoch  6, CIFAR-10 Batch 3:  Loss:   0.6609 Validation Accuracy: 0.595800\n",
      "Epoch  6, CIFAR-10 Batch 4:  Loss:   0.8422 Validation Accuracy: 0.606600\n",
      "Epoch  6, CIFAR-10 Batch 5:  Loss:   0.7501 Validation Accuracy: 0.601800\n",
      "Epoch  7, CIFAR-10 Batch 1:  Loss:   0.9008 Validation Accuracy: 0.601400\n",
      "Epoch  7, CIFAR-10 Batch 2:  Loss:   0.7035 Validation Accuracy: 0.610800\n",
      "Epoch  7, CIFAR-10 Batch 3:  Loss:   0.5691 Validation Accuracy: 0.611000\n",
      "Epoch  7, CIFAR-10 Batch 4:  Loss:   0.7112 Validation Accuracy: 0.615000\n",
      "Epoch  7, CIFAR-10 Batch 5:  Loss:   0.6629 Validation Accuracy: 0.611800\n",
      "Epoch  8, CIFAR-10 Batch 1:  Loss:   0.8072 Validation Accuracy: 0.607400\n",
      "Epoch  8, CIFAR-10 Batch 2:  Loss:   0.6290 Validation Accuracy: 0.617200\n",
      "Epoch  8, CIFAR-10 Batch 3:  Loss:   0.5308 Validation Accuracy: 0.608000\n",
      "Epoch  8, CIFAR-10 Batch 4:  Loss:   0.5967 Validation Accuracy: 0.632200\n",
      "Epoch  8, CIFAR-10 Batch 5:  Loss:   0.5494 Validation Accuracy: 0.625000\n",
      "Epoch  9, CIFAR-10 Batch 1:  Loss:   0.7217 Validation Accuracy: 0.618400\n",
      "Epoch  9, CIFAR-10 Batch 2:  Loss:   0.5503 Validation Accuracy: 0.633000\n",
      "Epoch  9, CIFAR-10 Batch 3:  Loss:   0.4725 Validation Accuracy: 0.631400\n",
      "Epoch  9, CIFAR-10 Batch 4:  Loss:   0.5285 Validation Accuracy: 0.630000\n",
      "Epoch  9, CIFAR-10 Batch 5:  Loss:   0.5235 Validation Accuracy: 0.628800\n",
      "Epoch 10, CIFAR-10 Batch 1:  Loss:   0.6456 Validation Accuracy: 0.629800\n",
      "Epoch 10, CIFAR-10 Batch 2:  Loss:   0.4580 Validation Accuracy: 0.632800\n",
      "Epoch 10, CIFAR-10 Batch 3:  Loss:   0.4356 Validation Accuracy: 0.635800\n",
      "Epoch 10, CIFAR-10 Batch 4:  Loss:   0.4778 Validation Accuracy: 0.636000\n",
      "Epoch 10, CIFAR-10 Batch 5:  Loss:   0.4487 Validation Accuracy: 0.640400\n",
      "Epoch 11, CIFAR-10 Batch 1:  Loss:   0.5765 Validation Accuracy: 0.626000\n",
      "Epoch 11, CIFAR-10 Batch 2:  Loss:   0.4114 Validation Accuracy: 0.646800\n",
      "Epoch 11, CIFAR-10 Batch 3:  Loss:   0.3399 Validation Accuracy: 0.643800\n",
      "Epoch 11, CIFAR-10 Batch 4:  Loss:   0.3865 Validation Accuracy: 0.642200\n",
      "Epoch 11, CIFAR-10 Batch 5:  Loss:   0.3646 Validation Accuracy: 0.650800\n",
      "Epoch 12, CIFAR-10 Batch 1:  Loss:   0.5101 Validation Accuracy: 0.636400\n",
      "Epoch 12, CIFAR-10 Batch 2:  Loss:   0.3627 Validation Accuracy: 0.655600\n",
      "Epoch 12, CIFAR-10 Batch 3:  Loss:   0.2985 Validation Accuracy: 0.649000\n",
      "Epoch 12, CIFAR-10 Batch 4:  Loss:   0.3325 Validation Accuracy: 0.652200\n",
      "Epoch 12, CIFAR-10 Batch 5:  Loss:   0.3050 Validation Accuracy: 0.652600\n",
      "Epoch 13, CIFAR-10 Batch 1:  Loss:   0.4609 Validation Accuracy: 0.637400\n",
      "Epoch 13, CIFAR-10 Batch 2:  Loss:   0.3145 Validation Accuracy: 0.653600\n",
      "Epoch 13, CIFAR-10 Batch 3:  Loss:   0.2719 Validation Accuracy: 0.647000\n",
      "Epoch 13, CIFAR-10 Batch 4:  Loss:   0.2988 Validation Accuracy: 0.646800\n",
      "Epoch 13, CIFAR-10 Batch 5:  Loss:   0.2826 Validation Accuracy: 0.665800\n",
      "Epoch 14, CIFAR-10 Batch 1:  Loss:   0.4063 Validation Accuracy: 0.654200\n",
      "Epoch 14, CIFAR-10 Batch 2:  Loss:   0.2738 Validation Accuracy: 0.649800\n",
      "Epoch 14, CIFAR-10 Batch 3:  Loss:   0.2346 Validation Accuracy: 0.655400\n",
      "Epoch 14, CIFAR-10 Batch 4:  Loss:   0.2469 Validation Accuracy: 0.657400\n",
      "Epoch 14, CIFAR-10 Batch 5:  Loss:   0.2542 Validation Accuracy: 0.658200\n",
      "Epoch 15, CIFAR-10 Batch 1:  Loss:   0.3575 Validation Accuracy: 0.647000\n",
      "Epoch 15, CIFAR-10 Batch 2:  Loss:   0.2446 Validation Accuracy: 0.660800\n",
      "Epoch 15, CIFAR-10 Batch 3:  Loss:   0.2198 Validation Accuracy: 0.665200\n",
      "Epoch 15, CIFAR-10 Batch 4:  Loss:   0.2120 Validation Accuracy: 0.664600\n",
      "Epoch 15, CIFAR-10 Batch 5:  Loss:   0.2133 Validation Accuracy: 0.673800\n",
      "Epoch 16, CIFAR-10 Batch 1:  Loss:   0.2999 Validation Accuracy: 0.660000\n",
      "Epoch 16, CIFAR-10 Batch 2:  Loss:   0.2017 Validation Accuracy: 0.658000\n",
      "Epoch 16, CIFAR-10 Batch 3:  Loss:   0.1719 Validation Accuracy: 0.668400\n",
      "Epoch 16, CIFAR-10 Batch 4:  Loss:   0.1836 Validation Accuracy: 0.663200\n",
      "Epoch 16, CIFAR-10 Batch 5:  Loss:   0.1764 Validation Accuracy: 0.663200\n",
      "Epoch 17, CIFAR-10 Batch 1:  Loss:   0.2598 Validation Accuracy: 0.660200\n",
      "Epoch 17, CIFAR-10 Batch 2:  Loss:   0.1841 Validation Accuracy: 0.661800\n",
      "Epoch 17, CIFAR-10 Batch 3:  Loss:   0.1468 Validation Accuracy: 0.674600\n",
      "Epoch 17, CIFAR-10 Batch 4:  Loss:   0.1785 Validation Accuracy: 0.664600\n",
      "Epoch 17, CIFAR-10 Batch 5:  Loss:   0.1580 Validation Accuracy: 0.671000\n",
      "Epoch 18, CIFAR-10 Batch 1:  Loss:   0.2532 Validation Accuracy: 0.659600\n",
      "Epoch 18, CIFAR-10 Batch 2:  Loss:   0.1405 Validation Accuracy: 0.668000\n",
      "Epoch 18, CIFAR-10 Batch 3:  Loss:   0.1391 Validation Accuracy: 0.670200\n",
      "Epoch 18, CIFAR-10 Batch 4:  Loss:   0.1676 Validation Accuracy: 0.666600\n",
      "Epoch 18, CIFAR-10 Batch 5:  Loss:   0.1415 Validation Accuracy: 0.669800\n",
      "Epoch 19, CIFAR-10 Batch 1:  Loss:   0.1743 Validation Accuracy: 0.671400\n",
      "Epoch 19, CIFAR-10 Batch 2:  Loss:   0.1392 Validation Accuracy: 0.676200\n",
      "Epoch 19, CIFAR-10 Batch 3:  Loss:   0.1356 Validation Accuracy: 0.664200\n",
      "Epoch 19, CIFAR-10 Batch 4:  Loss:   0.1294 Validation Accuracy: 0.678000\n",
      "Epoch 19, CIFAR-10 Batch 5:  Loss:   0.1007 Validation Accuracy: 0.681600\n",
      "Epoch 20, CIFAR-10 Batch 1:  Loss:   0.1739 Validation Accuracy: 0.670800\n",
      "Epoch 20, CIFAR-10 Batch 2:  Loss:   0.1079 Validation Accuracy: 0.675200\n",
      "Epoch 20, CIFAR-10 Batch 3:  Loss:   0.1283 Validation Accuracy: 0.674600\n",
      "Epoch 20, CIFAR-10 Batch 4:  Loss:   0.1204 Validation Accuracy: 0.676200\n",
      "Epoch 20, CIFAR-10 Batch 5:  Loss:   0.0911 Validation Accuracy: 0.680200\n",
      "Epoch 21, CIFAR-10 Batch 1:  Loss:   0.1529 Validation Accuracy: 0.674200\n",
      "Epoch 21, CIFAR-10 Batch 2:  Loss:   0.0851 Validation Accuracy: 0.674000\n",
      "Epoch 21, CIFAR-10 Batch 3:  Loss:   0.0969 Validation Accuracy: 0.674600\n",
      "Epoch 21, CIFAR-10 Batch 4:  Loss:   0.0909 Validation Accuracy: 0.681800\n",
      "Epoch 21, CIFAR-10 Batch 5:  Loss:   0.0941 Validation Accuracy: 0.688200\n",
      "Epoch 22, CIFAR-10 Batch 1:  Loss:   0.1272 Validation Accuracy: 0.676800\n",
      "Epoch 22, CIFAR-10 Batch 2:  Loss:   0.0934 Validation Accuracy: 0.677200\n",
      "Epoch 22, CIFAR-10 Batch 3:  Loss:   0.0864 Validation Accuracy: 0.685200\n",
      "Epoch 22, CIFAR-10 Batch 4:  Loss:   0.0990 Validation Accuracy: 0.678200\n",
      "Epoch 22, CIFAR-10 Batch 5:  Loss:   0.0706 Validation Accuracy: 0.687800\n",
      "Epoch 23, CIFAR-10 Batch 1:  Loss:   0.1037 Validation Accuracy: 0.675400\n",
      "Epoch 23, CIFAR-10 Batch 2:  Loss:   0.0738 Validation Accuracy: 0.677000\n",
      "Epoch 23, CIFAR-10 Batch 3:  Loss:   0.0727 Validation Accuracy: 0.671600\n",
      "Epoch 23, CIFAR-10 Batch 4:  Loss:   0.0728 Validation Accuracy: 0.682000\n",
      "Epoch 23, CIFAR-10 Batch 5:  Loss:   0.0714 Validation Accuracy: 0.689200\n",
      "Epoch 24, CIFAR-10 Batch 1:  Loss:   0.0885 Validation Accuracy: 0.675000\n",
      "Epoch 24, CIFAR-10 Batch 2:  Loss:   0.0753 Validation Accuracy: 0.673800\n",
      "Epoch 24, CIFAR-10 Batch 3:  Loss:   0.0679 Validation Accuracy: 0.678400\n",
      "Epoch 24, CIFAR-10 Batch 4:  Loss:   0.0641 Validation Accuracy: 0.682200\n",
      "Epoch 24, CIFAR-10 Batch 5:  Loss:   0.0632 Validation Accuracy: 0.689000\n",
      "Epoch 25, CIFAR-10 Batch 1:  Loss:   0.0822 Validation Accuracy: 0.679800\n",
      "Epoch 25, CIFAR-10 Batch 2:  Loss:   0.0841 Validation Accuracy: 0.672600\n",
      "Epoch 25, CIFAR-10 Batch 3:  Loss:   0.0585 Validation Accuracy: 0.675200\n",
      "Epoch 25, CIFAR-10 Batch 4:  Loss:   0.0675 Validation Accuracy: 0.680000\n",
      "Epoch 25, CIFAR-10 Batch 5:  Loss:   0.0541 Validation Accuracy: 0.686600\n",
      "Epoch 26, CIFAR-10 Batch 1:  Loss:   0.0763 Validation Accuracy: 0.679000\n",
      "Epoch 26, CIFAR-10 Batch 2:  Loss:   0.0543 Validation Accuracy: 0.684000\n",
      "Epoch 26, CIFAR-10 Batch 3:  Loss:   0.0584 Validation Accuracy: 0.652600\n",
      "Epoch 26, CIFAR-10 Batch 4:  Loss:   0.0701 Validation Accuracy: 0.673400\n",
      "Epoch 26, CIFAR-10 Batch 5:  Loss:   0.0446 Validation Accuracy: 0.678200\n",
      "Epoch 27, CIFAR-10 Batch 1:  Loss:   0.0598 Validation Accuracy: 0.676800\n",
      "Epoch 27, CIFAR-10 Batch 2:  Loss:   0.0528 Validation Accuracy: 0.674800\n",
      "Epoch 27, CIFAR-10 Batch 3:  Loss:   0.0502 Validation Accuracy: 0.664000\n",
      "Epoch 27, CIFAR-10 Batch 4:  Loss:   0.0596 Validation Accuracy: 0.668400\n",
      "Epoch 27, CIFAR-10 Batch 5:  Loss:   0.0394 Validation Accuracy: 0.676800\n",
      "Epoch 28, CIFAR-10 Batch 1:  Loss:   0.0534 Validation Accuracy: 0.680200\n",
      "Epoch 28, CIFAR-10 Batch 2:  Loss:   0.0531 Validation Accuracy: 0.680400\n",
      "Epoch 28, CIFAR-10 Batch 3:  Loss:   0.0503 Validation Accuracy: 0.676800\n",
      "Epoch 28, CIFAR-10 Batch 4:  Loss:   0.0546 Validation Accuracy: 0.674000\n",
      "Epoch 28, CIFAR-10 Batch 5:  Loss:   0.0361 Validation Accuracy: 0.688400\n",
      "Epoch 29, CIFAR-10 Batch 1:  Loss:   0.0546 Validation Accuracy: 0.682200\n",
      "Epoch 29, CIFAR-10 Batch 2:  Loss:   0.0416 Validation Accuracy: 0.673400\n",
      "Epoch 29, CIFAR-10 Batch 3:  Loss:   0.0423 Validation Accuracy: 0.668000\n",
      "Epoch 29, CIFAR-10 Batch 4:  Loss:   0.0393 Validation Accuracy: 0.678600\n",
      "Epoch 29, CIFAR-10 Batch 5:  Loss:   0.0232 Validation Accuracy: 0.679800\n",
      "Epoch 30, CIFAR-10 Batch 1:  Loss:   0.0438 Validation Accuracy: 0.674800\n",
      "Epoch 30, CIFAR-10 Batch 2:  Loss:   0.0425 Validation Accuracy: 0.675400\n",
      "Epoch 30, CIFAR-10 Batch 3:  Loss:   0.0434 Validation Accuracy: 0.671400\n",
      "Epoch 30, CIFAR-10 Batch 4:  Loss:   0.0323 Validation Accuracy: 0.674000\n",
      "Epoch 30, CIFAR-10 Batch 5:  Loss:   0.0222 Validation Accuracy: 0.687600\n",
      "Epoch 31, CIFAR-10 Batch 1:  Loss:   0.0383 Validation Accuracy: 0.676400\n",
      "Epoch 31, CIFAR-10 Batch 2:  Loss:   0.0343 Validation Accuracy: 0.675800\n",
      "Epoch 31, CIFAR-10 Batch 3:  Loss:   0.0349 Validation Accuracy: 0.671000\n",
      "Epoch 31, CIFAR-10 Batch 4:  Loss:   0.0362 Validation Accuracy: 0.670600\n",
      "Epoch 31, CIFAR-10 Batch 5:  Loss:   0.0182 Validation Accuracy: 0.683600\n",
      "Epoch 32, CIFAR-10 Batch 1:  Loss:   0.0373 Validation Accuracy: 0.668200\n",
      "Epoch 32, CIFAR-10 Batch 2:  Loss:   0.0337 Validation Accuracy: 0.683000\n",
      "Epoch 32, CIFAR-10 Batch 3:  Loss:   0.0391 Validation Accuracy: 0.674000\n",
      "Epoch 32, CIFAR-10 Batch 4:  Loss:   0.0331 Validation Accuracy: 0.680200\n",
      "Epoch 32, CIFAR-10 Batch 5:  Loss:   0.0157 Validation Accuracy: 0.682000\n",
      "Epoch 33, CIFAR-10 Batch 1:  Loss:   0.0364 Validation Accuracy: 0.675000\n",
      "Epoch 33, CIFAR-10 Batch 2:  Loss:   0.0281 Validation Accuracy: 0.676600\n",
      "Epoch 33, CIFAR-10 Batch 3:  Loss:   0.0323 Validation Accuracy: 0.678600\n",
      "Epoch 33, CIFAR-10 Batch 4:  Loss:   0.0273 Validation Accuracy: 0.680600\n",
      "Epoch 33, CIFAR-10 Batch 5:  Loss:   0.0150 Validation Accuracy: 0.684000\n",
      "Epoch 34, CIFAR-10 Batch 1:  Loss:   0.0306 Validation Accuracy: 0.674600\n",
      "Epoch 34, CIFAR-10 Batch 2:  Loss:   0.0270 Validation Accuracy: 0.685600\n",
      "Epoch 34, CIFAR-10 Batch 3:  Loss:   0.0226 Validation Accuracy: 0.681200\n",
      "Epoch 34, CIFAR-10 Batch 4:  Loss:   0.0253 Validation Accuracy: 0.678600\n",
      "Epoch 34, CIFAR-10 Batch 5:  Loss:   0.0152 Validation Accuracy: 0.685200\n",
      "Epoch 35, CIFAR-10 Batch 1:  Loss:   0.0357 Validation Accuracy: 0.666200\n",
      "Epoch 35, CIFAR-10 Batch 2:  Loss:   0.0177 Validation Accuracy: 0.674800\n",
      "Epoch 35, CIFAR-10 Batch 3:  Loss:   0.0233 Validation Accuracy: 0.681000\n",
      "Epoch 35, CIFAR-10 Batch 4:  Loss:   0.0215 Validation Accuracy: 0.689000\n",
      "Epoch 35, CIFAR-10 Batch 5:  Loss:   0.0140 Validation Accuracy: 0.684800\n",
      "Epoch 36, CIFAR-10 Batch 1:  Loss:   0.0281 Validation Accuracy: 0.670400\n",
      "Epoch 36, CIFAR-10 Batch 2:  Loss:   0.0241 Validation Accuracy: 0.668800\n",
      "Epoch 36, CIFAR-10 Batch 3:  Loss:   0.0226 Validation Accuracy: 0.685600\n",
      "Epoch 36, CIFAR-10 Batch 4:  Loss:   0.0191 Validation Accuracy: 0.687600\n",
      "Epoch 36, CIFAR-10 Batch 5:  Loss:   0.0173 Validation Accuracy: 0.686000\n",
      "Epoch 37, CIFAR-10 Batch 1:  Loss:   0.0215 Validation Accuracy: 0.679600\n",
      "Epoch 37, CIFAR-10 Batch 2:  Loss:   0.0208 Validation Accuracy: 0.674200\n",
      "Epoch 37, CIFAR-10 Batch 3:  Loss:   0.0157 Validation Accuracy: 0.685800\n",
      "Epoch 37, CIFAR-10 Batch 4:  Loss:   0.0231 Validation Accuracy: 0.684600\n",
      "Epoch 37, CIFAR-10 Batch 5:  Loss:   0.0153 Validation Accuracy: 0.686800\n",
      "Epoch 38, CIFAR-10 Batch 1:  Loss:   0.0193 Validation Accuracy: 0.672000\n",
      "Epoch 38, CIFAR-10 Batch 2:  Loss:   0.0157 Validation Accuracy: 0.664400\n",
      "Epoch 38, CIFAR-10 Batch 3:  Loss:   0.0156 Validation Accuracy: 0.681800\n",
      "Epoch 38, CIFAR-10 Batch 4:  Loss:   0.0235 Validation Accuracy: 0.682200\n",
      "Epoch 38, CIFAR-10 Batch 5:  Loss:   0.0108 Validation Accuracy: 0.685200\n",
      "Epoch 39, CIFAR-10 Batch 1:  Loss:   0.0210 Validation Accuracy: 0.679800\n",
      "Epoch 39, CIFAR-10 Batch 2:  Loss:   0.0160 Validation Accuracy: 0.670400\n",
      "Epoch 39, CIFAR-10 Batch 3:  Loss:   0.0165 Validation Accuracy: 0.687800\n",
      "Epoch 39, CIFAR-10 Batch 4:  Loss:   0.0174 Validation Accuracy: 0.686600\n",
      "Epoch 39, CIFAR-10 Batch 5:  Loss:   0.0114 Validation Accuracy: 0.675200\n",
      "Epoch 40, CIFAR-10 Batch 1:  Loss:   0.0184 Validation Accuracy: 0.673200\n",
      "Epoch 40, CIFAR-10 Batch 2:  Loss:   0.0106 Validation Accuracy: 0.679600\n",
      "Epoch 40, CIFAR-10 Batch 3:  Loss:   0.0187 Validation Accuracy: 0.681000\n",
      "Epoch 40, CIFAR-10 Batch 4:  Loss:   0.0191 Validation Accuracy: 0.674000\n",
      "Epoch 40, CIFAR-10 Batch 5:  Loss:   0.0094 Validation Accuracy: 0.682800\n"
     ]
    }
   ],
   "source": [
    "\"\"\"\n",
    "DON'T MODIFY ANYTHING IN THIS CELL\n",
    "\"\"\"\n",
    "save_model_path = './image_classification'\n",
    "\n",
    "print('Training...')\n",
    "with tf.Session() as sess:\n",
    "    # Initializing the variables\n",
    "    sess.run(tf.global_variables_initializer())\n",
    "    \n",
    "    # Training cycle\n",
    "    for epoch in range(epochs):\n",
    "        # Loop over all batches\n",
    "        n_batches = 5\n",
    "        for batch_i in range(1, n_batches + 1):\n",
    "            for batch_features, batch_labels in helper.load_preprocess_training_batch(batch_i, batch_size):\n",
    "                train_neural_network(sess, optimizer, keep_probability, batch_features, batch_labels)\n",
    "            print('Epoch {:>2}, CIFAR-10 Batch {}:  '.format(epoch + 1, batch_i), end='')\n",
    "            print_stats(sess, batch_features, batch_labels, cost, accuracy)\n",
    "            \n",
    "    # Save Model\n",
    "    saver = tf.train.Saver()\n",
    "    save_path = saver.save(sess, save_model_path)"
   ]
  },
  {
   "cell_type": "markdown",
   "metadata": {},
   "source": [
    "# Checkpoint\n",
    "The model has been saved to disk.\n",
    "## Test Model\n",
    "Test your model against the test dataset.  This will be your final accuracy. You should have an accuracy greater than 50%. If you don't, keep tweaking the model architecture and parameters."
   ]
  },
  {
   "cell_type": "code",
   "execution_count": 213,
   "metadata": {
    "collapsed": false
   },
   "outputs": [
    {
     "name": "stdout",
     "output_type": "stream",
     "text": [
      "Testing Accuracy: 0.67880859375\n",
      "\n"
     ]
    },
    {
     "data": {
      "image/png": "[encoded data removed]",
      "text/plain": [
       "<matplotlib.figure.Figure at 0x7f1d82e8fa58>"
      ]
     },
     "metadata": {
      "image/png": {
       "height": 319,
       "width": 355
      }
     },
     "output_type": "display_data"
    }
   ],
   "source": [
    "\"\"\"\n",
    "DON'T MODIFY ANYTHING IN THIS CELL\n",
    "\"\"\"\n",
    "%matplotlib inline\n",
    "%config InlineBackend.figure_format = 'retina'\n",
    "\n",
    "import tensorflow as tf\n",
    "import pickle\n",
    "import helper\n",
    "import random\n",
    "\n",
    "# Set batch size if not already set\n",
    "try:\n",
    "    if batch_size:\n",
    "        pass\n",
    "except NameError:\n",
    "    batch_size = 64\n",
    "\n",
    "save_model_path = './image_classification'\n",
    "n_samples = 4\n",
    "top_n_predictions = 3\n",
    "\n",
    "def test_model():\n",
    "    \"\"\"\n",
    "    Test the saved model against the test dataset\n",
    "    \"\"\"\n",
    "\n",
    "    test_features, test_labels = pickle.load(open('preprocess_training.p', mode='rb'))\n",
    "    loaded_graph = tf.Graph()\n",
    "\n",
    "    with tf.Session(graph=loaded_graph) as sess:\n",
    "        # Load model\n",
    "        loader = tf.train.import_meta_graph(save_model_path + '.meta')\n",
    "        loader.restore(sess, save_model_path)\n",
    "\n",
    "        # Get Tensors from loaded model\n",
    "        loaded_x = loaded_graph.get_tensor_by_name('x:0')\n",
    "        loaded_y = loaded_graph.get_tensor_by_name('y:0')\n",
    "        loaded_keep_prob = loaded_graph.get_tensor_by_name('keep_prob:0')\n",
    "        loaded_logits = loaded_graph.get_tensor_by_name('logits:0')\n",
    "        loaded_acc = loaded_graph.get_tensor_by_name('accuracy:0')\n",
    "        \n",
    "        # Get accuracy in batches for memory limitations\n",
    "        test_batch_acc_total = 0\n",
    "        test_batch_count = 0\n",
    "        \n",
    "        for train_feature_batch, train_label_batch in helper.batch_features_labels(test_features, test_labels, batch_size):\n",
    "            test_batch_acc_total += sess.run(\n",
    "                loaded_acc,\n",
    "                feed_dict={loaded_x: train_feature_batch, loaded_y: train_label_batch, loaded_keep_prob: 1.0})\n",
    "            test_batch_count += 1\n",
    "\n",
    "        print('Testing Accuracy: {}\\n'.format(test_batch_acc_total/test_batch_count))\n",
    "\n",
    "        # Print Random Samples\n",
    "        random_test_features, random_test_labels = tuple(zip(*random.sample(list(zip(test_features, test_labels)), n_samples)))\n",
    "        random_test_predictions = sess.run(\n",
    "            tf.nn.top_k(tf.nn.softmax(loaded_logits), top_n_predictions),\n",
    "            feed_dict={loaded_x: random_test_features, loaded_y: random_test_labels, loaded_keep_prob: 1.0})\n",
    "        helper.display_image_predictions(random_test_features, random_test_labels, random_test_predictions)\n",
    "\n",
    "\n",
    "test_model()"
   ]
  },
  {
   "cell_type": "markdown",
   "metadata": {},
   "source": [
    "## Why 50-70% Accuracy?\n",
    "You might be wondering why you can't get an accuracy any higher. First things first, 50% isn't bad for a simple CNN.  Pure guessing would get you 10% accuracy. However, you might notice people are getting scores [well above 70%](http://rodrigob.github.io/are_we_there_yet/build/classification_datasets_results.html#43494641522d3130).  That's because we haven't taught you all there is to know about neural networks. We still need to cover a few more techniques.\n",
    "## Submitting This Project\n",
    "When submitting this project, make sure to run all the cells before saving the notebook.  Save the notebook file as \"dlnd_image_classification.ipynb\" and save it as a HTML file under \"File\" -> \"Download as\".  Include the \"helper.py\" and \"problem_unittests.py\" files in your submission."
   ]
  }
 ],
 "metadata": {
  "kernelspec": {
   "display_name": "Python [python3]",
   "language": "python",
   "name": "Python [python3]"
  },
  "language_info": {
   "codemirror_mode": {
    "name": "ipython",
    "version": 3
   },
   "file_extension": ".py",
   "mimetype": "text/x-python",
   "name": "python",
   "nbconvert_exporter": "python",
   "pygments_lexer": "ipython3",
   "version": "3.6.0"
  },
  "widgets": {
   "state": {},
   "version": "1.1.2"
  }
 },
 "nbformat": 4,
 "nbformat_minor": 0
}
