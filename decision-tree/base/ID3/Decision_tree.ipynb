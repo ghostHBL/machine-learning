{
 "cells": [
  {
   "cell_type": "markdown",
   "metadata": {},
   "source": [
    "# Decision Tree\n",
    "### ID3"
   ]
  },
  {
   "cell_type": "code",
   "execution_count": 1,
   "metadata": {
    "collapsed": false
   },
   "outputs": [],
   "source": [
    "import numpy as np\n",
    "import matplotlib.pyplot as plt\n",
    "import collections"
   ]
  },
  {
   "cell_type": "markdown",
   "metadata": {},
   "source": [
    "# Entropy\n",
    "**S = -sum(p(X)log2p(X))**\n",
    "\n",
    "**plot a image of -(x\\*log2(x)+(1-x)\\*log2(1-x))**\n",
    "\n",
    "when x is 1 or (1-x) is 1, the S will close to 0"
   ]
  },
  {
   "cell_type": "code",
   "execution_count": 2,
   "metadata": {
    "collapsed": false
   },
   "outputs": [
    {
     "data": {
      "image/png": "[encoded data removed]",
      "text/plain": [
       "<matplotlib.figure.Figure at 0x10cc0db38>"
      ]
     },
     "metadata": {},
     "output_type": "display_data"
    }
   ],
   "source": [
    "fig = plt.figure()\n",
    "ax = fig.add_subplot(111)\n",
    "x = np.arange(0, 100)/100\n",
    "x = x[1:]\n",
    "ax.plot(x, -(x*np.log2(x)+(1-x)*np.log2(1-x)))\n",
    "plt.xlabel('x', fontsize = 'large')\n",
    "plt.ylabel('S', fontsize = 'large')\n",
    "plt.show()"
   ]
  },
  {
   "cell_type": "code",
   "execution_count": 3,
   "metadata": {
    "collapsed": true
   },
   "outputs": [],
   "source": [
    "def calc_entropy(labels):\n",
    "    m = len(labels)\n",
    "    labelcounts = collections.Counter(labels)\n",
    "    entropy = 0\n",
    "    for key in labelcounts:\n",
    "        prob = labelcounts[key]/m\n",
    "        entropy -=prob*np.log2(prob)\n",
    "    return entropy"
   ]
  },
  {
   "cell_type": "code",
   "execution_count": 4,
   "metadata": {
    "collapsed": true
   },
   "outputs": [],
   "source": [
    "dataset = np.array([[1, 1], [1, 1], [1, 0], [0, 1], [0, 0]])\n",
    "labels = np.array(['yes', 'yes', 'no', 'no', 'no'])\n",
    "feature_name = np.array(['no surfacing', 'flippers'])"
   ]
  },
  {
   "cell_type": "code",
   "execution_count": 5,
   "metadata": {
    "collapsed": false
   },
   "outputs": [
    {
     "data": {
      "text/plain": [
       "0.97095059445466858"
      ]
     },
     "execution_count": 5,
     "metadata": {},
     "output_type": "execute_result"
    }
   ],
   "source": [
    "calc_entropy(labels)"
   ]
  },
  {
   "cell_type": "code",
   "execution_count": 6,
   "metadata": {
    "collapsed": false
   },
   "outputs": [
    {
     "data": {
      "text/plain": [
       "Counter({'no': 3, 'yes': 2})"
      ]
     },
     "execution_count": 6,
     "metadata": {},
     "output_type": "execute_result"
    }
   ],
   "source": [
    "collections.Counter(labels)"
   ]
  },
  {
   "cell_type": "markdown",
   "metadata": {},
   "source": [
    "## Split dataset"
   ]
  },
  {
   "cell_type": "code",
   "execution_count": 7,
   "metadata": {
    "collapsed": true
   },
   "outputs": [],
   "source": [
    "def split_dataset(dataset, axis, value, labels):\n",
    "    new_dataset = dataset[dataset[:, axis] == value]\n",
    "    new_dataset = np.delete(new_dataset, axis, 1) #delete the feature from the dataset\n",
    "    new_labels = labels[dataset[:, axis] == value]\n",
    "    return new_dataset, new_labels"
   ]
  },
  {
   "cell_type": "code",
   "execution_count": 8,
   "metadata": {
    "collapsed": false
   },
   "outputs": [
    {
     "data": {
      "text/plain": [
       "(array([[1],\n",
       "        [1],\n",
       "        [0]]), array(['yes', 'yes', 'no'], \n",
       "       dtype='<U3'))"
      ]
     },
     "execution_count": 8,
     "metadata": {},
     "output_type": "execute_result"
    }
   ],
   "source": [
    "split_dataset(dataset, 0 ,1, labels)"
   ]
  },
  {
   "cell_type": "markdown",
   "metadata": {},
   "source": [
    "## Choose best feature index"
   ]
  },
  {
   "cell_type": "code",
   "execution_count": 9,
   "metadata": {
    "collapsed": false
   },
   "outputs": [],
   "source": [
    "def choose_best_feature(dataset, labels):\n",
    "    n = len(dataset[0])\n",
    "    base_ent = calc_entropy(labels)\n",
    "    best_feature = -1\n",
    "    best_info_gain = 0\n",
    "    for i in range(n):\n",
    "        new_ent = 0.\n",
    "        for value in set(dataset[:, i]):\n",
    "            new_labels = labels[dataset[:, i] == value]\n",
    "            new_ent += len(new_labels) / len(labels) * calc_entropy(new_labels) #add all the entropy\n",
    "        info_gain = base_ent - new_ent\n",
    "        if info_gain > best_info_gain:\n",
    "            best_info_gain = info_gain\n",
    "            best_feature = i\n",
    "    return best_feature"
   ]
  },
  {
   "cell_type": "code",
   "execution_count": 10,
   "metadata": {
    "collapsed": false
   },
   "outputs": [
    {
     "data": {
      "text/plain": [
       "0"
      ]
     },
     "execution_count": 10,
     "metadata": {},
     "output_type": "execute_result"
    }
   ],
   "source": [
    "choose_best_feature(dataset, labels)"
   ]
  },
  {
   "cell_type": "markdown",
   "metadata": {},
   "source": [
    "## Create Tree"
   ]
  },
  {
   "cell_type": "code",
   "execution_count": 11,
   "metadata": {
    "collapsed": true
   },
   "outputs": [],
   "source": [
    "def create_tree(dataset, labels, feature_name):\n",
    "    assert len(dataset[0]) == len(feature_name)\n",
    "    assert len(dataset) == len(labels)\n",
    "    if len(set(labels)) == 1:\n",
    "        return labels[0]\n",
    "    if len(dataset[0]) == 0:\n",
    "        return collections.Counter(labels).most_common(1)[0][0]\n",
    "    best_feature = choose_best_feature(dataset, labels)\n",
    "    if best_feature == -1:\n",
    "        return collections.Counter(labels).most_common(1)[0][0]\n",
    "    best_feat_name = feature_name[best_feature]\n",
    "    feature_name = np.delete(feature_name, best_feature)\n",
    "    my_tree = {best_feat_name:{}}\n",
    "    for value in set(dataset[:, best_feature]):\n",
    "        sub_dataset, sub_labels = split_dataset(dataset, best_feature, value, labels)\n",
    "        my_tree[best_feat_name][value] = create_tree(sub_dataset, sub_labels, feature_name) #go to create the next node\n",
    "    return my_tree"
   ]
  },
  {
   "cell_type": "code",
   "execution_count": 12,
   "metadata": {
    "collapsed": false
   },
   "outputs": [],
   "source": [
    "mytree = create_tree(dataset, labels, feature_name)"
   ]
  },
  {
   "cell_type": "code",
   "execution_count": 13,
   "metadata": {
    "collapsed": false
   },
   "outputs": [
    {
     "data": {
      "text/plain": [
       "{'no surfacing': {0: 'no', 1: {'flippers': {0: 'no', 1: 'yes'}}}}"
      ]
     },
     "execution_count": 13,
     "metadata": {},
     "output_type": "execute_result"
    }
   ],
   "source": [
    "mytree"
   ]
  },
  {
   "cell_type": "code",
   "execution_count": 14,
   "metadata": {
    "collapsed": false
   },
   "outputs": [
    {
     "data": {
      "text/plain": [
       "['no surfacing']"
      ]
     },
     "execution_count": 14,
     "metadata": {},
     "output_type": "execute_result"
    }
   ],
   "source": [
    "list(mytree)"
   ]
  },
  {
   "cell_type": "markdown",
   "metadata": {},
   "source": [
    "## Make classify "
   ]
  },
  {
   "cell_type": "code",
   "execution_count": 15,
   "metadata": {
    "collapsed": true
   },
   "outputs": [],
   "source": [
    "def classify(x, tree, feat_name):\n",
    "    first_key = list(tree.keys())[0] #get the best feature name in this node\n",
    "    sec_dict = tree[first_key] #get the value of this node\n",
    "    feat_index = list(feat_name).index(first_key)\n",
    "    for key in sec_dict.keys():\n",
    "        if x[feat_index] == key:\n",
    "            if type(sec_dict[key]).__name__ == 'dict': #go to the next node\n",
    "                class_label = classify(x, sec_dict[key], feat_name)\n",
    "            else: class_label = sec_dict[key]\n",
    "    return class_label"
   ]
  },
  {
   "cell_type": "code",
   "execution_count": 16,
   "metadata": {
    "collapsed": false
   },
   "outputs": [
    {
     "data": {
      "text/plain": [
       "'yes'"
      ]
     },
     "execution_count": 16,
     "metadata": {},
     "output_type": "execute_result"
    }
   ],
   "source": [
    "classify(np.array([1,1]), mytree, feature_name)"
   ]
  },
  {
   "cell_type": "code",
   "execution_count": 17,
   "metadata": {
    "collapsed": false
   },
   "outputs": [
    {
     "data": {
      "text/plain": [
       "array([ True, False], dtype=bool)"
      ]
     },
     "execution_count": 17,
     "metadata": {},
     "output_type": "execute_result"
    }
   ],
   "source": [
    "feature_name == 'no surfacing'"
   ]
  },
  {
   "cell_type": "markdown",
   "metadata": {},
   "source": [
    "## Store tree"
   ]
  },
  {
   "cell_type": "code",
   "execution_count": 18,
   "metadata": {
    "collapsed": true
   },
   "outputs": [],
   "source": [
    "import pickle\n",
    "def store_tree(tree, filename):\n",
    "    f = open(filename, 'wb')\n",
    "    pickle.dump(tree, f)\n",
    "    f.close()\n",
    "\n",
    "def grab_tree(filename):\n",
    "    f = open(filename, 'rb')\n",
    "    return pickle.load(f)"
   ]
  },
  {
   "cell_type": "code",
   "execution_count": 19,
   "metadata": {
    "collapsed": false
   },
   "outputs": [],
   "source": [
    "store_tree(mytree, 'tree')"
   ]
  },
  {
   "cell_type": "code",
   "execution_count": 20,
   "metadata": {
    "collapsed": false
   },
   "outputs": [
    {
     "data": {
      "text/plain": [
       "{'no surfacing': {0: 'no', 1: {'flippers': {0: 'no', 1: 'yes'}}}}"
      ]
     },
     "execution_count": 20,
     "metadata": {},
     "output_type": "execute_result"
    }
   ],
   "source": [
    "grab_tree('tree')"
   ]
  },
  {
   "cell_type": "markdown",
   "metadata": {},
   "source": [
    "## A example for decide which type of lenses is suitable for a people"
   ]
  },
  {
   "cell_type": "code",
   "execution_count": 21,
   "metadata": {
    "collapsed": true
   },
   "outputs": [],
   "source": [
    "def load_dataset(filename):\n",
    "    fr = open(filename)\n",
    "    dataset = [line.strip().split('\\t') for line in fr.readlines()]\n",
    "    dataset = np.array(dataset)\n",
    "    features = dataset[:, :-1]\n",
    "    labels = dataset[:, -1]\n",
    "    feature_name = ['age', 'prescript', 'astigmatic', 'tearRate']\n",
    "    return features, feature_name, labels"
   ]
  },
  {
   "cell_type": "code",
   "execution_count": 22,
   "metadata": {
    "collapsed": false
   },
   "outputs": [],
   "source": [
    "features, feature_name, labels = load_dataset('lenses.txt')"
   ]
  },
  {
   "cell_type": "code",
   "execution_count": 23,
   "metadata": {
    "collapsed": false
   },
   "outputs": [],
   "source": [
    "lenses_tree = create_tree(features, labels, feature_name)"
   ]
  },
  {
   "cell_type": "code",
   "execution_count": 24,
   "metadata": {
    "collapsed": false
   },
   "outputs": [
    {
     "data": {
      "text/plain": [
       "{'tearRate': {'normal': {'astigmatic': {'no': {'age': {'pre': 'soft',\n",
       "      'presbyopic': {'prescript': {'hyper': 'soft', 'myope': 'no lenses'}},\n",
       "      'young': 'soft'}},\n",
       "    'yes': {'prescript': {'hyper': {'age': {'pre': 'no lenses',\n",
       "        'presbyopic': 'no lenses',\n",
       "        'young': 'hard'}},\n",
       "      'myope': 'hard'}}}},\n",
       "  'reduced': 'no lenses'}}"
      ]
     },
     "execution_count": 24,
     "metadata": {},
     "output_type": "execute_result"
    }
   ],
   "source": [
    "lenses_tree"
   ]
  },
  {
   "cell_type": "markdown",
   "metadata": {},
   "source": [
    "**draw a tree (this function is copy from the internet)**"
   ]
  },
  {
   "cell_type": "code",
   "execution_count": 25,
   "metadata": {
    "collapsed": false
   },
   "outputs": [
    {
     "data": {
      "image/png": "[encoded data removed]",
      "text/plain": [
       "<matplotlib.figure.Figure at 0x10cc0e1d0>"
      ]
     },
     "metadata": {},
     "output_type": "display_data"
    }
   ],
   "source": [
    "import treePlotter\n",
    "treePlotter.createPlot(lenses_tree)"
   ]
  },
  {
   "cell_type": "code",
   "execution_count": null,
   "metadata": {
    "collapsed": true
   },
   "outputs": [],
   "source": []
  }
 ],
 "metadata": {
  "anaconda-cloud": {},
  "kernelspec": {
   "display_name": "Python [python3]",
   "language": "python",
   "name": "Python [python3]"
  },
  "language_info": {
   "codemirror_mode": {
    "name": "ipython",
    "version": 3
   },
   "file_extension": ".py",
   "mimetype": "text/x-python",
   "name": "python",
   "nbconvert_exporter": "python",
   "pygments_lexer": "ipython3",
   "version": "3.6.0"
  }
 },
 "nbformat": 4,
 "nbformat_minor": 0
}
