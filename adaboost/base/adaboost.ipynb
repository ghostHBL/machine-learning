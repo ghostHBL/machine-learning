{
 "cells": [
  {
   "cell_type": "markdown",
   "metadata": {},
   "source": [
    "# AdaBoost"
   ]
  },
  {
   "cell_type": "code",
   "execution_count": 2,
   "metadata": {
    "collapsed": false
   },
   "outputs": [],
   "source": [
    "import numpy as np\n",
    "import matplotlib.pyplot as plt"
   ]
  },
  {
   "cell_type": "code",
   "execution_count": 3,
   "metadata": {
    "collapsed": true
   },
   "outputs": [],
   "source": [
    "def load_simp_data():\n",
    "    dataset = np.array([[1, 2.1], [2, 1.1], [1.3, 1], [1, 1], [2, 1]])\n",
    "    labels = np.array([1, 1, -1, -1, 1], dtype=float)\n",
    "    return dataset, labels"
   ]
  },
  {
   "cell_type": "code",
   "execution_count": 5,
   "metadata": {
    "collapsed": false
   },
   "outputs": [],
   "source": [
    "dataset, labels = load_simp_data()"
   ]
  },
  {
   "cell_type": "code",
   "execution_count": 14,
   "metadata": {
    "collapsed": false
   },
   "outputs": [
    {
     "data": {
      "image/png": "[encoded data removed]",
      "text/plain": [
       "<matplotlib.figure.Figure at 0x115176278>"
      ]
     },
     "metadata": {},
     "output_type": "display_data"
    }
   ],
   "source": [
    "fig = plt.figure()\n",
    "ax = fig.add_subplot(111)\n",
    "ax.scatter(dataset[labels == 1, 0], dataset[labels == 1, 1])\n",
    "ax.scatter(dataset[labels == -1, 0], dataset[labels == -1, 1])\n",
    "plt.show()"
   ]
  },
  {
   "cell_type": "markdown",
   "metadata": {},
   "source": [
    "## create a simple decision tree with just a single layer"
   ]
  },
  {
   "cell_type": "code",
   "execution_count": 314,
   "metadata": {
    "collapsed": false
   },
   "outputs": [],
   "source": [
    "class single_tree():\n",
    "    #def __init__(self):\n",
    "    def train(self, dataset, labels, D):\n",
    "        m, n = dataset.shape\n",
    "        self.model = {}\n",
    "        self.D = D\n",
    "        min_error = np.inf\n",
    "        steps = 10\n",
    "        #find a best index, threshold, tres_ineq to classify the dataset\n",
    "        for i in range(n):\n",
    "            min_value = dataset[:, i].min()\n",
    "            max_value = dataset[:, i].max()\n",
    "            step_size = (max_value - min_value)/steps\n",
    "            for j in range(-1, steps+1):\n",
    "                threshold = min_value + j*step_size\n",
    "                for thres_ineq in ['lt', 'gt']:\n",
    "                    predict_labels = np.ones(m)\n",
    "                    if thres_ineq == 'lt':\n",
    "                        predict_labels[dataset[:, i] <= threshold] = -1.0\n",
    "                    else:\n",
    "                        predict_labels[dataset[:, i] > threshold] = -1.0\n",
    "                    err_arr = (predict_labels != labels)\n",
    "                    weight_err = np.matmul(D, err_arr.T)\n",
    "                    #print('index: ', i, 'threshold: ', threshold, \\\n",
    "                     #     'thres_ineq: ', thres_ineq, 'error rate: ', weight_err)\n",
    "                    if weight_err < min_error:\n",
    "                        min_error = weight_err\n",
    "                        self.error = min_error\n",
    "                        self.model['index'] = i\n",
    "                        self.model['threshold'] = threshold\n",
    "                        self.model['ineq'] = thres_ineq\n",
    "                        self.best_predict = predict_labels.copy()\n",
    "    \n",
    "    def predict(self, x):\n",
    "        m, n = x.shape\n",
    "        predict_labels = np.ones(m)\n",
    "        if self.model['ineq'] == 'lt':\n",
    "            predict_labels[x[:, self.model['index']] <= self.model['threshold']] = -1\n",
    "        else:\n",
    "            predict_labels[x[:, self.model['index']] > self.model['threshold']] = -1\n",
    "        return predict_labels\n",
    "    \n",
    "    def labels_amend(self, labels):\n",
    "        return np.sign(labels)"
   ]
  },
  {
   "cell_type": "code",
   "execution_count": 315,
   "metadata": {
    "collapsed": false
   },
   "outputs": [],
   "source": [
    "D = np.ones(len(labels))/(len(labels))\n",
    "tree = single_tree()\n",
    "tree.train(dataset, labels, D)\n",
    "tree_test = []\n",
    "tree_test.append(tree)"
   ]
  },
  {
   "cell_type": "code",
   "execution_count": 316,
   "metadata": {
    "collapsed": false
   },
   "outputs": [
    {
     "data": {
      "text/plain": [
       "array([-1.,  1., -1., -1.,  1.])"
      ]
     },
     "execution_count": 316,
     "metadata": {},
     "output_type": "execute_result"
    }
   ],
   "source": [
    "tree_test[0].best_predict"
   ]
  },
  {
   "cell_type": "code",
   "execution_count": 317,
   "metadata": {
    "collapsed": true
   },
   "outputs": [],
   "source": [
    "acc_rate = np.ones(5)"
   ]
  },
  {
   "cell_type": "code",
   "execution_count": 318,
   "metadata": {
    "collapsed": false
   },
   "outputs": [
    {
     "data": {
      "text/plain": [
       "array([False,  True,  True,  True,  True], dtype=bool)"
      ]
     },
     "execution_count": 318,
     "metadata": {},
     "output_type": "execute_result"
    }
   ],
   "source": [
    "(tree_test[0].best_predict == labels)"
   ]
  },
  {
   "cell_type": "code",
   "execution_count": 319,
   "metadata": {
    "collapsed": false
   },
   "outputs": [
    {
     "data": {
      "text/plain": [
       "array([ 1., -1., -1., -1., -1.])"
      ]
     },
     "execution_count": 319,
     "metadata": {},
     "output_type": "execute_result"
    }
   ],
   "source": [
    "acc_rate[tree_test[0].best_predict == labels] = -1\n",
    "acc_rate"
   ]
  },
  {
   "cell_type": "code",
   "execution_count": 320,
   "metadata": {
    "collapsed": false
   },
   "outputs": [
    {
     "data": {
      "text/plain": [
       "array([-1.])"
      ]
     },
     "execution_count": 320,
     "metadata": {},
     "output_type": "execute_result"
    }
   ],
   "source": [
    "tree.predict(np.array([[-1, 1]]))"
   ]
  },
  {
   "cell_type": "markdown",
   "metadata": {},
   "source": [
    "## Create a adaboost model"
   ]
  },
  {
   "cell_type": "code",
   "execution_count": 382,
   "metadata": {
    "collapsed": false
   },
   "outputs": [],
   "source": [
    "class adaboost():\n",
    "    def train(self, model, dataset, labels, num = 50):\n",
    "        self.weak_model = []\n",
    "        m, _ = dataset.shape\n",
    "        D = np.ones(m)/m #init the weight of every sample\n",
    "        acc_predict = np.zeros(m)\n",
    "        \n",
    "        for i in range(num):\n",
    "            weak_model = model()\n",
    "            #print('D:', D)\n",
    "            weak_model.train(dataset, labels, D)\n",
    "            # alpha = ln((1-error)/error)/2, alpha is the weight of every model's predict, \n",
    "            # and we also use alpha to update D\n",
    "            alpha = 0.5 * np.log((1-weak_model.error)/max(weak_model.error, 1e-16))\n",
    "            self.weak_model.append({'model': weak_model, 'alpha': alpha})\n",
    "            \n",
    "            '''\n",
    "            updata weight \n",
    "            if the predict is right of the sample:\n",
    "                D_temp = D(t) * exp(-alpha)\n",
    "            else:\n",
    "                D_temp = D(t) * exp(alpha)\n",
    "            D(t+1) = D_temp / D_temp.sum()\n",
    "            '''\n",
    "            D_rate = np.ones(m)\n",
    "            D_rate[weak_model.best_predict == labels] = -1\n",
    "            D_rate = D * np.exp(D_rate * alpha)\n",
    "            D = D_rate / D_rate.sum()\n",
    "            \n",
    "            # claculate the error rate\n",
    "            acc_predict += alpha * weak_model.best_predict\n",
    "            self.error_rate = (weak_model.labels_amend(acc_predict) != labels).mean()\n",
    "            #print('total error rate:', self.error_rate)\n",
    "            self.classer_num = i + 1\n",
    "            if self.error_rate == 0 : break\n",
    "    \n",
    "    \n",
    "    def predict(self, x):\n",
    "        m, _ = x.shape\n",
    "        acc_predict = np.zeros(m)\n",
    "        for i in range(self.classer_num):\n",
    "            predict_single = self.weak_model[i]['model'].predict(x)\n",
    "            acc_predict += self.weak_model[i]['alpha'] * predict_single\n",
    "        return self.weak_model[i]['model'].labels_amend(acc_predict)\n",
    "        "
   ]
  },
  {
   "cell_type": "code",
   "execution_count": 322,
   "metadata": {
    "collapsed": false
   },
   "outputs": [],
   "source": [
    "boost_model = adaboost()"
   ]
  },
  {
   "cell_type": "code",
   "execution_count": 323,
   "metadata": {
    "collapsed": false
   },
   "outputs": [
    {
     "name": "stdout",
     "output_type": "stream",
     "text": [
      "total error rate: 0.2\n",
      "total error rate: 0.2\n",
      "total error rate: 0.0\n"
     ]
    }
   ],
   "source": [
    "boost_model.train(single_tree, dataset, labels, 10)"
   ]
  },
  {
   "cell_type": "code",
   "execution_count": 324,
   "metadata": {
    "collapsed": false
   },
   "outputs": [
    {
     "data": {
      "text/plain": [
       "array([ True,  True,  True,  True,  True], dtype=bool)"
      ]
     },
     "execution_count": 324,
     "metadata": {},
     "output_type": "execute_result"
    }
   ],
   "source": [
    "boost_model.predict(dataset) == labels"
   ]
  },
  {
   "cell_type": "markdown",
   "metadata": {},
   "source": [
    "## Use adaboost to train horse Colic dataset"
   ]
  },
  {
   "cell_type": "code",
   "execution_count": 325,
   "metadata": {
    "collapsed": true
   },
   "outputs": [],
   "source": [
    "f = open('horseColicTraining2.txt')\n",
    "lines = f.readlines()"
   ]
  },
  {
   "cell_type": "code",
   "execution_count": 326,
   "metadata": {
    "collapsed": false
   },
   "outputs": [
    {
     "data": {
      "text/plain": [
       "'2.000000\\t1.000000\\t38.500000\\t66.000000\\t28.000000\\t3.000000\\t3.000000\\t0.000000\\t2.000000\\t5.000000\\t4.000000\\t4.000000\\t0.000000\\t0.000000\\t0.000000\\t3.000000\\t5.000000\\t45.000000\\t8.400000\\t0.000000\\t0.000000\\t-1.000000\\n'"
      ]
     },
     "execution_count": 326,
     "metadata": {},
     "output_type": "execute_result"
    }
   ],
   "source": [
    "lines[0]"
   ]
  },
  {
   "cell_type": "code",
   "execution_count": 327,
   "metadata": {
    "collapsed": true
   },
   "outputs": [],
   "source": [
    "def load_dataset(filename):\n",
    "    f = open(filename)\n",
    "    lines = f.readlines()\n",
    "    dataset = []\n",
    "    for line in lines:\n",
    "        dataset.append(line.strip().split('\\t'))\n",
    "    dataset = np.array(dataset)\n",
    "    labels = dataset[:, -1].astype(float)\n",
    "    dataset = dataset[:, :-1].astype(float)\n",
    "    return dataset, labels"
   ]
  },
  {
   "cell_type": "code",
   "execution_count": 328,
   "metadata": {
    "collapsed": false
   },
   "outputs": [],
   "source": [
    "train_datas, train_labels = load_dataset('horseColicTraining2.txt')"
   ]
  },
  {
   "cell_type": "code",
   "execution_count": 329,
   "metadata": {
    "collapsed": false
   },
   "outputs": [
    {
     "data": {
      "text/plain": [
       "(299, 21)"
      ]
     },
     "execution_count": 329,
     "metadata": {},
     "output_type": "execute_result"
    }
   ],
   "source": [
    "train_datas.shape"
   ]
  },
  {
   "cell_type": "code",
   "execution_count": 353,
   "metadata": {
    "collapsed": false
   },
   "outputs": [
    {
     "name": "stdout",
     "output_type": "stream",
     "text": [
      "total error rate: 0.284280936455\n",
      "total error rate: 0.284280936455\n",
      "total error rate: 0.247491638796\n",
      "total error rate: 0.247491638796\n",
      "total error rate: 0.254180602007\n",
      "total error rate: 0.240802675585\n",
      "total error rate: 0.240802675585\n",
      "total error rate: 0.220735785953\n",
      "total error rate: 0.247491638796\n",
      "total error rate: 0.230769230769\n",
      "total error rate: 0.240802675585\n",
      "total error rate: 0.214046822742\n",
      "total error rate: 0.227424749164\n",
      "total error rate: 0.217391304348\n",
      "total error rate: 0.220735785953\n",
      "total error rate: 0.217391304348\n",
      "total error rate: 0.224080267559\n",
      "total error rate: 0.224080267559\n",
      "total error rate: 0.230769230769\n",
      "total error rate: 0.224080267559\n",
      "total error rate: 0.214046822742\n",
      "total error rate: 0.207357859532\n",
      "total error rate: 0.224080267559\n",
      "total error rate: 0.224080267559\n",
      "total error rate: 0.214046822742\n",
      "total error rate: 0.220735785953\n",
      "total error rate: 0.204013377926\n",
      "total error rate: 0.207357859532\n",
      "total error rate: 0.210702341137\n",
      "total error rate: 0.217391304348\n",
      "total error rate: 0.210702341137\n",
      "total error rate: 0.217391304348\n",
      "total error rate: 0.207357859532\n",
      "total error rate: 0.210702341137\n",
      "total error rate: 0.207357859532\n",
      "total error rate: 0.207357859532\n",
      "total error rate: 0.197324414716\n",
      "total error rate: 0.190635451505\n",
      "total error rate: 0.200668896321\n",
      "total error rate: 0.197324414716\n",
      "total error rate: 0.200668896321\n",
      "total error rate: 0.19397993311\n",
      "total error rate: 0.19397993311\n",
      "total error rate: 0.190635451505\n",
      "total error rate: 0.1872909699\n",
      "total error rate: 0.190635451505\n",
      "total error rate: 0.190635451505\n",
      "total error rate: 0.1872909699\n",
      "total error rate: 0.19397993311\n",
      "total error rate: 0.1872909699\n",
      "total error rate: 0.19397993311\n",
      "total error rate: 0.183946488294\n",
      "total error rate: 0.19397993311\n",
      "total error rate: 0.183946488294\n",
      "total error rate: 0.19397993311\n",
      "total error rate: 0.190635451505\n",
      "total error rate: 0.197324414716\n",
      "total error rate: 0.19397993311\n",
      "total error rate: 0.1872909699\n",
      "total error rate: 0.1872909699\n",
      "total error rate: 0.19397993311\n",
      "total error rate: 0.19397993311\n",
      "total error rate: 0.19397993311\n",
      "total error rate: 0.19397993311\n",
      "total error rate: 0.19397993311\n",
      "total error rate: 0.190635451505\n",
      "total error rate: 0.1872909699\n",
      "total error rate: 0.190635451505\n",
      "total error rate: 0.190635451505\n",
      "total error rate: 0.19397993311\n",
      "total error rate: 0.190635451505\n",
      "total error rate: 0.190635451505\n",
      "total error rate: 0.183946488294\n",
      "total error rate: 0.1872909699\n",
      "total error rate: 0.1872909699\n",
      "total error rate: 0.190635451505\n",
      "total error rate: 0.1872909699\n",
      "total error rate: 0.190635451505\n",
      "total error rate: 0.180602006689\n",
      "total error rate: 0.19397993311\n",
      "total error rate: 0.183946488294\n",
      "total error rate: 0.1872909699\n",
      "total error rate: 0.183946488294\n",
      "total error rate: 0.1872909699\n",
      "total error rate: 0.183946488294\n",
      "total error rate: 0.190635451505\n",
      "total error rate: 0.1872909699\n",
      "total error rate: 0.19397993311\n",
      "total error rate: 0.1872909699\n",
      "total error rate: 0.190635451505\n",
      "total error rate: 0.183946488294\n",
      "total error rate: 0.183946488294\n",
      "total error rate: 0.183946488294\n",
      "total error rate: 0.190635451505\n",
      "total error rate: 0.1872909699\n",
      "total error rate: 0.197324414716\n",
      "total error rate: 0.190635451505\n",
      "total error rate: 0.19397993311\n",
      "total error rate: 0.190635451505\n",
      "total error rate: 0.190635451505\n"
     ]
    }
   ],
   "source": [
    "horse_colic_boost = adaboost()\n",
    "horse_colic_boost.train(single_tree, train_datas, train_labels, 100)"
   ]
  },
  {
   "cell_type": "code",
   "execution_count": 352,
   "metadata": {
    "collapsed": false
   },
   "outputs": [
    {
     "data": {
      "text/plain": [
       "0.19063545150501673"
      ]
     },
     "execution_count": 352,
     "metadata": {},
     "output_type": "execute_result"
    }
   ],
   "source": [
    "horse_colic_boost.error_rate"
   ]
  },
  {
   "cell_type": "code",
   "execution_count": 373,
   "metadata": {
    "collapsed": false
   },
   "outputs": [
    {
     "data": {
      "text/plain": [
       "0.77611940298507465"
      ]
     },
     "execution_count": 373,
     "metadata": {},
     "output_type": "execute_result"
    }
   ],
   "source": [
    "#use test data\n",
    "test_datas, test_labels = load_dataset('horseColicTest2.txt')\n",
    "(horse_colic_boost.predict(test_datas) == test_labels).mean()"
   ]
  },
  {
   "cell_type": "code",
   "execution_count": 387,
   "metadata": {
    "collapsed": false
   },
   "outputs": [
    {
     "data": {
      "image/png": "[encoded data removed]",
      "text/plain": [
       "<matplotlib.figure.Figure at 0x11740af28>"
      ]
     },
     "metadata": {},
     "output_type": "display_data"
    }
   ],
   "source": [
    "train_acc = []\n",
    "test_acc = []\n",
    "horse_colic_boost = adaboost()\n",
    "step = 100\n",
    "for i in range(1, step+1):\n",
    "    horse_colic_boost.train(single_tree, train_datas, train_labels, i)\n",
    "    train_acc.append(1 - horse_colic_boost.error_rate)\n",
    "    test_acc.append((horse_colic_boost.predict(test_datas) == test_labels).mean())\n",
    "    #print(i)\n",
    "fig = plt.figure()\n",
    "ax = fig.add_subplot(111)\n",
    "ax.plot(range(1, step+1), train_acc, label='train_acc')\n",
    "ax.plot(range(1, step+1), test_acc, label='test_acc')\n",
    "plt.legend()\n",
    "plt.show()"
   ]
  },
  {
   "cell_type": "markdown",
   "metadata": {},
   "source": [
    "## train pima dataset"
   ]
  },
  {
   "cell_type": "code",
   "execution_count": 388,
   "metadata": {
    "collapsed": false
   },
   "outputs": [],
   "source": [
    "import pandas as pd\n",
    "pima_dataset = pd.read_csv('pima-indians-diabetes.data.csv', header=None )\n",
    "pima_labels = pima_dataset[8]\n",
    "del pima_dataset[8]\n",
    "pima_dataset = np.array(pima_dataset)\n",
    "pima_labels = np.array(pima_labels)"
   ]
  },
  {
   "cell_type": "code",
   "execution_count": 389,
   "metadata": {
    "collapsed": false
   },
   "outputs": [],
   "source": [
    "pima_labels[pima_labels == 0] = -1"
   ]
  },
  {
   "cell_type": "code",
   "execution_count": 390,
   "metadata": {
    "collapsed": false
   },
   "outputs": [],
   "source": [
    "pima_boost = adaboost()\n",
    "pima_boost.train(single_tree, pima_dataset, pima_labels, 100)"
   ]
  },
  {
   "cell_type": "code",
   "execution_count": 391,
   "metadata": {
    "collapsed": false
   },
   "outputs": [
    {
     "data": {
      "text/plain": [
       "0.20442708333333334"
      ]
     },
     "execution_count": 391,
     "metadata": {},
     "output_type": "execute_result"
    }
   ],
   "source": [
    "pima_boost.error_rate"
   ]
  }
 ],
 "metadata": {
  "anaconda-cloud": {},
  "kernelspec": {
   "display_name": "Python [python3]",
   "language": "python",
   "name": "Python [python3]"
  },
  "language_info": {
   "codemirror_mode": {
    "name": "ipython",
    "version": 3
   },
   "file_extension": ".py",
   "mimetype": "text/x-python",
   "name": "python",
   "nbconvert_exporter": "python",
   "pygments_lexer": "ipython3",
   "version": "3.6.0"
  }
 },
 "nbformat": 4,
 "nbformat_minor": 0
}
