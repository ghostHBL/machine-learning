{
 "cells": [
  {
   "cell_type": "markdown",
   "metadata": {},
   "source": [
    "## Bayes algorithm"
   ]
  },
  {
   "cell_type": "code",
   "execution_count": 1,
   "metadata": {
    "collapsed": true
   },
   "outputs": [],
   "source": [
    "import numpy as np\n",
    "import pandas as pd"
   ]
  },
  {
   "cell_type": "code",
   "execution_count": 102,
   "metadata": {
    "collapsed": false
   },
   "outputs": [],
   "source": [
    "dataset = pd.read_csv('pima-indians-diabetes.data.csv', header=None )"
   ]
  },
  {
   "cell_type": "code",
   "execution_count": 103,
   "metadata": {
    "collapsed": false
   },
   "outputs": [
    {
     "data": {
      "text/html": [
       "<div>\n",
       "<table border=\"1\" class=\"dataframe\">\n",
       "  <thead>\n",
       "    <tr style=\"text-align: right;\">\n",
       "      <th></th>\n",
       "      <th>0</th>\n",
       "      <th>1</th>\n",
       "      <th>2</th>\n",
       "      <th>3</th>\n",
       "      <th>4</th>\n",
       "      <th>5</th>\n",
       "      <th>6</th>\n",
       "      <th>7</th>\n",
       "      <th>8</th>\n",
       "    </tr>\n",
       "  </thead>\n",
       "  <tbody>\n",
       "    <tr>\n",
       "      <th>0</th>\n",
       "      <td>6</td>\n",
       "      <td>148</td>\n",
       "      <td>72</td>\n",
       "      <td>35</td>\n",
       "      <td>0</td>\n",
       "      <td>33.6</td>\n",
       "      <td>0.627</td>\n",
       "      <td>50</td>\n",
       "      <td>1</td>\n",
       "    </tr>\n",
       "    <tr>\n",
       "      <th>1</th>\n",
       "      <td>1</td>\n",
       "      <td>85</td>\n",
       "      <td>66</td>\n",
       "      <td>29</td>\n",
       "      <td>0</td>\n",
       "      <td>26.6</td>\n",
       "      <td>0.351</td>\n",
       "      <td>31</td>\n",
       "      <td>0</td>\n",
       "    </tr>\n",
       "    <tr>\n",
       "      <th>2</th>\n",
       "      <td>8</td>\n",
       "      <td>183</td>\n",
       "      <td>64</td>\n",
       "      <td>0</td>\n",
       "      <td>0</td>\n",
       "      <td>23.3</td>\n",
       "      <td>0.672</td>\n",
       "      <td>32</td>\n",
       "      <td>1</td>\n",
       "    </tr>\n",
       "    <tr>\n",
       "      <th>3</th>\n",
       "      <td>1</td>\n",
       "      <td>89</td>\n",
       "      <td>66</td>\n",
       "      <td>23</td>\n",
       "      <td>94</td>\n",
       "      <td>28.1</td>\n",
       "      <td>0.167</td>\n",
       "      <td>21</td>\n",
       "      <td>0</td>\n",
       "    </tr>\n",
       "    <tr>\n",
       "      <th>4</th>\n",
       "      <td>0</td>\n",
       "      <td>137</td>\n",
       "      <td>40</td>\n",
       "      <td>35</td>\n",
       "      <td>168</td>\n",
       "      <td>43.1</td>\n",
       "      <td>2.288</td>\n",
       "      <td>33</td>\n",
       "      <td>1</td>\n",
       "    </tr>\n",
       "  </tbody>\n",
       "</table>\n",
       "</div>"
      ],
      "text/plain": [
       "   0    1   2   3    4     5      6   7  8\n",
       "0  6  148  72  35    0  33.6  0.627  50  1\n",
       "1  1   85  66  29    0  26.6  0.351  31  0\n",
       "2  8  183  64   0    0  23.3  0.672  32  1\n",
       "3  1   89  66  23   94  28.1  0.167  21  0\n",
       "4  0  137  40  35  168  43.1  2.288  33  1"
      ]
     },
     "execution_count": 103,
     "metadata": {},
     "output_type": "execute_result"
    }
   ],
   "source": [
    "dataset.head()"
   ]
  },
  {
   "cell_type": "code",
   "execution_count": 104,
   "metadata": {
    "collapsed": false
   },
   "outputs": [
    {
     "data": {
      "text/plain": [
       "768"
      ]
     },
     "execution_count": 104,
     "metadata": {},
     "output_type": "execute_result"
    }
   ],
   "source": [
    "len(dataset)"
   ]
  },
  {
   "cell_type": "code",
   "execution_count": 105,
   "metadata": {
    "collapsed": true
   },
   "outputs": [],
   "source": [
    "labels = dataset[8]\n",
    "del dataset[8]"
   ]
  },
  {
   "cell_type": "code",
   "execution_count": 126,
   "metadata": {
    "collapsed": true
   },
   "outputs": [],
   "source": [
    "def calc_stdev(dataset):\n",
    "    return (np.sum((dataset - np.mean(dataset, axis=0))**2, axis=0)/len(dataset))**0.5"
   ]
  },
  {
   "cell_type": "code",
   "execution_count": 127,
   "metadata": {
    "collapsed": false
   },
   "outputs": [
    {
     "data": {
      "text/plain": [
       "0      3.367384\n",
       "1     31.951796\n",
       "2     19.343202\n",
       "3     15.941829\n",
       "4    115.168949\n",
       "5      7.879026\n",
       "6      0.331113\n",
       "7     11.752573\n",
       "dtype: float64"
      ]
     },
     "execution_count": 127,
     "metadata": {},
     "output_type": "execute_result"
    }
   ],
   "source": [
    "calc_stdev(dataset)"
   ]
  },
  {
   "cell_type": "code",
   "execution_count": 108,
   "metadata": {
    "collapsed": true
   },
   "outputs": [],
   "source": [
    "def calc_gaussian(x, mean, stdev):\n",
    "    return np.exp(-((x - mean)**2)/(2 * (stdev**2)))/(np.sqrt(2 * np.pi) * stdev)"
   ]
  },
  {
   "cell_type": "code",
   "execution_count": 209,
   "metadata": {
    "collapsed": false
   },
   "outputs": [
    {
     "data": {
      "text/plain": [
       "array([ 0.04070852,  0.06610774,  0.09509936,  0.12118842,  0.13680528,\n",
       "        0.13680528,  0.12118842,  0.09509936,  0.06610774,  0.04070852])"
      ]
     },
     "execution_count": 209,
     "metadata": {},
     "output_type": "execute_result"
    }
   ],
   "source": [
    "calc_gaussian([0,1,2,3,4,5,6,7,8,9], np.mean([0,1,2,3,4,5,6,7,8,9]), calc_stdev([0,1,2,3,4,5,6,7,8,9]))"
   ]
  },
  {
   "cell_type": "code",
   "execution_count": 120,
   "metadata": {
    "collapsed": false
   },
   "outputs": [
    {
     "data": {
      "text/plain": [
       "array([   4.86567164,  141.25746269,   70.82462687,   22.1641791 ,\n",
       "        100.3358209 ,   35.14253731,    0.5505    ,   37.06716418])"
      ]
     },
     "execution_count": 120,
     "metadata": {},
     "output_type": "execute_result"
    }
   ],
   "source": [
    "np.mean(np.array(dataset)[np.array(labels) == 1], axis=0)"
   ]
  },
  {
   "cell_type": "code",
   "execution_count": 134,
   "metadata": {
    "collapsed": false
   },
   "outputs": [
    {
     "data": {
      "text/plain": [
       "array([   3.7342526 ,   31.87997752,   21.45167751,   17.64669604,\n",
       "        138.43013454,    7.24940427,    0.37165914,   10.94777137])"
      ]
     },
     "execution_count": 134,
     "metadata": {},
     "output_type": "execute_result"
    }
   ],
   "source": [
    "np.std(np.array(dataset)[np.array(labels) == 1], axis=0)"
   ]
  },
  {
   "cell_type": "code",
   "execution_count": 180,
   "metadata": {
    "collapsed": true
   },
   "outputs": [],
   "source": [
    "def bayes_model(dataset, labels):\n",
    "    model = {}\n",
    "    p_x = (np.mean(dataset, axis=0), np.std(dataset, axis=0))\n",
    "    for label in set(labels):\n",
    "        sub_dataset = np.array(dataset)[np.array(labels) == label]\n",
    "        model[label] = (np.mean(sub_dataset, axis=0), np.std(sub_dataset, axis=0), np.sum(labels == label)/len(labels))\n",
    "    return model, p_x"
   ]
  },
  {
   "cell_type": "code",
   "execution_count": 184,
   "metadata": {
    "collapsed": false
   },
   "outputs": [
    {
     "data": {
      "text/plain": [
       "{0: (array([   3.298   ,  109.98    ,   68.184   ,   19.664   ,   68.792   ,\n",
       "           30.3042  ,    0.429734,   31.19    ]),\n",
       "  array([  3.01416589,  26.11504547,  18.0450033 ,  14.87504971,\n",
       "          98.76637452,   7.68216131,   0.29878607,  11.6559813 ]),\n",
       "  0.65104166666666663),\n",
       " 1: (array([   4.86567164,  141.25746269,   70.82462687,   22.1641791 ,\n",
       "          100.3358209 ,   35.14253731,    0.5505    ,   37.06716418]),\n",
       "  array([   3.7342526 ,   31.87997752,   21.45167751,   17.64669604,\n",
       "          138.43013454,    7.24940427,    0.37165914,   10.94777137]),\n",
       "  0.34895833333333331)}"
      ]
     },
     "execution_count": 184,
     "metadata": {},
     "output_type": "execute_result"
    }
   ],
   "source": [
    "model, px_model = bayes_model(dataset, labels)\n",
    "model"
   ]
  },
  {
   "cell_type": "code",
   "execution_count": 185,
   "metadata": {
    "collapsed": false
   },
   "outputs": [
    {
     "data": {
      "text/plain": [
       "(0      3.845052\n",
       " 1    120.894531\n",
       " 2     69.105469\n",
       " 3     20.536458\n",
       " 4     79.799479\n",
       " 5     31.992578\n",
       " 6      0.471876\n",
       " 7     33.240885\n",
       " dtype: float64, 0      3.367384\n",
       " 1     31.951796\n",
       " 2     19.343202\n",
       " 3     15.941829\n",
       " 4    115.168949\n",
       " 5      7.879026\n",
       " 6      0.331113\n",
       " 7     11.752573\n",
       " dtype: float64)"
      ]
     },
     "execution_count": 185,
     "metadata": {},
     "output_type": "execute_result"
    }
   ],
   "source": [
    "px_model"
   ]
  },
  {
   "cell_type": "code",
   "execution_count": 201,
   "metadata": {
    "collapsed": false
   },
   "outputs": [],
   "source": [
    "def bayes_predict(x, model, p_x_model):\n",
    "    ret = {}\n",
    "    '''\n",
    "    prob_x = 1\n",
    "    for prob in calc_gaussian(x, p_x_model[0], p_x_model[1]):\n",
    "        prob_x = prob_x * prob\n",
    "    '''\n",
    "    for label in model.keys():\n",
    "        ret[label] = 1\n",
    "        mean, std, p_c = model[label]\n",
    "        #p(ci|x) = p(x|ci) * p(c) / p(x)\n",
    "        for prob in calc_gaussian(x, mean, std): #note that gaussian is not a exact prob, but it is a likehood function\n",
    "            ret[label] = ret[label] * prob\n",
    "        ret[label] = ret[label] * p_c #p(x|ci) * p(c)\n",
    "        #ret[label] = ret[label] / prob_x #p(x|ci) * p(c) / p(x)\n",
    "        #but p(x) is same for a input x, so that p(x) would not affect the result of max prob of label\n",
    "    return ret"
   ]
  },
  {
   "cell_type": "code",
   "execution_count": 211,
   "metadata": {
    "collapsed": false
   },
   "outputs": [
    {
     "data": {
      "text/plain": [
       "{0: 0.30625006209423733, 1: 0.62600361643987723}"
      ]
     },
     "execution_count": 211,
     "metadata": {},
     "output_type": "execute_result"
    }
   ],
   "source": [
    "bayes_predict(dataset.iloc[0], model, px_model)"
   ]
  },
  {
   "cell_type": "code",
   "execution_count": 204,
   "metadata": {
    "collapsed": false
   },
   "outputs": [],
   "source": [
    "pre_label = []\n",
    "for i in range(len(dataset)):\n",
    "    best_prob = 0\n",
    "    prob = bayes_predict(dataset.iloc[i], model, px_model)\n",
    "    for label in prob.keys():\n",
    "        if prob[label] > best_prob:\n",
    "            best_prob = prob[label]\n",
    "            best_label = label\n",
    "    pre_label.append(best_label)"
   ]
  },
  {
   "cell_type": "code",
   "execution_count": 205,
   "metadata": {
    "collapsed": false
   },
   "outputs": [
    {
     "data": {
      "text/plain": [
       "0.76302083333333337"
      ]
     },
     "execution_count": 205,
     "metadata": {},
     "output_type": "execute_result"
    }
   ],
   "source": [
    "np.sum(pre_label == labels)/len(labels)"
   ]
  }
 ],
 "metadata": {
  "anaconda-cloud": {},
  "kernelspec": {
   "display_name": "Python [python3]",
   "language": "python",
   "name": "Python [python3]"
  },
  "language_info": {
   "codemirror_mode": {
    "name": "ipython",
    "version": 3
   },
   "file_extension": ".py",
   "mimetype": "text/x-python",
   "name": "python",
   "nbconvert_exporter": "python",
   "pygments_lexer": "ipython3",
   "version": "3.6.0"
  }
 },
 "nbformat": 4,
 "nbformat_minor": 0
}
